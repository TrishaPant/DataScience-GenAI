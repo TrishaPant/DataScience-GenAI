{
 "cells": [
  {
   "cell_type": "markdown",
   "id": "d67c7f05",
   "metadata": {},
   "source": [
    "# Measure of Central Tendency"
   ]
  },
  {
   "cell_type": "code",
   "execution_count": 1,
   "id": "442bbc5b",
   "metadata": {},
   "outputs": [
    {
     "name": "stdout",
     "output_type": "stream",
     "text": [
      "Requirement already satisfied: scipy in c:\\users\\trish\\anaconda3\\lib\\site-packages (1.15.2)\n",
      "Requirement already satisfied: numpy<2.5,>=1.23.5 in c:\\users\\trish\\anaconda3\\lib\\site-packages (from scipy) (1.26.4)\n"
     ]
    }
   ],
   "source": [
    "!pip install scipy"
   ]
  },
  {
   "cell_type": "code",
   "execution_count": 2,
   "id": "017ffdfd",
   "metadata": {},
   "outputs": [],
   "source": [
    "import numpy as np\n",
    "from scipy import stats"
   ]
  },
  {
   "cell_type": "code",
   "execution_count": 3,
   "id": "c432388b",
   "metadata": {},
   "outputs": [],
   "source": [
    "data = [10, 20, 30, 40, 50, 60, 60, 60, 60, 70, 80, 90, 90, 90, 90, 100]"
   ]
  },
  {
   "cell_type": "code",
   "execution_count": 4,
   "id": "92efcae4",
   "metadata": {},
   "outputs": [
    {
     "name": "stdout",
     "output_type": "stream",
     "text": [
      "62.5\n"
     ]
    }
   ],
   "source": [
    "print(np.mean(data))"
   ]
  },
  {
   "cell_type": "code",
   "execution_count": 5,
   "id": "f5d5f1f9",
   "metadata": {},
   "outputs": [
    {
     "name": "stdout",
     "output_type": "stream",
     "text": [
      "60.0\n"
     ]
    }
   ],
   "source": [
    "print(np.median(data))"
   ]
  },
  {
   "cell_type": "code",
   "execution_count": 6,
   "id": "4cd6cca6",
   "metadata": {},
   "outputs": [],
   "source": [
    "mode_via_scipy = stats.mode(data)"
   ]
  },
  {
   "cell_type": "code",
   "execution_count": 7,
   "id": "13b8fb83",
   "metadata": {},
   "outputs": [
    {
     "data": {
      "text/plain": [
       "60"
      ]
     },
     "execution_count": 7,
     "metadata": {},
     "output_type": "execute_result"
    }
   ],
   "source": [
    "mode_via_scipy[0]"
   ]
  },
  {
   "cell_type": "code",
   "execution_count": 8,
   "id": "d1a571d8",
   "metadata": {},
   "outputs": [
    {
     "data": {
      "text/plain": [
       "4"
      ]
     },
     "execution_count": 8,
     "metadata": {},
     "output_type": "execute_result"
    }
   ],
   "source": [
    "mode_via_scipy[1]"
   ]
  },
  {
   "cell_type": "markdown",
   "id": "a74c2a9d",
   "metadata": {},
   "source": [
    "# IQR"
   ]
  },
  {
   "cell_type": "code",
   "execution_count": 9,
   "id": "76ff39b9",
   "metadata": {},
   "outputs": [],
   "source": [
    "scores = [60, 70, 75, 80, 85, 90, 95]"
   ]
  },
  {
   "cell_type": "code",
   "execution_count": 10,
   "id": "d73f862b",
   "metadata": {},
   "outputs": [],
   "source": [
    "q1 = np.percentile(scores, 25) # Q1\n",
    "q3 = np.percentile(scores, 75) # Q3"
   ]
  },
  {
   "cell_type": "code",
   "execution_count": 11,
   "id": "206bbda3",
   "metadata": {},
   "outputs": [
    {
     "data": {
      "text/plain": [
       "72.5"
      ]
     },
     "execution_count": 11,
     "metadata": {},
     "output_type": "execute_result"
    }
   ],
   "source": [
    "(70+ 75)/2"
   ]
  },
  {
   "cell_type": "code",
   "execution_count": 12,
   "id": "836e873e",
   "metadata": {},
   "outputs": [],
   "source": [
    "IQR = q3-q1 # tells us how spread data is in the middle 50% of the data"
   ]
  },
  {
   "cell_type": "code",
   "execution_count": 13,
   "id": "8d0b4b84",
   "metadata": {},
   "outputs": [
    {
     "name": "stdout",
     "output_type": "stream",
     "text": [
      "15.0\n"
     ]
    }
   ],
   "source": [
    "print(IQR)"
   ]
  },
  {
   "cell_type": "code",
   "execution_count": 14,
   "id": "114e72d3",
   "metadata": {},
   "outputs": [],
   "source": [
    "data = [1,2,3,4,5,6,7,8,9,10]"
   ]
  },
  {
   "cell_type": "code",
   "execution_count": 15,
   "id": "e1d37d6e",
   "metadata": {},
   "outputs": [],
   "source": [
    "q1 = np.percentile(data, 25)\n",
    "q3 = np.percentile(data, 75)"
   ]
  },
  {
   "cell_type": "code",
   "execution_count": 16,
   "id": "0ec8a755",
   "metadata": {},
   "outputs": [
    {
     "name": "stdout",
     "output_type": "stream",
     "text": [
      "3.25 7.75\n"
     ]
    }
   ],
   "source": [
    "print(q1, q3)"
   ]
  },
  {
   "cell_type": "code",
   "execution_count": 17,
   "id": "223bcf8d",
   "metadata": {},
   "outputs": [
    {
     "name": "stdout",
     "output_type": "stream",
     "text": [
      "4.5\n"
     ]
    }
   ],
   "source": [
    "IQR = q3-q1\n",
    "print(IQR)"
   ]
  },
  {
   "cell_type": "markdown",
   "id": "774321db",
   "metadata": {},
   "source": [
    "# Linear Interpolation"
   ]
  },
  {
   "cell_type": "code",
   "execution_count": 18,
   "id": "e4b84a22",
   "metadata": {},
   "outputs": [],
   "source": [
    "# DEEPER\n",
    "data = np.array([1, 2, 3, 4, 5, 6, 7, 8, 9, 10])"
   ]
  },
  {
   "cell_type": "code",
   "execution_count": 19,
   "id": "d6fea071",
   "metadata": {},
   "outputs": [
    {
     "name": "stdout",
     "output_type": "stream",
     "text": [
      "Linear Interpolation: Q1 = 3.25, Q3 = 7.75\n"
     ]
    }
   ],
   "source": [
    "q1_linear = np.percentile(data, 25, method='linear')\n",
    "q3_linear = np.percentile(data, 75, method='linear')\n",
    "print(f\"Linear Interpolation: Q1 = {q1_linear}, Q3 = {q3_linear}\")"
   ]
  },
  {
   "cell_type": "code",
   "execution_count": 20,
   "id": "4ac348a5",
   "metadata": {},
   "outputs": [
    {
     "name": "stdout",
     "output_type": "stream",
     "text": [
      "Linear Interpolation: Q1 = 3, Q3 = 7\n"
     ]
    }
   ],
   "source": [
    "q1_linear = np.percentile(data, 25, method='lower')\n",
    "q3_linear = np.percentile(data, 75, method='lower')\n",
    "print(f\"Linear Interpolation: Q1 = {q1_linear}, Q3 = {q3_linear}\")"
   ]
  },
  {
   "cell_type": "code",
   "execution_count": 21,
   "id": "3ca337c5",
   "metadata": {},
   "outputs": [
    {
     "name": "stdout",
     "output_type": "stream",
     "text": [
      "Linear Interpolation: Q1 = 3, Q3 = 8\n"
     ]
    }
   ],
   "source": [
    "q1_linear = np.percentile(data, 25, method='lower')\n",
    "q3_linear = np.percentile(data, 75, method='higher')\n",
    "print(f\"Linear Interpolation: Q1 = {q1_linear}, Q3 = {q3_linear}\")"
   ]
  },
  {
   "cell_type": "code",
   "execution_count": 22,
   "id": "04aa22de",
   "metadata": {},
   "outputs": [
    {
     "name": "stdout",
     "output_type": "stream",
     "text": [
      "Linear Interpolation: Q1 = 3.5, Q3 = 7.5\n"
     ]
    }
   ],
   "source": [
    "q1_linear = np.percentile(data, 25, method='midpoint')\n",
    "q3_linear = np.percentile(data, 75, method='midpoint')\n",
    "print(f\"Linear Interpolation: Q1 = {q1_linear}, Q3 = {q3_linear}\")"
   ]
  },
  {
   "cell_type": "markdown",
   "id": "a065b0a9",
   "metadata": {},
   "source": [
    "# Set"
   ]
  },
  {
   "cell_type": "code",
   "execution_count": 23,
   "id": "e61c72a3",
   "metadata": {},
   "outputs": [
    {
     "name": "stdout",
     "output_type": "stream",
     "text": [
      "<class 'set'>\n"
     ]
    }
   ],
   "source": [
    "A = {1,2,3,4}\n",
    "B = {3,4,5,6}\n",
    "print(type(A))"
   ]
  },
  {
   "cell_type": "code",
   "execution_count": 24,
   "id": "be06b668",
   "metadata": {},
   "outputs": [
    {
     "data": {
      "text/plain": [
       "{1, 2, 3, 4, 5, 6}"
      ]
     },
     "execution_count": 24,
     "metadata": {},
     "output_type": "execute_result"
    }
   ],
   "source": [
    "A.union(B)"
   ]
  },
  {
   "cell_type": "code",
   "execution_count": 25,
   "id": "a3cea9d5",
   "metadata": {},
   "outputs": [
    {
     "data": {
      "text/plain": [
       "{3, 4}"
      ]
     },
     "execution_count": 25,
     "metadata": {},
     "output_type": "execute_result"
    }
   ],
   "source": [
    "A.intersection(B)"
   ]
  },
  {
   "cell_type": "code",
   "execution_count": 26,
   "id": "955a4aa0",
   "metadata": {},
   "outputs": [
    {
     "data": {
      "text/plain": [
       "{1, 2}"
      ]
     },
     "execution_count": 26,
     "metadata": {},
     "output_type": "execute_result"
    }
   ],
   "source": [
    "A.difference(B)"
   ]
  },
  {
   "cell_type": "code",
   "execution_count": 27,
   "id": "197dc256",
   "metadata": {},
   "outputs": [
    {
     "data": {
      "text/plain": [
       "{5, 6}"
      ]
     },
     "execution_count": 27,
     "metadata": {},
     "output_type": "execute_result"
    }
   ],
   "source": [
    "B.difference(A)"
   ]
  },
  {
   "cell_type": "markdown",
   "id": "a7ad332f",
   "metadata": {},
   "source": [
    "# IQR "
   ]
  },
  {
   "cell_type": "code",
   "execution_count": 28,
   "id": "47cf5c89",
   "metadata": {},
   "outputs": [],
   "source": [
    "import matplotlib.pyplot as plt"
   ]
  },
  {
   "cell_type": "code",
   "execution_count": 29,
   "id": "c825476b",
   "metadata": {},
   "outputs": [],
   "source": [
    "data = list(range(1,11))"
   ]
  },
  {
   "cell_type": "code",
   "execution_count": 30,
   "id": "7519c002",
   "metadata": {},
   "outputs": [],
   "source": [
    "data.append(90)"
   ]
  },
  {
   "cell_type": "code",
   "execution_count": 31,
   "id": "8b108e63",
   "metadata": {},
   "outputs": [
    {
     "data": {
      "text/plain": [
       "[1, 2, 3, 4, 5, 6, 7, 8, 9, 10, 90]"
      ]
     },
     "execution_count": 31,
     "metadata": {},
     "output_type": "execute_result"
    }
   ],
   "source": [
    "data"
   ]
  },
  {
   "cell_type": "code",
   "execution_count": 32,
   "id": "39e5dbae",
   "metadata": {},
   "outputs": [
    {
     "data": {
      "text/plain": [
       "{'whiskers': [<matplotlib.lines.Line2D at 0x1d198893920>,\n",
       "  <matplotlib.lines.Line2D at 0x1d198893b30>],\n",
       " 'caps': [<matplotlib.lines.Line2D at 0x1d198893e30>,\n",
       "  <matplotlib.lines.Line2D at 0x1d1988bc1a0>],\n",
       " 'boxes': [<matplotlib.lines.Line2D at 0x1d1988936b0>],\n",
       " 'medians': [<matplotlib.lines.Line2D at 0x1d1988bc4a0>],\n",
       " 'fliers': [<matplotlib.lines.Line2D at 0x1d1988bc7d0>],\n",
       " 'means': []}"
      ]
     },
     "execution_count": 32,
     "metadata": {},
     "output_type": "execute_result"
    },
    {
     "data": {
      "image/png": "[encoded data removed]",
      "text/plain": [
       "<Figure size 640x480 with 1 Axes>"
      ]
     },
     "metadata": {},
     "output_type": "display_data"
    }
   ],
   "source": [
    "plt.boxplot(data) # Q1, Q2, Q3"
   ]
  }
 ],
 "metadata": {
  "kernelspec": {
   "display_name": "base",
   "language": "python",
   "name": "python3"
  },
  "language_info": {
   "codemirror_mode": {
    "name": "ipython",
    "version": 3
   },
   "file_extension": ".py",
   "mimetype": "text/x-python",
   "name": "python",
   "nbconvert_exporter": "python",
   "pygments_lexer": "ipython3",
   "version": "3.12.7"
  }
 },
 "nbformat": 4,
 "nbformat_minor": 5
}
