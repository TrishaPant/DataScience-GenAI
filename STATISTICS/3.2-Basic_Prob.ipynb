{
 "cells": [
  {
   "cell_type": "code",
   "execution_count": 1,
   "id": "b5f75b23",
   "metadata": {},
   "outputs": [],
   "source": [
    "import itertools\n",
    "# Used to create combinations"
   ]
  },
  {
   "cell_type": "markdown",
   "id": "bfab3b40",
   "metadata": {},
   "source": [
    "# Tossing 3 Coins\n",
    "# Event : Atleast 2 Heads"
   ]
  },
  {
   "cell_type": "code",
   "execution_count": 2,
   "id": "67561a8d",
   "metadata": {},
   "outputs": [],
   "source": [
    "coin_outcomes = ['H', 'T']"
   ]
  },
  {
   "cell_type": "code",
   "execution_count": 3,
   "id": "c32c538a",
   "metadata": {},
   "outputs": [
    {
     "name": "stdout",
     "output_type": "stream",
     "text": [
      "[('H', 'H', 'H'), ('H', 'H', 'T'), ('H', 'T', 'H'), ('H', 'T', 'T'), ('T', 'H', 'H'), ('T', 'H', 'T'), ('T', 'T', 'H'), ('T', 'T', 'T')]\n",
      "8\n"
     ]
    }
   ],
   "source": [
    "# Total outcomes\n",
    "print(list(itertools.product(coin_outcomes, repeat=3)))\n",
    "print(len(list(itertools.product(coin_outcomes, repeat=3))))\n",
    "\n",
    "# 'H', 'T'\n",
    "# 'T', 'H'\n",
    "# Order matters on the above case"
   ]
  },
  {
   "cell_type": "code",
   "execution_count": 4,
   "id": "6a1853a8",
   "metadata": {},
   "outputs": [
    {
     "data": {
      "text/plain": [
       "0"
      ]
     },
     "execution_count": 4,
     "metadata": {},
     "output_type": "execute_result"
    }
   ],
   "source": [
    "('H', 'H', 'H').count('T')"
   ]
  },
  {
   "cell_type": "code",
   "execution_count": 5,
   "id": "bb65c0a5",
   "metadata": {},
   "outputs": [
    {
     "data": {
      "text/plain": [
       "3"
      ]
     },
     "execution_count": 5,
     "metadata": {},
     "output_type": "execute_result"
    }
   ],
   "source": [
    "('H', 'H', 'H').count('H')"
   ]
  },
  {
   "cell_type": "code",
   "execution_count": 6,
   "id": "4c5f05f1",
   "metadata": {},
   "outputs": [
    {
     "name": "stdout",
     "output_type": "stream",
     "text": [
      "[('H', 'H', 'H'), ('H', 'H', 'T'), ('H', 'T', 'H'), ('T', 'H', 'H')]\n"
     ]
    }
   ],
   "source": [
    "favorable_outcomes = []\n",
    "all_outcomes = list(itertools.product(coin_outcomes, repeat=3))\n",
    "for outcome in all_outcomes:\n",
    "    if outcome.count('H') >=2:\n",
    "        favorable_outcomes.append(outcome)\n",
    "\n",
    "print(favorable_outcomes)"
   ]
  },
  {
   "cell_type": "code",
   "execution_count": 7,
   "id": "0bd3b3b3",
   "metadata": {},
   "outputs": [
    {
     "data": {
      "text/plain": [
       "0.5"
      ]
     },
     "execution_count": 7,
     "metadata": {},
     "output_type": "execute_result"
    }
   ],
   "source": [
    "len(favorable_outcomes) / len(all_outcomes)"
   ]
  },
  {
   "cell_type": "markdown",
   "id": "1e5a8797",
   "metadata": {},
   "source": [
    "# Drawing 2 cards (without replacement)\n",
    "\n",
    "# Event : Both Ace"
   ]
  },
  {
   "cell_type": "code",
   "execution_count": 8,
   "id": "de1a37b5",
   "metadata": {},
   "outputs": [
    {
     "name": "stdout",
     "output_type": "stream",
     "text": [
      "0.004524886877828055\n"
     ]
    }
   ],
   "source": [
    "num_aces = 4\n",
    "total_cards = 52\n",
    "\n",
    "prob_first_ace = num_aces / total_cards\n",
    "\n",
    "num_aces_after_first = num_aces - 1\n",
    "total_cards_after_first = total_cards - 1\n",
    "\n",
    "prob_second_ace = num_aces_after_first / total_cards_after_first\n",
    "\n",
    "overall_prob = prob_first_ace * prob_second_ace\n",
    "\n",
    "print(overall_prob)"
   ]
  },
  {
   "cell_type": "code",
   "execution_count": 9,
   "id": "dd344add",
   "metadata": {},
   "outputs": [],
   "source": [
    "from fractions import Fraction"
   ]
  },
  {
   "cell_type": "code",
   "execution_count": 10,
   "id": "841f7c25",
   "metadata": {},
   "outputs": [
    {
     "name": "stdout",
     "output_type": "stream",
     "text": [
      "1/221\n"
     ]
    }
   ],
   "source": [
    "fraction_prob = Fraction(overall_prob).limit_denominator(1000)\n",
    "print(fraction_prob)"
   ]
  },
  {
   "cell_type": "markdown",
   "id": "165ebe98",
   "metadata": {},
   "source": [
    "# Simulate Prob\n",
    "\n",
    "Drawing 2 cards (without replacement)\n",
    "\n",
    "Event : Both Ace -->"
   ]
  },
  {
   "cell_type": "code",
   "execution_count": 11,
   "id": "47b38527",
   "metadata": {},
   "outputs": [],
   "source": [
    "import random"
   ]
  },
  {
   "cell_type": "code",
   "execution_count": 12,
   "id": "929996aa",
   "metadata": {},
   "outputs": [],
   "source": [
    "def simulate_2_card_with_replacemnt(num_of_simulation):\n",
    "    successful_draw = 0\n",
    "\n",
    "    for _ in range(num_of_simulation):\n",
    "        deck = ['Ace'] * 4 + ['Other'] * 48\n",
    "        first_card_index = random.randrange(len(deck)) # 0 to 51\n",
    "        first_card = deck.pop(first_card_index)\n",
    "        #a = [ 1,2,3,4]\n",
    "        # a.pop(0) --> 1\n",
    "        # a = [2,3,4]\n",
    "        if first_card == 'Ace':\n",
    "            second_card_index = random.randrange(len(deck)) # 0 to 51\n",
    "            second_card = deck.pop(second_card_index)\n",
    "\n",
    "            if second_card == 'Ace':\n",
    "                successful_draw+=1\n",
    "\n",
    "    return successful_draw / num_of_simulation"
   ]
  },
  {
   "cell_type": "code",
   "execution_count": 13,
   "id": "cc523ea0",
   "metadata": {},
   "outputs": [
    {
     "name": "stdout",
     "output_type": "stream",
     "text": [
      "0.00453678\n"
     ]
    }
   ],
   "source": [
    "print(simulate_2_card_with_replacemnt(100000000))"
   ]
  },
  {
   "cell_type": "code",
   "execution_count": 14,
   "id": "a85bc775",
   "metadata": {},
   "outputs": [
    {
     "name": "stdout",
     "output_type": "stream",
     "text": [
      "1/6\n"
     ]
    }
   ],
   "source": [
    "# P.S : probability of sum = 7 with two dice\n",
    "\n",
    "dice = [1,2,3,4,5,6]\n",
    "\n",
    "sample_space = list(itertools.product(dice, repeat=2))\n",
    "\n",
    "favourable = [outcome for outcome in sample_space if sum(outcome)==7]\n",
    "\n",
    "print(Fraction(len(favourable) / len(sample_space)).limit_denominator(10))"
   ]
  },
  {
   "cell_type": "markdown",
   "id": "980d518c",
   "metadata": {},
   "source": [
    "# MEASURE OF DISPERSION"
   ]
  },
  {
   "cell_type": "markdown",
   "id": "c0a6d4a6",
   "metadata": {},
   "source": [
    "# PMF & PDF"
   ]
  },
  {
   "cell_type": "code",
   "execution_count": 15,
   "id": "5ddd1306",
   "metadata": {},
   "outputs": [],
   "source": [
    "def pmf_dice(face_of_dice):\n",
    "    if face_of_dice in [1,2,3,4,5,6]:\n",
    "        return 1/6\n",
    "    else:\n",
    "        return 0"
   ]
  },
  {
   "cell_type": "code",
   "execution_count": 16,
   "id": "ac1320c5",
   "metadata": {},
   "outputs": [
    {
     "data": {
      "text/plain": [
       "0.16666666666666666"
      ]
     },
     "execution_count": 16,
     "metadata": {},
     "output_type": "execute_result"
    }
   ],
   "source": [
    "pmf_dice(1)"
   ]
  },
  {
   "cell_type": "code",
   "execution_count": 17,
   "id": "8bd1e7ef",
   "metadata": {},
   "outputs": [],
   "source": [
    "import matplotlib.pyplot as plt\n",
    "from scipy.stats import norm\n",
    "import numpy as np"
   ]
  },
  {
   "cell_type": "code",
   "execution_count": 20,
   "id": "7c6cac42",
   "metadata": {},
   "outputs": [
    {
     "data": {
      "text/plain": [
       "[150, 155, 160, 165, 170, 175]"
      ]
     },
     "execution_count": 20,
     "metadata": {},
     "output_type": "execute_result"
    }
   ],
   "source": [
    "bins[:-1]"
   ]
  },
  {
   "cell_type": "code",
   "execution_count": 19,
   "id": "912f9850",
   "metadata": {},
   "outputs": [
    {
     "data": {
      "image/png": "[encoded data removed]",
      "text/plain": [
       "<Figure size 640x480 with 1 Axes>"
      ]
     },
     "metadata": {},
     "output_type": "display_data"
    }
   ],
   "source": [
    "bins = [150, 155, 160, 165, 170, 175, 180]\n",
    "pdf_values = [0.01, 0, 0.03, 0.06, 0.06, 0.04]\n",
    "\n",
    "plt.bar(bins[:-1], pdf_values, width=5, edgecolor='black', alpha=0.8)\n",
    "\n",
    "plt.title(\"PDF of Height\")\n",
    "plt.xlabel(\"height(cm)\")\n",
    "plt.ylabel(\"PDF density value\")\n",
    "plt.show()"
   ]
  },
  {
   "cell_type": "code",
   "execution_count": 21,
   "id": "9410cc75",
   "metadata": {},
   "outputs": [],
   "source": [
    "# Data\n",
    "heights = [162, 168, 171, 154, 175, 178, 165, 169, 172, 160, \n",
    "           167, 173, 170, 176, 164, 179, 166, 170, 174, 168]"
   ]
  },
  {
   "cell_type": "code",
   "execution_count": 22,
   "id": "87e6ab3c",
   "metadata": {},
   "outputs": [
    {
     "name": "stdout",
     "output_type": "stream",
     "text": [
      "169.05\n",
      "6.053717865906869\n"
     ]
    }
   ],
   "source": [
    "mean = np.mean(heights)\n",
    "std = np.std(heights)\n",
    "print(mean)\n",
    "print(std)"
   ]
  },
  {
   "cell_type": "markdown",
   "id": "54921bcf",
   "metadata": {},
   "source": [
    "# CDF"
   ]
  },
  {
   "cell_type": "code",
   "execution_count": 23,
   "id": "060b397e",
   "metadata": {},
   "outputs": [
    {
     "name": "stdout",
     "output_type": "stream",
     "text": [
      "[150.         150.4040404  150.80808081 151.21212121 151.61616162\n",
      " 152.02020202 152.42424242 152.82828283 153.23232323 153.63636364\n",
      " 154.04040404 154.44444444 154.84848485 155.25252525 155.65656566\n",
      " 156.06060606 156.46464646 156.86868687 157.27272727 157.67676768\n",
      " 158.08080808 158.48484848 158.88888889 159.29292929 159.6969697\n",
      " 160.1010101  160.50505051 160.90909091 161.31313131 161.71717172\n",
      " 162.12121212 162.52525253 162.92929293 163.33333333 163.73737374\n",
      " 164.14141414 164.54545455 164.94949495 165.35353535 165.75757576\n",
      " 166.16161616 166.56565657 166.96969697 167.37373737 167.77777778\n",
      " 168.18181818 168.58585859 168.98989899 169.39393939 169.7979798\n",
      " 170.2020202  170.60606061 171.01010101 171.41414141 171.81818182\n",
      " 172.22222222 172.62626263 173.03030303 173.43434343 173.83838384\n",
      " 174.24242424 174.64646465 175.05050505 175.45454545 175.85858586\n",
      " 176.26262626 176.66666667 177.07070707 177.47474747 177.87878788\n",
      " 178.28282828 178.68686869 179.09090909 179.49494949 179.8989899\n",
      " 180.3030303  180.70707071 181.11111111 181.51515152 181.91919192\n",
      " 182.32323232 182.72727273 183.13131313 183.53535354 183.93939394\n",
      " 184.34343434 184.74747475 185.15151515 185.55555556 185.95959596\n",
      " 186.36363636 186.76767677 187.17171717 187.57575758 187.97979798\n",
      " 188.38383838 188.78787879 189.19191919 189.5959596  190.        ]\n",
      "100\n"
     ]
    }
   ],
   "source": [
    "# CDF Calculation and Plot\n",
    "x = np.linspace(150, 190, 100)\n",
    "# 150 mininum\n",
    "# 190 is my largest values\n",
    "# 100 number of data\n",
    "\n",
    "print(x)\n",
    "print(len(x))"
   ]
  },
  {
   "cell_type": "code",
   "execution_count": 24,
   "id": "1d503803",
   "metadata": {},
   "outputs": [],
   "source": [
    "cdf = norm.cdf(x, mean, std)\n",
    "# PROB = AREA = PDF_value * bin_width"
   ]
  },
  {
   "cell_type": "code",
   "execution_count": 25,
   "id": "c4a83cce",
   "metadata": {},
   "outputs": [
    {
     "data": {
      "image/png": "[encoded data removed]",
      "text/plain": [
       "<Figure size 640x480 with 1 Axes>"
      ]
     },
     "metadata": {},
     "output_type": "display_data"
    }
   ],
   "source": [
    "plt.plot(x, cdf, 'r-', label=f\"CDF (μ={mean:.1f}, σ={std:.1f})\")\n",
    "plt.title(\"CDF of Heights\")\n",
    "plt.xlabel(\"Height (cm)\")\n",
    "plt.ylabel(\"Cumulative Probability (P ≤ X)\")\n",
    "plt.legend()\n",
    "plt.grid(True)\n",
    "plt.show()"
   ]
  },
  {
   "cell_type": "code",
   "execution_count": 26,
   "id": "3df84d6d",
   "metadata": {},
   "outputs": [
    {
     "name": "stdout",
     "output_type": "stream",
     "text": [
      "P(165<=X<=170) is : 0.3106049115389782\n"
     ]
    }
   ],
   "source": [
    "p_165_170 = norm.cdf(170, mean, std) - norm.cdf(165, mean, std)\n",
    "print(f\"P(165<=X<=170) is : {p_165_170}\")"
   ]
  },
  {
   "cell_type": "code",
   "execution_count": 27,
   "id": "9057fe62",
   "metadata": {},
   "outputs": [
    {
     "name": "stdout",
     "output_type": "stream",
     "text": [
      "P(165<=X<=170) is : 0.5952377341238007\n"
     ]
    }
   ],
   "source": [
    "p_165_170 = norm.cdf(172.001, mean, std) - norm.cdf(161.00003, mean, std)\n",
    "print(f\"P(165<=X<=170) is : {p_165_170}\")"
   ]
  }
 ],
 "metadata": {
  "kernelspec": {
   "display_name": "base",
   "language": "python",
   "name": "python3"
  },
  "language_info": {
   "codemirror_mode": {
    "name": "ipython",
    "version": 3
   },
   "file_extension": ".py",
   "mimetype": "text/x-python",
   "name": "python",
   "nbconvert_exporter": "python",
   "pygments_lexer": "ipython3",
   "version": "3.12.7"
  }
 },
 "nbformat": 4,
 "nbformat_minor": 5
}
