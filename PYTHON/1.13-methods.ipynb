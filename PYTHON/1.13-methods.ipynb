{
 "cells": [
  {
   "cell_type": "code",
   "execution_count": 1,
   "id": "bfc24754",
   "metadata": {},
   "outputs": [],
   "source": [
    "# 1. init\n",
    "\n",
    "class Person:\n",
    "    def __init__(self, name):\n",
    "        self.name = name\n",
    "    \n",
    "    def print_var(self):\n",
    "        print(self.name)"
   ]
  },
  {
   "cell_type": "code",
   "execution_count": 2,
   "id": "fd020fa8",
   "metadata": {},
   "outputs": [],
   "source": [
    "p_init = Person(\"Monal\")"
   ]
  },
  {
   "cell_type": "code",
   "execution_count": 3,
   "id": "fd460462",
   "metadata": {},
   "outputs": [
    {
     "name": "stdout",
     "output_type": "stream",
     "text": [
      "Monal\n"
     ]
    }
   ],
   "source": [
    "p_init.print_var()"
   ]
  },
  {
   "cell_type": "code",
   "execution_count": 4,
   "id": "4f86ce86",
   "metadata": {},
   "outputs": [],
   "source": [
    "# 2. str\n",
    "\n",
    "class Person:\n",
    "    def __init__(self, name):\n",
    "        self.name = name\n",
    "        \n",
    "    \n",
    "    def __str__(self):\n",
    "        return f\"Person object has these values : {self.name}\"\n"
   ]
  },
  {
   "cell_type": "code",
   "execution_count": 5,
   "metadata": {},
   "outputs": [],
   "source": [
    "p_str = Person(\"Monal\")"
   ]
  },
  {
   "cell_type": "code",
   "execution_count": 6,
   "id": "9418f4f0",
   "metadata": {},
   "outputs": [
    {
     "name": "stdout",
     "output_type": "stream",
     "text": [
      "Person object has these values : Monal\n"
     ]
    }
   ],
   "source": [
    "print(p_str)"
   ]
  },
  {
   "cell_type": "code",
   "execution_count": 7,
   "id": "352b3658",
   "metadata": {},
   "outputs": [
    {
     "name": "stdout",
     "output_type": "stream",
     "text": [
      "Person object has these values : Monal\n"
     ]
    }
   ],
   "source": [
    "print(p_str.__str__())"
   ]
  },
  {
   "cell_type": "code",
   "execution_count": 8,
   "id": "4828e323",
   "metadata": {},
   "outputs": [],
   "source": [
    "# 3. repr : formal developer focused string"
   ]
  },
  {
   "cell_type": "code",
   "execution_count": 9,
   "id": "5cc0aa20",
   "metadata": {},
   "outputs": [],
   "source": [
    "class Person:\n",
    "    def __init__(self, name):\n",
    "        self.name = name\n",
    "    \n",
    "    def __repr__(self):\n",
    "        return f\"Person('{self.name}')\"\n",
    "    \n",
    "    def __str__(self):\n",
    "        return f\"Person object has these values : {self.name}\"\n",
    "    \n",
    "    def add(self, a, b):\n",
    "        print(a+b)"
   ]
  },
  {
   "cell_type": "code",
   "execution_count": 12,
   "id": "a069b874",
   "metadata": {},
   "outputs": [],
   "source": [
    "p_repr = Person(\"Monal\")"
   ]
  },
  {
   "cell_type": "code",
   "execution_count": 13,
   "id": "297e04d1",
   "metadata": {},
   "outputs": [
    {
     "name": "stdout",
     "output_type": "stream",
     "text": [
      "Person object has these values : Monal\n"
     ]
    }
   ],
   "source": [
    "print(p_repr)"
   ]
  },
  {
   "cell_type": "code",
   "execution_count": 15,
   "id": "0efaf5a5",
   "metadata": {},
   "outputs": [
    {
     "name": "stdout",
     "output_type": "stream",
     "text": [
      "Person('Monal')\n"
     ]
    }
   ],
   "source": [
    "print(repr(p_repr))"
   ]
  },
  {
   "cell_type": "code",
   "execution_count": 16,
   "id": "83052d43",
   "metadata": {},
   "outputs": [],
   "source": [
    "class Abcd:\n",
    "    def __init__(self):\n",
    "        self.hello = \"hello world\"\n",
    "\n",
    "    def get_class_invocation(self, obj):\n",
    "        print(repr(obj))\n",
    "\n",
    "    def get_addition_obj_and_perform(self, obj, val1, val2):\n",
    "        obj.add(val1, val2)\n",
    "    \n",
    "    def a(self):\n",
    "        print(\"Dummy\")\n"
   ]
  },
  {
   "cell_type": "code",
   "execution_count": 17,
   "id": "28531321",
   "metadata": {},
   "outputs": [],
   "source": [
    "a = Abcd()"
   ]
  },
  {
   "cell_type": "code",
   "execution_count": 18,
   "id": "5f52fed9",
   "metadata": {},
   "outputs": [
    {
     "name": "stdout",
     "output_type": "stream",
     "text": [
      "Dummy\n"
     ]
    }
   ],
   "source": [
    "a.a()"
   ]
  },
  {
   "cell_type": "code",
   "execution_count": 19,
   "id": "d9a9bbe7",
   "metadata": {},
   "outputs": [
    {
     "name": "stdout",
     "output_type": "stream",
     "text": [
      "3\n"
     ]
    }
   ],
   "source": [
    "a.get_addition_obj_and_perform(p_repr, 1, 2)"
   ]
  },
  {
   "cell_type": "code",
   "execution_count": 20,
   "id": "14f2a777",
   "metadata": {},
   "outputs": [
    {
     "name": "stdout",
     "output_type": "stream",
     "text": [
      "Person('Monal')\n"
     ]
    }
   ],
   "source": [
    "a.get_class_invocation(p_repr)"
   ]
  },
  {
   "cell_type": "code",
   "execution_count": 21,
   "id": "80c9e161",
   "metadata": {},
   "outputs": [],
   "source": [
    "# 4. add\n",
    "\n",
    "class NewAdd:\n",
    "    def __init__(self, x, y):\n",
    "        self.x = x\n",
    "        self.y = y\n",
    "\n",
    "    def __repr__(self):\n",
    "        return f\"NewAdd({self.x}, {self.y})\"\n",
    "    \n",
    "    def __add__(self, other):\n",
    "        return (self.x+other.x, self.y+other.y)"
   ]
  },
  {
   "cell_type": "code",
   "execution_count": 22,
   "id": "b46c62a2",
   "metadata": {},
   "outputs": [],
   "source": [
    "p_add_1 = NewAdd(100, 200)\n",
    "p_add_2 = NewAdd(100, 200)"
   ]
  },
  {
   "cell_type": "code",
   "execution_count": 23,
   "id": "037e3b28",
   "metadata": {},
   "outputs": [
    {
     "data": {
      "text/plain": [
       "(200, 400)"
      ]
     },
     "execution_count": 23,
     "metadata": {},
     "output_type": "execute_result"
    }
   ],
   "source": [
    "p_add_1 + p_add_2"
   ]
  },
  {
   "cell_type": "code",
   "execution_count": 24,
   "id": "0e0ace30",
   "metadata": {},
   "outputs": [],
   "source": [
    "# 5. eq\n",
    "\n",
    "class NewAdd:\n",
    "    def __init__(self, x, y):\n",
    "        self.x = x\n",
    "        self.y = y\n",
    "\n",
    "    def __repr__(self):\n",
    "        return f\"NewAdd({self.x}, {self.y})\"\n",
    "    \n",
    "    def __eq__(self, other):\n",
    "        return self.x == other.x and self.y == other.y"
   ]
  },
  {
   "cell_type": "code",
   "execution_count": 25,
   "id": "5d21d393",
   "metadata": {},
   "outputs": [],
   "source": [
    "p_add_1 = NewAdd(100, 200)\n",
    "p_add_2 = NewAdd(100, 200)"
   ]
  },
  {
   "cell_type": "code",
   "execution_count": 26,
   "id": "63efd3e0",
   "metadata": {},
   "outputs": [
    {
     "data": {
      "text/plain": [
       "True"
      ]
     },
     "execution_count": 26,
     "metadata": {},
     "output_type": "execute_result"
    }
   ],
   "source": [
    "p_add_1 == p_add_2"
   ]
  },
  {
   "cell_type": "code",
   "execution_count": 27,
   "id": "715b46d1",
   "metadata": {},
   "outputs": [],
   "source": [
    "p_add_1 = NewAdd(101, 200)\n",
    "p_add_2 = NewAdd(100, 200)"
   ]
  },
  {
   "cell_type": "code",
   "execution_count": 28,
   "id": "da85df7b",
   "metadata": {},
   "outputs": [
    {
     "data": {
      "text/plain": [
       "False"
      ]
     },
     "execution_count": 28,
     "metadata": {},
     "output_type": "execute_result"
    }
   ],
   "source": [
    "p_add_1 == p_add_2"
   ]
  },
  {
   "cell_type": "code",
   "execution_count": 29,
   "id": "f5730e51",
   "metadata": {},
   "outputs": [],
   "source": [
    "#  6. len(self)\n",
    "\n",
    "class Values:\n",
    "    def __init__(self, items):\n",
    "        self.items = items\n",
    "\n",
    "    def __len__(self):\n",
    "        return len(self.items)"
   ]
  },
  {
   "cell_type": "code",
   "execution_count": 30,
   "id": "3f603369",
   "metadata": {},
   "outputs": [
    {
     "data": {
      "text/plain": [
       "6"
      ]
     },
     "execution_count": 30,
     "metadata": {},
     "output_type": "execute_result"
    }
   ],
   "source": [
    "a = [1,2,3,4,5,6]\n",
    "\n",
    "len(a)"
   ]
  },
  {
   "cell_type": "code",
   "execution_count": 31,
   "id": "7dfdc607",
   "metadata": {},
   "outputs": [
    {
     "ename": "TypeError",
     "evalue": "object of type 'NewAdd' has no len()",
     "output_type": "error",
     "traceback": [
      "\u001b[1;31m---------------------------------------------------------------------------\u001b[0m",
      "\u001b[1;31mTypeError\u001b[0m                                 Traceback (most recent call last)",
      "Cell \u001b[1;32mIn[31], line 2\u001b[0m\n\u001b[0;32m      1\u001b[0m a_new_add\u001b[38;5;241m=\u001b[39mNewAdd(\u001b[38;5;241m1\u001b[39m, \u001b[38;5;241m2\u001b[39m)\n\u001b[1;32m----> 2\u001b[0m \u001b[38;5;28mlen\u001b[39m(a_new_add)\n",
      "\u001b[1;31mTypeError\u001b[0m: object of type 'NewAdd' has no len()"
     ]
    }
   ],
   "source": [
    "a_new_add=NewAdd(1, 2)\n",
    "len(a_new_add)"
   ]
  },
  {
   "cell_type": "code",
   "execution_count": 32,
   "id": "dce8d896",
   "metadata": {},
   "outputs": [],
   "source": [
    "value_special = Values([1,2,3,4,5,5])"
   ]
  },
  {
   "cell_type": "code",
   "execution_count": 33,
   "id": "a2f1aff1",
   "metadata": {},
   "outputs": [
    {
     "data": {
      "text/plain": [
       "6"
      ]
     },
     "execution_count": 33,
     "metadata": {},
     "output_type": "execute_result"
    }
   ],
   "source": [
    "len(value_special)"
   ]
  },
  {
   "cell_type": "code",
   "execution_count": 34,
   "id": "dce81577",
   "metadata": {},
   "outputs": [],
   "source": [
    "# 7. getitem"
   ]
  },
  {
   "cell_type": "code",
   "execution_count": 35,
   "id": "dfb6c25b",
   "metadata": {},
   "outputs": [
    {
     "data": {
      "text/plain": [
       "1"
      ]
     },
     "execution_count": 35,
     "metadata": {},
     "output_type": "execute_result"
    }
   ],
   "source": [
    "a = [1,2,3,4,5,6]\n",
    "a[0]"
   ]
  },
  {
   "cell_type": "code",
   "execution_count": 36,
   "id": "42ada20c",
   "metadata": {},
   "outputs": [],
   "source": [
    "class Values:\n",
    "    def __init__(self, items):\n",
    "        self.items = items\n",
    "\n",
    "    def __getitem__(self, index):\n",
    "        return self.items[index]"
   ]
  },
  {
   "cell_type": "code",
   "execution_count": 37,
   "id": "06aec23d",
   "metadata": {},
   "outputs": [],
   "source": [
    "get_item_s = Values([1,2,3,4,5,6,7,8])"
   ]
  },
  {
   "cell_type": "code",
   "execution_count": 38,
   "metadata": {},
   "outputs": [
    {
     "data": {
      "text/plain": [
       "1"
      ]
     },
     "execution_count": 38,
     "metadata": {},
     "output_type": "execute_result"
    }
   ],
   "source": [
    "get_item_s[0]"
   ]
  },
  {
   "cell_type": "markdown",
   "id": "b7656a39",
   "metadata": {},
   "source": [
    "# Other special methods\n",
    "\n",
    "\n",
    "| Operator | Method        | Reverse Version | Description                           |\n",
    "| -------- | ------------- | --------------- | ------------------------------------- |\n",
    "| `+`      | `__add__`     | `__radd__`      | Addition                              |\n",
    "| `-`      | `__sub__`     | `__rsub__`      | Subtraction                           |\n",
    "| `*`      | `__mul__`     | `__rmul__`      | Multiplication (scalar, element-wise) |\n",
    "| `/`      | `__truediv__` | `__rtruediv__`  | True Division                         |\n",
    "| `==`     | `__eq__`      |                 | Equality                              |\n",
    "| `str()`  | `__str__`     |                 | String Representation                 |\n",
    "| `repr()` | `__repr__`    |                 | Developer-readable representation     |"
   ]
  },
  {
   "cell_type": "markdown",
   "id": "04036ad5",
   "metadata": {},
   "source": [
    "# Getter and setter methods"
   ]
  },
  {
   "cell_type": "code",
   "execution_count": 39,
   "id": "28c78d5c",
   "metadata": {},
   "outputs": [],
   "source": [
    "class Person:\n",
    "    def __init__(self, name):\n",
    "        self.__name = name # Private attribute\n",
    "        self.__name1 = name # Private attribute\n",
    "        self.__name2 = name # Private attribute\n",
    "\n",
    "    def get_name(self):\n",
    "        return self.__name\n",
    "    \n",
    "    def __str__(self):\n",
    "        return f\"person name is {self.__name}\"\n",
    "    \n",
    "    def set_name(self, new_name):\n",
    "        if not new_name:\n",
    "            raise ValueError(\"Name cannot be empty\")\n",
    "        self.__name = new_name\n",
    "\n",
    "    def delete_name(self):\n",
    "        del self.__name"
   ]
  },
  {
   "cell_type": "code",
   "execution_count": 40,
   "id": "9e4ddfdc",
   "metadata": {},
   "outputs": [],
   "source": [
    "p_gsd = Person(\"Monal\")"
   ]
  },
  {
   "cell_type": "code",
   "execution_count": 41,
   "id": "49a437da",
   "metadata": {},
   "outputs": [
    {
     "name": "stdout",
     "output_type": "stream",
     "text": [
      "person name is Monal\n"
     ]
    }
   ],
   "source": [
    "print(p_gsd)"
   ]
  },
  {
   "cell_type": "code",
   "execution_count": 42,
   "id": "9fb475db",
   "metadata": {},
   "outputs": [
    {
     "data": {
      "text/plain": [
       "'Monal'"
      ]
     },
     "execution_count": 42,
     "metadata": {},
     "output_type": "execute_result"
    }
   ],
   "source": [
    "p_gsd.get_name()"
   ]
  },
  {
   "cell_type": "code",
   "execution_count": 43,
   "id": "4749d70f",
   "metadata": {},
   "outputs": [],
   "source": [
    "p_gsd.set_name(\"riyan\")"
   ]
  },
  {
   "cell_type": "code",
   "execution_count": 44,
   "id": "cfa75ac0",
   "metadata": {},
   "outputs": [
    {
     "data": {
      "text/plain": [
       "'riyan'"
      ]
     },
     "execution_count": 44,
     "metadata": {},
     "output_type": "execute_result"
    }
   ],
   "source": [
    "p_gsd.get_name()"
   ]
  },
  {
   "cell_type": "code",
   "execution_count": 45,
   "id": "e20ae016",
   "metadata": {},
   "outputs": [],
   "source": [
    "p_gsd.delete_name()"
   ]
  },
  {
   "cell_type": "code",
   "execution_count": 46,
   "id": "3765db80",
   "metadata": {},
   "outputs": [
    {
     "ename": "AttributeError",
     "evalue": "'Person' object has no attribute '_Person__name'",
     "output_type": "error",
     "traceback": [
      "\u001b[1;31m---------------------------------------------------------------------------\u001b[0m",
      "\u001b[1;31mAttributeError\u001b[0m                            Traceback (most recent call last)",
      "Cell \u001b[1;32mIn[46], line 1\u001b[0m\n\u001b[1;32m----> 1\u001b[0m p_gsd\u001b[38;5;241m.\u001b[39mget_name()\n",
      "Cell \u001b[1;32mIn[39], line 8\u001b[0m, in \u001b[0;36mPerson.get_name\u001b[1;34m(self)\u001b[0m\n\u001b[0;32m      7\u001b[0m \u001b[38;5;28;01mdef\u001b[39;00m \u001b[38;5;21mget_name\u001b[39m(\u001b[38;5;28mself\u001b[39m):\n\u001b[1;32m----> 8\u001b[0m     \u001b[38;5;28;01mreturn\u001b[39;00m \u001b[38;5;28mself\u001b[39m\u001b[38;5;241m.\u001b[39m__name\n",
      "\u001b[1;31mAttributeError\u001b[0m: 'Person' object has no attribute '_Person__name'"
     ]
    }
   ],
   "source": [
    "p_gsd.get_name()"
   ]
  },
  {
   "cell_type": "code",
   "execution_count": 47,
   "id": "f96792bd",
   "metadata": {},
   "outputs": [],
   "source": [
    "p_gsd.set_name(\"hello\")"
   ]
  },
  {
   "cell_type": "code",
   "execution_count": 48,
   "id": "d0ecc1b3",
   "metadata": {},
   "outputs": [
    {
     "data": {
      "text/plain": [
       "'hello'"
      ]
     },
     "execution_count": 48,
     "metadata": {},
     "output_type": "execute_result"
    }
   ],
   "source": [
    "p_gsd.get_name()"
   ]
  },
  {
   "cell_type": "code",
   "execution_count": 49,
   "metadata": {},
   "outputs": [
    {
     "ename": "ValueError",
     "evalue": "Name cannot be empty",
     "output_type": "error",
     "traceback": [
      "\u001b[1;31m---------------------------------------------------------------------------\u001b[0m",
      "\u001b[1;31mValueError\u001b[0m                                Traceback (most recent call last)",
      "Cell \u001b[1;32mIn[49], line 1\u001b[0m\n\u001b[1;32m----> 1\u001b[0m p_gsd\u001b[38;5;241m.\u001b[39mset_name(\u001b[38;5;124m'\u001b[39m\u001b[38;5;124m'\u001b[39m)\n",
      "Cell \u001b[1;32mIn[39], line 15\u001b[0m, in \u001b[0;36mPerson.set_name\u001b[1;34m(self, new_name)\u001b[0m\n\u001b[0;32m     13\u001b[0m \u001b[38;5;28;01mdef\u001b[39;00m \u001b[38;5;21mset_name\u001b[39m(\u001b[38;5;28mself\u001b[39m, new_name):\n\u001b[0;32m     14\u001b[0m     \u001b[38;5;28;01mif\u001b[39;00m \u001b[38;5;129;01mnot\u001b[39;00m new_name:\n\u001b[1;32m---> 15\u001b[0m         \u001b[38;5;28;01mraise\u001b[39;00m \u001b[38;5;167;01mValueError\u001b[39;00m(\u001b[38;5;124m\"\u001b[39m\u001b[38;5;124mName cannot be empty\u001b[39m\u001b[38;5;124m\"\u001b[39m)\n\u001b[0;32m     16\u001b[0m     \u001b[38;5;28mself\u001b[39m\u001b[38;5;241m.\u001b[39m__name \u001b[38;5;241m=\u001b[39m new_name\n",
      "\u001b[1;31mValueError\u001b[0m: Name cannot be empty"
     ]
    }
   ],
   "source": [
    "p_gsd.set_name('')"
   ]
  },
  {
   "cell_type": "code",
   "execution_count": 50,
   "id": "eeb0e9d2",
   "metadata": {},
   "outputs": [
    {
     "data": {
      "text/plain": [
       "['__class__',\n",
       " '__delattr__',\n",
       " '__dict__',\n",
       " '__dir__',\n",
       " '__doc__',\n",
       " '__eq__',\n",
       " '__format__',\n",
       " '__ge__',\n",
       " '__getattribute__',\n",
       " '__getstate__',\n",
       " '__gt__',\n",
       " '__hash__',\n",
       " '__init__',\n",
       " '__init_subclass__',\n",
       " '__le__',\n",
       " '__lt__',\n",
       " '__module__',\n",
       " '__ne__',\n",
       " '__new__',\n",
       " '__reduce__',\n",
       " '__reduce_ex__',\n",
       " '__repr__',\n",
       " '__setattr__',\n",
       " '__sizeof__',\n",
       " '__str__',\n",
       " '__subclasshook__',\n",
       " '__weakref__',\n",
       " 'delete_name',\n",
       " 'get_name',\n",
       " 'set_name']"
      ]
     },
     "execution_count": 50,
     "metadata": {},
     "output_type": "execute_result"
    }
   ],
   "source": [
    "dir(Person)"
   ]
  },
  {
   "cell_type": "code",
   "execution_count": 51,
   "id": "1121588b",
   "metadata": {},
   "outputs": [
    {
     "data": {
      "text/plain": [
       "('get_name', 'set_name', 'delete_name')"
      ]
     },
     "execution_count": 51,
     "metadata": {},
     "output_type": "execute_result"
    }
   ],
   "source": [
    "'get_name', 'set_name', 'delete_name' # 1000 % standard # pythonic"
   ]
  },
  {
   "cell_type": "code",
   "execution_count": 52,
   "id": "629656f9",
   "metadata": {},
   "outputs": [],
   "source": [
    "a = 2 # pythonic way"
   ]
  },
  {
   "cell_type": "markdown",
   "id": "de4367d8",
   "metadata": {},
   "source": [
    "# Property decorator"
   ]
  },
  {
   "cell_type": "code",
   "execution_count": 70,
   "id": "ed9ed5d4",
   "metadata": {},
   "outputs": [],
   "source": [
    "class Person:\n",
    "    def __init__(self, name, pno):\n",
    "        self.__name = name # Private attribute\n",
    "        self.__name1 = name # Private attribute\n",
    "        self.__name2 = name # Private attribute\n",
    "        self.__phone_number = pno\n",
    "       \n",
    "\n",
    "    @property\n",
    "    def name(self):\n",
    "        return self.__name\n",
    "    \n",
    "    def __str__(self):\n",
    "        return f\"person name is {self.__name}\"\n",
    "    \n",
    "    @name.setter\n",
    "    def name(self, new_name):\n",
    "        if not new_name:\n",
    "            raise ValueError(\"Name cannot be empty\")\n",
    "        self.__name = new_name\n",
    "\n",
    "    @name.deleter\n",
    "    def name(self):\n",
    "        del self.__name\n",
    "\n",
    "    @property\n",
    "    def phone_no(self):\n",
    "        pass\n",
    "\n",
    "    @phone_no.setter\n",
    "    def phone_no(self):\n",
    "        pass\n",
    "\n",
    "    @phone_no.deleter\n",
    "    def phone_no(self):\n",
    "        pass\n",
    "\n",
    "        "
   ]
  },
  {
   "cell_type": "code",
   "execution_count": 64,
   "id": "16cdb9bf",
   "metadata": {},
   "outputs": [],
   "source": [
    "p_property = Person(\"Monal\")"
   ]
  },
  {
   "cell_type": "code",
   "execution_count": 65,
   "id": "896cfc74",
   "metadata": {},
   "outputs": [
    {
     "data": {
      "text/plain": [
       "'Monal'"
      ]
     },
     "execution_count": 65,
     "metadata": {},
     "output_type": "execute_result"
    }
   ],
   "source": [
    "p_property.name"
   ]
  },
  {
   "cell_type": "code",
   "execution_count": 66,
   "id": "8d47bbd4",
   "metadata": {},
   "outputs": [],
   "source": [
    "p_property.name = \"heartine\""
   ]
  },
  {
   "cell_type": "code",
   "execution_count": 67,
   "id": "514bfaf0",
   "metadata": {},
   "outputs": [
    {
     "data": {
      "text/plain": [
       "'heartine'"
      ]
     },
     "execution_count": 67,
     "metadata": {},
     "output_type": "execute_result"
    }
   ],
   "source": [
    "p_property.name"
   ]
  },
  {
   "cell_type": "code",
   "execution_count": 68,
   "id": "6590cdb2",
   "metadata": {},
   "outputs": [],
   "source": [
    "del p_property.name"
   ]
  },
  {
   "cell_type": "code",
   "execution_count": 69,
   "id": "79e480cc",
   "metadata": {},
   "outputs": [
    {
     "ename": "AttributeError",
     "evalue": "'Person' object has no attribute '_Person__name'",
     "output_type": "error",
     "traceback": [
      "\u001b[1;31m---------------------------------------------------------------------------\u001b[0m",
      "\u001b[1;31mAttributeError\u001b[0m                            Traceback (most recent call last)",
      "Cell \u001b[1;32mIn[69], line 1\u001b[0m\n\u001b[1;32m----> 1\u001b[0m p_property\u001b[38;5;241m.\u001b[39mname\n",
      "Cell \u001b[1;32mIn[63], line 10\u001b[0m, in \u001b[0;36mPerson.name\u001b[1;34m(self)\u001b[0m\n\u001b[0;32m      8\u001b[0m \u001b[38;5;129m@property\u001b[39m\n\u001b[0;32m      9\u001b[0m \u001b[38;5;28;01mdef\u001b[39;00m \u001b[38;5;21mname\u001b[39m(\u001b[38;5;28mself\u001b[39m):\n\u001b[1;32m---> 10\u001b[0m     \u001b[38;5;28;01mreturn\u001b[39;00m \u001b[38;5;28mself\u001b[39m\u001b[38;5;241m.\u001b[39m__name\n",
      "\u001b[1;31mAttributeError\u001b[0m: 'Person' object has no attribute '_Person__name'"
     ]
    }
   ],
   "source": [
    "p_property.name"
   ]
  },
  {
   "cell_type": "code",
   "execution_count": 71,
   "id": "6890ec11",
   "metadata": {},
   "outputs": [
    {
     "name": "stdout",
     "output_type": "stream",
     "text": [
      "34\n"
     ]
    }
   ],
   "source": [
    "a = 2\n",
    "del a\n",
    "a = 34\n",
    "print(a)"
   ]
  }
 ],
 "metadata": {
  "kernelspec": {
   "display_name": "base",
   "language": "python",
   "name": "python3"
  },
  "language_info": {
   "codemirror_mode": {
    "name": "ipython",
    "version": 3
   },
   "file_extension": ".py",
   "mimetype": "text/x-python",
   "name": "python",
   "nbconvert_exporter": "python",
   "pygments_lexer": "ipython3",
   "version": "3.12.7"
  }
 },
 "nbformat": 4,
 "nbformat_minor": 5
}
