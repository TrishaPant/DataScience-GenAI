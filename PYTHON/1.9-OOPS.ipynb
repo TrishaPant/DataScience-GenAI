{
 "cells": [
  {
   "cell_type": "markdown",
   "id": "ef46c742",
   "metadata": {},
   "source": [
    "## OOP(Classses and Object)"
   ]
  },
  {
   "cell_type": "code",
   "execution_count": 9,
   "id": "8a6b57b0",
   "metadata": {},
   "outputs": [],
   "source": [
    "a = 2\n",
    "\n",
    "def add(a,b):\n",
    "    c = a+b\n",
    "    print(c)"
   ]
  },
  {
   "cell_type": "code",
   "execution_count": 10,
   "id": "297dfff0",
   "metadata": {},
   "outputs": [
    {
     "name": "stdout",
     "output_type": "stream",
     "text": [
      "3\n"
     ]
    }
   ],
   "source": [
    "add(1,2)"
   ]
  },
  {
   "cell_type": "code",
   "execution_count": 11,
   "id": "dd5d4a20",
   "metadata": {},
   "outputs": [],
   "source": [
    "# Car\n",
    "# - customer name\n",
    "# - brand -->\n",
    "# - color -> \n",
    "# - type -> sedan, hatchback, SUV\n",
    "\n",
    "class Car():\n",
    "\n",
    "    def customer_name(self, name):\n",
    "        print(name)\n",
    "\n",
    "    def brand(self, brand):\n",
    "        print(brand)\n",
    "\n",
    "    def color(self, color):\n",
    "        print(color)\n",
    "\n",
    "    def customer_name(self, type_of_car):\n",
    "        print(type_of_car)"
   ]
  },
  {
   "cell_type": "code",
   "execution_count": 12,
   "id": "50a824a4",
   "metadata": {},
   "outputs": [],
   "source": [
    "car_var = Car()"
   ]
  },
  {
   "cell_type": "code",
   "execution_count": 13,
   "id": "4ec9d409",
   "metadata": {},
   "outputs": [
    {
     "data": {
      "text/plain": [
       "2017013495328"
      ]
     },
     "execution_count": 13,
     "metadata": {},
     "output_type": "execute_result"
    }
   ],
   "source": [
    "id(car_var)"
   ]
  },
  {
   "cell_type": "code",
   "execution_count": 14,
   "id": "6013832e",
   "metadata": {},
   "outputs": [
    {
     "name": "stdout",
     "output_type": "stream",
     "text": [
      "monal\n"
     ]
    }
   ],
   "source": [
    "car_var.customer_name(\"monal\")"
   ]
  },
  {
   "cell_type": "code",
   "execution_count": 15,
   "id": "9b2b3596",
   "metadata": {},
   "outputs": [
    {
     "name": "stdout",
     "output_type": "stream",
     "text": [
      "hello\n"
     ]
    }
   ],
   "source": [
    "car_var_2 = Car()\n",
    "car_var_2.customer_name(\"hello\")"
   ]
  },
  {
   "cell_type": "code",
   "execution_count": 16,
   "id": "8dd10b71",
   "metadata": {},
   "outputs": [],
   "source": [
    "class Mobile():\n",
    "\n",
    "    def __init__(self, a, b, c):\n",
    "        self.manufacturer_name = a\n",
    "        self.os_version = b\n",
    "        self.customer_name = c\n",
    "\n",
    "    def get_customer_name(self):\n",
    "        print(self.customer_name)"
   ]
  },
  {
   "cell_type": "code",
   "execution_count": 17,
   "id": "79f49a2e",
   "metadata": {},
   "outputs": [],
   "source": [
    "customer_1 = Mobile(\"Apple\", \"ios\", \"monal\")\n",
    "customer_2 = Mobile(\"Apple\", \"ios\", \"Akash\")\n",
    "customer_3 = Mobile(\"Apple\", \"ios\", \"alok\")"
   ]
  },
  {
   "cell_type": "code",
   "execution_count": 18,
   "id": "5b4c3093",
   "metadata": {},
   "outputs": [
    {
     "name": "stdout",
     "output_type": "stream",
     "text": [
      "monal\n"
     ]
    }
   ],
   "source": [
    "customer_1.get_customer_name()"
   ]
  },
  {
   "cell_type": "code",
   "execution_count": 19,
   "id": "61c776f9",
   "metadata": {},
   "outputs": [
    {
     "data": {
      "text/plain": [
       "'Apple'"
      ]
     },
     "execution_count": 19,
     "metadata": {},
     "output_type": "execute_result"
    }
   ],
   "source": [
    "customer_1.manufacturer_name"
   ]
  },
  {
   "cell_type": "code",
   "execution_count": 20,
   "id": "a23da453",
   "metadata": {},
   "outputs": [
    {
     "name": "stdout",
     "output_type": "stream",
     "text": [
      "Akash\n"
     ]
    }
   ],
   "source": [
    "customer_2.get_customer_name()"
   ]
  },
  {
   "cell_type": "code",
   "execution_count": 21,
   "id": "736c1a6c",
   "metadata": {},
   "outputs": [
    {
     "name": "stdout",
     "output_type": "stream",
     "text": [
      "alok\n"
     ]
    }
   ],
   "source": [
    "customer_3.get_customer_name()"
   ]
  },
  {
   "cell_type": "code",
   "execution_count": 22,
   "id": "84d35c05",
   "metadata": {},
   "outputs": [],
   "source": [
    "import os"
   ]
  },
  {
   "cell_type": "code",
   "execution_count": 23,
   "id": "69ea64b0",
   "metadata": {},
   "outputs": [
    {
     "data": {
      "text/plain": [
       "'e:\\\\ULTIMATE DATA SCIENCE & GENAI\\\\PYTHON\\\\1-Python Basics'"
      ]
     },
     "execution_count": 23,
     "metadata": {},
     "output_type": "execute_result"
    }
   ],
   "source": [
    "os.getcwd()"
   ]
  }
 ],
 "metadata": {
  "kernelspec": {
   "display_name": "Python 3",
   "language": "python",
   "name": "python3"
  },
  "language_info": {
   "codemirror_mode": {
    "name": "ipython",
    "version": 3
   },
   "file_extension": ".py",
   "mimetype": "text/x-python",
   "name": "python",
   "nbconvert_exporter": "python",
   "pygments_lexer": "ipython3",
   "version": "3.12.0"
  }
 },
 "nbformat": 4,
 "nbformat_minor": 5
}
