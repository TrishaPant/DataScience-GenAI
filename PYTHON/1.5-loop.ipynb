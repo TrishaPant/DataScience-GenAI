{
 "cells": [
  {
   "cell_type": "code",
   "execution_count": 1,
   "id": "1e62d4a2",
   "metadata": {},
   "outputs": [],
   "source": [
    "fruits=[\"apple\",\"banana\",\"orange\"]\n",
    "iteratable=iter(fruits)"
   ]
  },
  {
   "cell_type": "code",
   "execution_count": 2,
   "id": "b614a2c6",
   "metadata": {},
   "outputs": [
    {
     "name": "stdout",
     "output_type": "stream",
     "text": [
      "apple\n",
      "banana\n",
      "orange\n"
     ]
    },
    {
     "ename": "StopIteration",
     "evalue": "",
     "output_type": "error",
     "traceback": [
      "\u001b[31m---------------------------------------------------------------------------\u001b[39m",
      "\u001b[31mStopIteration\u001b[39m                             Traceback (most recent call last)",
      "\u001b[36mCell\u001b[39m\u001b[36m \u001b[39m\u001b[32mIn[2]\u001b[39m\u001b[32m, line 4\u001b[39m\n\u001b[32m      2\u001b[39m \u001b[38;5;28mprint\u001b[39m(\u001b[38;5;28mnext\u001b[39m(iteratable)) \u001b[38;5;66;03m# banana    \u001b[39;00m\n\u001b[32m      3\u001b[39m \u001b[38;5;28mprint\u001b[39m(\u001b[38;5;28mnext\u001b[39m(iteratable)) \u001b[38;5;66;03m# orange\u001b[39;00m\n\u001b[32m----> \u001b[39m\u001b[32m4\u001b[39m \u001b[38;5;28mprint\u001b[39m(\u001b[38;5;28;43mnext\u001b[39;49m\u001b[43m(\u001b[49m\u001b[43miteratable\u001b[49m\u001b[43m)\u001b[49m) \u001b[38;5;66;03m# StopIteration exception\u001b[39;00m\n",
      "\u001b[31mStopIteration\u001b[39m: "
     ]
    }
   ],
   "source": [
    "print(next(iteratable)) # apple\n",
    "print(next(iteratable)) # banana    \n",
    "print(next(iteratable)) # orange\n",
    "print(next(iteratable)) # StopIteration exception"
   ]
  },
  {
   "cell_type": "code",
   "execution_count": 8,
   "metadata": {},
   "outputs": [
    {
     "name": "stdout",
     "output_type": "stream",
     "text": [
      "start of for loop\n",
      "apple\n",
      "banana\n",
      "orange\n",
      "End of for loop\n",
      "orange\n"
     ]
    }
   ],
   "source": [
    "print(\"start of for loop\")\n",
    "for i in fruits:\n",
    "    print(i) \n",
    "print(\"End of for loop\") \n",
    "print(i)"
   ]
  },
  {
   "cell_type": "code",
   "execution_count": 26,
   "metadata": {},
   "outputs": [
    {
     "name": "stdout",
     "output_type": "stream",
     "text": [
      "hello\n",
      "hello\n",
      "hello\n",
      "hello\n",
      "hello\n",
      "hello\n",
      "hello\n",
      "hello\n",
      "hello\n",
      "hello\n"
     ]
    }
   ],
   "source": [
    "table=[1,2,3,4,5,6,7,8,9,10]\n",
    "for i in table:\n",
    "    print(\"hello\")\n",
    "   "
   ]
  },
  {
   "cell_type": "code",
   "execution_count": 2,
   "metadata": {},
   "outputs": [
    {
     "name": "stdout",
     "output_type": "stream",
     "text": [
      "2\n",
      "4\n",
      "6\n",
      "8\n",
      "10\n",
      "12\n",
      "14\n",
      "16\n",
      "18\n",
      "20\n"
     ]
    }
   ],
   "source": [
    "for i in range(1,11,1):\n",
    "    print(2*i)"
   ]
  },
  {
   "cell_type": "code",
   "execution_count": 4,
   "id": "85a2e96a",
   "metadata": {},
   "outputs": [
    {
     "name": "stdout",
     "output_type": "stream",
     "text": [
      "2\n",
      "4\n",
      "6\n",
      "8\n",
      "10\n",
      "12\n",
      "14\n",
      "16\n",
      "18\n",
      "20\n"
     ]
    }
   ],
   "source": [
    "for i in range(1,11):\n",
    "    print(2*i)\n",
    "   "
   ]
  },
  {
   "cell_type": "code",
   "execution_count": 36,
   "id": "280b96e7",
   "metadata": {},
   "outputs": [
    {
     "name": "stdout",
     "output_type": "stream",
     "text": [
      "1\n",
      "5\n",
      "9\n",
      "13\n"
     ]
    }
   ],
   "source": [
    "for i in range(1,15,4):\n",
    "    print(i)"
   ]
  },
  {
   "cell_type": "code",
   "execution_count": 37,
   "id": "9c2e5fbe",
   "metadata": {},
   "outputs": [
    {
     "name": "stdout",
     "output_type": "stream",
     "text": [
      "1\n",
      "4\n",
      "7\n"
     ]
    }
   ],
   "source": [
    "for element in range(1,10,3):\n",
    "    print(element)"
   ]
  },
  {
   "cell_type": "code",
   "execution_count": 38,
   "id": "04247e22",
   "metadata": {},
   "outputs": [
    {
     "name": "stdout",
     "output_type": "stream",
     "text": [
      "0\n",
      "1\n",
      "2\n",
      "3\n",
      "4\n",
      "5\n",
      "6\n",
      "7\n",
      "8\n",
      "9\n"
     ]
    }
   ],
   "source": [
    "for i in range(10):\n",
    "    print(i)"
   ]
  },
  {
   "cell_type": "code",
   "execution_count": 43,
   "id": "9c4072a6",
   "metadata": {},
   "outputs": [
    {
     "name": "stdout",
     "output_type": "stream",
     "text": [
      "1\n"
     ]
    }
   ],
   "source": [
    "for i in [1]:\n",
    "    print(i)"
   ]
  },
  {
   "cell_type": "code",
   "execution_count": 49,
   "id": "bd677b76",
   "metadata": {},
   "outputs": [],
   "source": [
    "emp_details = {\n",
    "               1 : [\"monal\", \"india\"], \n",
    "               2 : [\"lucas\", \"brazil\"],\n",
    "               3 : [\"ashar\", \"Saudi arabia\", 2],\n",
    "               4 : [\"riyan\", \"india\"],\n",
    "               \"hello\":\"world\"\n",
    "               }"
   ]
  },
  {
   "cell_type": "code",
   "execution_count": 58,
   "id": "eb68ff60",
   "metadata": {},
   "outputs": [
    {
     "data": {
      "text/plain": [
       "['riyan', 'india']"
      ]
     },
     "execution_count": 58,
     "metadata": {},
     "output_type": "execute_result"
    }
   ],
   "source": [
    "emp_details[4]"
   ]
  },
  {
   "cell_type": "code",
   "execution_count": 50,
   "id": "9ca5d18d",
   "metadata": {},
   "outputs": [
    {
     "data": {
      "text/plain": [
       "dict_keys([1, 2, 3, 4, 'hello'])"
      ]
     },
     "execution_count": 50,
     "metadata": {},
     "output_type": "execute_result"
    }
   ],
   "source": [
    "emp_details.keys()"
   ]
  },
  {
   "cell_type": "code",
   "execution_count": 51,
   "id": "f78b0c0c",
   "metadata": {},
   "outputs": [
    {
     "name": "stdout",
     "output_type": "stream",
     "text": [
      "['monal', 'india']\n",
      "['lucas', 'brazil']\n",
      "['ashar', 'Saudi arabia', 2]\n",
      "['riyan', 'india']\n",
      "world\n"
     ]
    }
   ],
   "source": [
    "for value in emp_details.keys():\n",
    "    print(emp_details[value])"
   ]
  },
  {
   "cell_type": "markdown",
   "id": "8f7178bd",
   "metadata": {},
   "source": [
    "### print statement"
   ]
  },
  {
   "cell_type": "code",
   "execution_count": 5,
   "id": "d5f1e010",
   "metadata": {},
   "outputs": [
    {
     "name": "stdout",
     "output_type": "stream",
     "text": [
      "hello\n"
     ]
    }
   ],
   "source": [
    "print(\"hello\")"
   ]
  },
  {
   "cell_type": "code",
   "execution_count": 6,
   "id": "7e990c48",
   "metadata": {},
   "outputs": [
    {
     "name": "stdout",
     "output_type": "stream",
     "text": [
      "hello  world\n"
     ]
    }
   ],
   "source": [
    "print(\"hello\",\" world\")"
   ]
  },
  {
   "cell_type": "code",
   "execution_count": 59,
   "id": "6b577ed9",
   "metadata": {},
   "outputs": [
    {
     "name": "stdout",
     "output_type": "stream",
     "text": [
      "hello*world\n",
      "hello*world, hello*world\n",
      "hello*world\t"
     ]
    }
   ],
   "source": [
    "print(\"hello\", \"world\", sep=\"*\")\n",
    "print(\"hello\", \"world\", sep=\"*\", end=\", \")\n",
    "print(\"hello\", \"world\", sep=\"*\", end=\"\\n\")\n",
    "print(\"hello\", \"world\", sep=\"*\", end=\"\\t\")"
   ]
  },
  {
   "cell_type": "code",
   "execution_count": 60,
   "id": "2eb4abdb",
   "metadata": {},
   "outputs": [
    {
     "name": "stdout",
     "output_type": "stream",
     "text": [
      "hello worldhello\n",
      "hello\n"
     ]
    }
   ],
   "source": [
    "print(\"hello\", \"world\",end=\"\")\n",
    "print(\"hello\")\n",
    "print(\"hello\")"
   ]
  },
  {
   "cell_type": "code",
   "execution_count": 61,
   "id": "bbde22bb",
   "metadata": {},
   "outputs": [
    {
     "name": "stdout",
     "output_type": "stream",
     "text": [
      "hello\thi\n"
     ]
    }
   ],
   "source": [
    "print(\"hello\", end=\"\\t\")\n",
    "print(\"hi\")"
   ]
  },
  {
   "cell_type": "code",
   "execution_count": 62,
   "id": "f75c66ec",
   "metadata": {},
   "outputs": [
    {
     "name": "stdout",
     "output_type": "stream",
     "text": [
      "hhhhhhhhhhhhhhhhhhhh\n"
     ]
    }
   ],
   "source": [
    "print(\"h\"*20)"
   ]
  },
  {
   "cell_type": "code",
   "execution_count": 74,
   "id": "1726d378",
   "metadata": {},
   "outputs": [
    {
     "name": "stdout",
     "output_type": "stream",
     "text": [
      "\n",
      "*\n",
      "**\n",
      "***\n",
      "****\n",
      "*****\n"
     ]
    }
   ],
   "source": [
    "for i in range(6):\n",
    "    print(\"*\"*i)"
   ]
  },
  {
   "cell_type": "code",
   "execution_count": 76,
   "id": "f46a6fbe",
   "metadata": {},
   "outputs": [
    {
     "name": "stdout",
     "output_type": "stream",
     "text": [
      "*\n",
      "***\n",
      "*****\n"
     ]
    }
   ],
   "source": [
    "for i in range(1,6,2):\n",
    "    print(\"*\"*i)"
   ]
  },
  {
   "cell_type": "code",
   "execution_count": 83,
   "id": "207c41eb",
   "metadata": {},
   "outputs": [
    {
     "name": "stdout",
     "output_type": "stream",
     "text": [
      "*****\n",
      "****\n",
      "***\n",
      "**\n",
      "*\n"
     ]
    }
   ],
   "source": [
    "for i in range(5,0,-1):\n",
    "    print(\"*\"*i)\n",
    "   \n",
    "       "
   ]
  },
  {
   "cell_type": "code",
   "execution_count": 94,
   "id": "21d3135b",
   "metadata": {},
   "outputs": [
    {
     "name": "stdout",
     "output_type": "stream",
     "text": [
      "--*\n",
      "-**\n",
      "***\n"
     ]
    }
   ],
   "source": [
    "max=3\n",
    "for i in range(2,-1,-1):\n",
    "    print(i*\"-\",(max-i)*\"*\",sep=\"\")\n",
    "\n",
    "  "
   ]
  },
  {
   "cell_type": "code",
   "execution_count": 7,
   "id": "b6ca3a02",
   "metadata": {},
   "outputs": [
    {
     "name": "stdout",
     "output_type": "stream",
     "text": [
      "--*\n",
      "-**\n",
      "***\n"
     ]
    }
   ],
   "source": [
    "'''\n",
    "--*\n",
    "-**\n",
    "***\n",
    "'''\n",
    "rows = 3\n",
    "for i in range(1, rows + 1):\n",
    "    dashes = \"-\" * (rows - i)\n",
    "    stars = \"*\" * i\n",
    "    print(dashes + stars)\n",
    "\n"
   ]
  },
  {
   "cell_type": "code",
   "execution_count": 8,
   "id": "8bba8fca",
   "metadata": {},
   "outputs": [
    {
     "name": "stdout",
     "output_type": "stream",
     "text": [
      "--*\n",
      "-**\n",
      "***\n"
     ]
    }
   ],
   "source": [
    "for i in range(1, 4):\n",
    "    print(\"-\" * (3 - i) + \"*\" * i)\n"
   ]
  },
  {
   "cell_type": "code",
   "execution_count": 9,
   "id": "8dcf540a",
   "metadata": {},
   "outputs": [
    {
     "name": "stdout",
     "output_type": "stream",
     "text": [
      "--*\n",
      "-**\n",
      "***\n"
     ]
    }
   ],
   "source": [
    "for x in range(2,-1,-1):\n",
    "    print(\"-\"*x, end = \"\")\n",
    "    for y in range(x,3):\n",
    "        print(\"*\", end = \"\")\n",
    "    print()\n"
   ]
  },
  {
   "cell_type": "code",
   "execution_count": 10,
   "id": "dbc77708",
   "metadata": {},
   "outputs": [
    {
     "name": "stdout",
     "output_type": "stream",
     "text": [
      "--*\n"
     ]
    }
   ],
   "source": [
    "max = 3\n",
    "number_of_dash = 2\n",
    "print(number_of_dash*\"-\",end=\"\")\n",
    "print((max-number_of_dash)*\"*\")"
   ]
  },
  {
   "cell_type": "code",
   "execution_count": 11,
   "id": "596ba6ac",
   "metadata": {},
   "outputs": [
    {
     "name": "stdout",
     "output_type": "stream",
     "text": [
      "-**\n"
     ]
    }
   ],
   "source": [
    "max = 3\n",
    "number_of_dash = 1\n",
    "print(number_of_dash*\"-\",end=\"\")\n",
    "print((max-number_of_dash)*\"*\")"
   ]
  },
  {
   "cell_type": "code",
   "execution_count": 12,
   "id": "5ee424ce",
   "metadata": {},
   "outputs": [
    {
     "name": "stdout",
     "output_type": "stream",
     "text": [
      "***\n"
     ]
    }
   ],
   "source": [
    "max = 3\n",
    "number_of_dash = 0\n",
    "print(number_of_dash*\"-\",end=\"\")\n",
    "print((max-number_of_dash)*\"*\")"
   ]
  },
  {
   "cell_type": "code",
   "execution_count": 13,
   "id": "d07e6240",
   "metadata": {},
   "outputs": [
    {
     "name": "stdout",
     "output_type": "stream",
     "text": [
      "--*\n",
      "-**\n",
      "***\n"
     ]
    }
   ],
   "source": [
    "max = 3\n",
    "for i in range(2,-1,-1):\n",
    "    print(i*\"-\",end=\"\")\n",
    "    print((max-i)*\"*\")"
   ]
  },
  {
   "cell_type": "code",
   "execution_count": 14,
   "id": "57b109c3",
   "metadata": {},
   "outputs": [
    {
     "name": "stdout",
     "output_type": "stream",
     "text": [
      "2\n",
      "1\n",
      "0\n"
     ]
    }
   ],
   "source": [
    "for i in range(2,-1,-1):\n",
    "    print(i)"
   ]
  },
  {
   "cell_type": "code",
   "execution_count": 15,
   "id": "d09b9e8a",
   "metadata": {},
   "outputs": [
    {
     "name": "stdout",
     "output_type": "stream",
     "text": [
      "--*\n",
      "-**\n",
      "***\n"
     ]
    }
   ],
   "source": [
    "max = 3\n",
    "for i in range(2,-1,-1):\n",
    "    a = i*\"-\"\n",
    "    b = (max-i)*\"*\"\n",
    "    print(a+b)"
   ]
  },
  {
   "cell_type": "code",
   "execution_count": 16,
   "id": "5a83c4bd",
   "metadata": {},
   "outputs": [
    {
     "name": "stdout",
     "output_type": "stream",
     "text": [
      "Student id :  1\n",
      "Student id :  2\n",
      "Student id :  3\n",
      "Student id :  4\n",
      "Student id :  5\n",
      "Student id :  7\n",
      "Student id :  8\n",
      "Student id :  9\n",
      "Student id :  10\n"
     ]
    }
   ],
   "source": [
    "# problem statments\n",
    "# there is a defaulter which we dont want to include for the attendance\n",
    "\n",
    "student_id = 6\n",
    "\n",
    "for i in range(1, 11):\n",
    "    if i == student_id:\n",
    "        continue\n",
    "    print(\"Student id : \", i)"
   ]
  },
  {
   "cell_type": "code",
   "execution_count": 17,
   "id": "8bbe6c2f",
   "metadata": {},
   "outputs": [
    {
     "name": "stdout",
     "output_type": "stream",
     "text": [
      "Student id :  2\n",
      "Student id :  3\n",
      "Student id :  4\n",
      "Student id :  5\n",
      "Student id :  9\n",
      "Student id :  10\n"
     ]
    }
   ],
   "source": [
    "student_ids = [1,6,7,8]\n",
    "\n",
    "for i in range(1, 11):\n",
    "    if i in student_ids:\n",
    "        continue\n",
    "    print(\"Student id : \", i)"
   ]
  },
  {
   "cell_type": "code",
   "execution_count": 18,
   "id": "2fbaa733",
   "metadata": {},
   "outputs": [
    {
     "name": "stdout",
     "output_type": "stream",
     "text": [
      "Student id :  1\n",
      "Student id :  2\n",
      "hello\n"
     ]
    }
   ],
   "source": [
    "student_id = 3\n",
    "\n",
    "for i in range(1, 11):\n",
    "    if i == student_id:\n",
    "        break\n",
    "    print(\"Student id : \", i)\n",
    "print(\"hello\")"
   ]
  },
  {
   "cell_type": "code",
   "execution_count": 19,
   "id": "23261030",
   "metadata": {},
   "outputs": [
    {
     "name": "stdout",
     "output_type": "stream",
     "text": [
      "Student id :  1\n",
      "Student id :  2\n",
      "Student id :  3\n",
      "hello\n"
     ]
    }
   ],
   "source": [
    "student_id = 4\n",
    "\n",
    "for i in range(1, 11):\n",
    "    if i == student_id:\n",
    "        break\n",
    "    print(\"Student id : \", i)\n",
    "print(\"hello\")"
   ]
  },
  {
   "cell_type": "code",
   "execution_count": null,
   "id": "408e4c33",
   "metadata": {},
   "outputs": [],
   "source": []
  }
 ],
 "metadata": {
  "kernelspec": {
   "display_name": "Python 3",
   "language": "python",
   "name": "python3"
  },
  "language_info": {
   "codemirror_mode": {
    "name": "ipython",
    "version": 3
   },
   "file_extension": ".py",
   "mimetype": "text/x-python",
   "name": "python",
   "nbconvert_exporter": "python",
   "pygments_lexer": "ipython3",
   "version": "3.12.0"
  }
 },
 "nbformat": 4,
 "nbformat_minor": 5
}
