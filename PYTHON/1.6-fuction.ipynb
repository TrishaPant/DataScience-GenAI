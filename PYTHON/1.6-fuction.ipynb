{
 "cells": [
  {
   "cell_type": "code",
   "execution_count": 1,
   "id": "79a8c904",
   "metadata": {},
   "outputs": [
    {
     "data": {
      "text/plain": [
       "'\\nwhile condition :\\n    do something\\n'"
      ]
     },
     "execution_count": 1,
     "metadata": {},
     "output_type": "execute_result"
    }
   ],
   "source": [
    "'''\n",
    "while condition :\n",
    "    do something\n",
    "'''"
   ]
  },
  {
   "cell_type": "code",
   "execution_count": 2,
   "id": "6a3303fb",
   "metadata": {},
   "outputs": [],
   "source": [
    "# print everything till 8, given values 0 - 100"
   ]
  },
  {
   "cell_type": "code",
   "execution_count": null,
   "id": "5c6fd79a",
   "metadata": {},
   "outputs": [
    {
     "name": "stdout",
     "output_type": "stream",
     "text": [
      "0\n",
      "1\n",
      "2\n",
      "3\n",
      "4\n",
      "5\n",
      "6\n",
      "7\n",
      "8\n"
     ]
    }
   ],
   "source": [
    "i = 0\n",
    "while i <= 8:\n",
    "    print(i) \n",
    "    i+=1\n",
    "    "
   ]
  },
  {
   "cell_type": "code",
   "execution_count": 5,
   "id": "c119858d",
   "metadata": {},
   "outputs": [
    {
     "name": "stdout",
     "output_type": "stream",
     "text": [
      "teedd\n",
      "hello\n"
     ]
    }
   ],
   "source": [
    "while True:\n",
    "    name = input(\"Please enter your name : \")\n",
    "    if name == \"Riyan\":\n",
    "        break\n",
    "    print(name)\n",
    "\n",
    "print(\"hello\")"
   ]
  },
  {
   "cell_type": "code",
   "execution_count": 6,
   "id": "b6426535",
   "metadata": {},
   "outputs": [
    {
     "name": "stdout",
     "output_type": "stream",
     "text": [
      "Riyan\n",
      "hello\n"
     ]
    }
   ],
   "source": [
    "a = True\n",
    "while a:\n",
    "    name = input(\"Please enter your name : \")\n",
    "    if name == \"Riyan\":\n",
    "        a = False\n",
    "    print(name)\n",
    "\n",
    "print(\"hello\")"
   ]
  },
  {
   "cell_type": "code",
   "execution_count": 7,
   "id": "f871d1ef",
   "metadata": {},
   "outputs": [
    {
     "name": "stdout",
     "output_type": "stream",
     "text": [
      "1\n",
      "2\n",
      "3\n",
      "4\n",
      "5\n",
      "7\n",
      "8\n",
      "9\n"
     ]
    }
   ],
   "source": [
    "a = [1,2,3,4,5,7,8,9]\n",
    "\n",
    "for i in a:\n",
    "    print(i)"
   ]
  },
  {
   "cell_type": "code",
   "execution_count": 3,
   "id": "5db9b0be",
   "metadata": {},
   "outputs": [],
   "source": [
    "def add():\n",
    "    a = int(input(\"Enter a value : \"))\n",
    "    b = int(input(\"Enter a value : \"))\n",
    "    print(a + b)"
   ]
  },
  {
   "cell_type": "code",
   "execution_count": 6,
   "id": "59240a29",
   "metadata": {},
   "outputs": [
    {
     "name": "stdout",
     "output_type": "stream",
     "text": [
      "2\n",
      "2\n",
      "2\n"
     ]
    }
   ],
   "source": [
    "for i in range(0,3):\n",
    "    add()"
   ]
  },
  {
   "cell_type": "code",
   "execution_count": 7,
   "id": "66e2cda5",
   "metadata": {},
   "outputs": [
    {
     "name": "stdout",
     "output_type": "stream",
     "text": [
      "2\n",
      "2\n",
      "2\n"
     ]
    }
   ],
   "source": [
    "for i in range(0,3):\n",
    "    add()"
   ]
  },
  {
   "cell_type": "code",
   "execution_count": 8,
   "id": "4ff5f870",
   "metadata": {},
   "outputs": [
    {
     "name": "stdout",
     "output_type": "stream",
     "text": [
      "hello\n"
     ]
    }
   ],
   "source": [
    "print(\"hello\") # Function"
   ]
  },
  {
   "cell_type": "code",
   "execution_count": 9,
   "id": "0382c891",
   "metadata": {},
   "outputs": [
    {
     "ename": "NameError",
     "evalue": "name 'a' is not defined",
     "output_type": "error",
     "traceback": [
      "\u001b[31m---------------------------------------------------------------------------\u001b[39m",
      "\u001b[31mNameError\u001b[39m                                 Traceback (most recent call last)",
      "\u001b[36mCell\u001b[39m\u001b[36m \u001b[39m\u001b[32mIn[9]\u001b[39m\u001b[32m, line 4\u001b[39m\n\u001b[32m      1\u001b[39m \u001b[38;5;28;01mdef\u001b[39;00m\u001b[38;5;250m \u001b[39m\u001b[34madd\u001b[39m(a,b):\n\u001b[32m      2\u001b[39m     \u001b[38;5;28mprint\u001b[39m(a+b)\n\u001b[32m----> \u001b[39m\u001b[32m4\u001b[39m \u001b[38;5;28mprint\u001b[39m(\u001b[43ma\u001b[49m)\n",
      "\u001b[31mNameError\u001b[39m: name 'a' is not defined"
     ]
    }
   ],
   "source": [
    "def add(a,b):\n",
    "    print(a+b)\n",
    "\n",
    "print(a)"
   ]
  },
  {
   "cell_type": "code",
   "execution_count": 10,
   "id": "0f879b15",
   "metadata": {},
   "outputs": [
    {
     "name": "stdout",
     "output_type": "stream",
     "text": [
      "12\n"
     ]
    }
   ],
   "source": [
    "add(10,2)"
   ]
  },
  {
   "cell_type": "code",
   "execution_count": 11,
   "id": "d00d3a9e",
   "metadata": {},
   "outputs": [
    {
     "ename": "NameError",
     "evalue": "name 'a' is not defined",
     "output_type": "error",
     "traceback": [
      "\u001b[31m---------------------------------------------------------------------------\u001b[39m",
      "\u001b[31mNameError\u001b[39m                                 Traceback (most recent call last)",
      "\u001b[36mCell\u001b[39m\u001b[36m \u001b[39m\u001b[32mIn[11]\u001b[39m\u001b[32m, line 1\u001b[39m\n\u001b[32m----> \u001b[39m\u001b[32m1\u001b[39m \u001b[38;5;28mprint\u001b[39m(\u001b[43ma\u001b[49m)\n",
      "\u001b[31mNameError\u001b[39m: name 'a' is not defined"
     ]
    }
   ],
   "source": [
    "print(a)"
   ]
  },
  {
   "cell_type": "code",
   "execution_count": 12,
   "id": "8c5df43a",
   "metadata": {},
   "outputs": [
    {
     "name": "stdout",
     "output_type": "stream",
     "text": [
      "234233\n"
     ]
    }
   ],
   "source": [
    "add(1,234232)"
   ]
  },
  {
   "cell_type": "code",
   "execution_count": 13,
   "id": "ff5bd91d",
   "metadata": {},
   "outputs": [],
   "source": [
    "# default arguments"
   ]
  },
  {
   "cell_type": "code",
   "execution_count": 14,
   "id": "d40a3ac6",
   "metadata": {},
   "outputs": [],
   "source": [
    "def add(a=0, b=0):\n",
    "    print(a)\n",
    "    print(b)\n",
    "    print(a+b)"
   ]
  },
  {
   "cell_type": "code",
   "execution_count": 15,
   "id": "48fa843f",
   "metadata": {},
   "outputs": [
    {
     "name": "stdout",
     "output_type": "stream",
     "text": [
      "0\n",
      "0\n",
      "0\n"
     ]
    }
   ],
   "source": [
    "add()"
   ]
  },
  {
   "cell_type": "code",
   "execution_count": 16,
   "id": "5f4ed6f5",
   "metadata": {},
   "outputs": [
    {
     "name": "stdout",
     "output_type": "stream",
     "text": [
      "5\n",
      "0\n",
      "5\n"
     ]
    }
   ],
   "source": [
    "add(5)"
   ]
  },
  {
   "cell_type": "code",
   "execution_count": 17,
   "id": "676d23c1",
   "metadata": {},
   "outputs": [
    {
     "name": "stdout",
     "output_type": "stream",
     "text": [
      "5\n",
      "6\n",
      "11\n"
     ]
    }
   ],
   "source": [
    "add(5,6)"
   ]
  },
  {
   "cell_type": "code",
   "execution_count": 18,
   "id": "b2e7b338",
   "metadata": {},
   "outputs": [
    {
     "name": "stdout",
     "output_type": "stream",
     "text": [
      "10\n",
      "5\n",
      "15\n"
     ]
    }
   ],
   "source": [
    "a = 5\n",
    "add(10, a)"
   ]
  },
  {
   "cell_type": "code",
   "execution_count": 19,
   "id": "ba426355",
   "metadata": {},
   "outputs": [
    {
     "name": "stdout",
     "output_type": "stream",
     "text": [
      "0\n"
     ]
    }
   ],
   "source": [
    "a = 0\n",
    "print(a)"
   ]
  },
  {
   "cell_type": "code",
   "execution_count": 20,
   "id": "e182b544",
   "metadata": {},
   "outputs": [
    {
     "name": "stdout",
     "output_type": "stream",
     "text": [
      "5\n"
     ]
    }
   ],
   "source": [
    "a = 5\n",
    "print(5)"
   ]
  },
  {
   "cell_type": "code",
   "execution_count": 21,
   "id": "3a4d378c",
   "metadata": {},
   "outputs": [],
   "source": [
    "def add(a=0, b=0):\n",
    "    print(a)\n",
    "    print(b)\n",
    "    print(a+b)"
   ]
  },
  {
   "cell_type": "code",
   "execution_count": 22,
   "id": "be474a76",
   "metadata": {},
   "outputs": [
    {
     "name": "stdout",
     "output_type": "stream",
     "text": [
      "3\n",
      "3\n",
      "6\n"
     ]
    }
   ],
   "source": [
    "add(a=3, b=3)"
   ]
  },
  {
   "cell_type": "code",
   "execution_count": 23,
   "id": "91624244",
   "metadata": {},
   "outputs": [
    {
     "name": "stdout",
     "output_type": "stream",
     "text": [
      "0\n",
      "3\n",
      "3\n"
     ]
    }
   ],
   "source": [
    "add(b=3)"
   ]
  },
  {
   "cell_type": "code",
   "execution_count": 24,
   "id": "75ab7970",
   "metadata": {},
   "outputs": [
    {
     "name": "stdout",
     "output_type": "stream",
     "text": [
      "hello\n",
      "\n",
      "\n",
      "\n",
      "hello\n"
     ]
    }
   ],
   "source": [
    "print(\"hello\", end=\"\\n\\n\\n\\n\")\n",
    "print(\"hello\")"
   ]
  },
  {
   "cell_type": "code",
   "execution_count": 25,
   "id": "6ed0a9f9",
   "metadata": {},
   "outputs": [],
   "source": [
    "def add_multiple_value(*args):\n",
    "    print(type(args))\n",
    "    sum = 0\n",
    "    for val in args:\n",
    "        sum+=val\n",
    "    print(sum)"
   ]
  },
  {
   "cell_type": "code",
   "execution_count": 26,
   "id": "dddb69e8",
   "metadata": {},
   "outputs": [
    {
     "name": "stdout",
     "output_type": "stream",
     "text": [
      "<class 'tuple'>\n",
      "15\n"
     ]
    }
   ],
   "source": [
    "add_multiple_value(1,2,3,4,5)"
   ]
  },
  {
   "cell_type": "code",
   "execution_count": 27,
   "id": "4bd3d241",
   "metadata": {},
   "outputs": [],
   "source": [
    "def greet_names(greeting, *args):\n",
    "    for i in args:\n",
    "        print(greeting, i)\n",
    "    print(len(args))\n",
    "    print(args[0])\n",
    "    print(args[1])\n",
    "    print(args[2])"
   ]
  },
  {
   "cell_type": "code",
   "execution_count": 28,
   "id": "11aa57a6",
   "metadata": {},
   "outputs": [
    {
     "name": "stdout",
     "output_type": "stream",
     "text": [
      "hello how are you !! krish\n",
      "hello how are you !! mohit\n",
      "hello how are you !! mohammad\n",
      "3\n",
      "krish\n",
      "mohit\n",
      "mohammad\n"
     ]
    }
   ],
   "source": [
    "greet_names(\"hello how are you !!\", \"krish\", \"mohit\", \"mohammad\")"
   ]
  },
  {
   "cell_type": "code",
   "execution_count": 29,
   "id": "25464fcd",
   "metadata": {},
   "outputs": [
    {
     "name": "stdout",
     "output_type": "stream",
     "text": [
      "<class 'dict'>\n",
      "{'a': 2, 'b': 3, 'c': 4, 'd': 5, 'e': 6}\n",
      "9\n",
      "12\n"
     ]
    }
   ],
   "source": [
    "def add(**kwargs):\n",
    "    print(type(kwargs))\n",
    "    print(kwargs)\n",
    "    print(kwargs[\"a\"] +kwargs[\"c\"] +kwargs[\"b\"])\n",
    "    print(kwargs.get(\"c\") + kwargs.get(\"b\") + kwargs.get(\"d\"))\n",
    "\n",
    "add(a=2, b=3, c=4, d=5, e=6)"
   ]
  },
  {
   "cell_type": "code",
   "execution_count": 30,
   "id": "5d29d3bb",
   "metadata": {},
   "outputs": [
    {
     "name": "stdout",
     "output_type": "stream",
     "text": [
      "<class 'tuple'>\n",
      "<class 'dict'>\n",
      "(1, 2)\n",
      "{'c': 4, 'd': 5, 'e': 6}\n"
     ]
    }
   ],
   "source": [
    "def add(*args, **kwargs):\n",
    "    print(type(args))\n",
    "    print(type(kwargs))\n",
    "    print(args)\n",
    "    print(kwargs)\n",
    "\n",
    "add(1,2, c=4, d=5, e=6)"
   ]
  },
  {
   "cell_type": "code",
   "execution_count": 31,
   "id": "688b0b01",
   "metadata": {},
   "outputs": [
    {
     "data": {
      "text/plain": [
       "36"
      ]
     },
     "execution_count": 31,
     "metadata": {},
     "output_type": "execute_result"
    }
   ],
   "source": [
    "a = [1,2,3,4,5,6,7,8]\n",
    "sum(a)"
   ]
  },
  {
   "cell_type": "code",
   "execution_count": 32,
   "id": "40893992",
   "metadata": {},
   "outputs": [],
   "source": [
    "def add(a,b):\n",
    "    c = a+b\n",
    "    return c"
   ]
  },
  {
   "cell_type": "code",
   "execution_count": 33,
   "id": "455b67fd",
   "metadata": {},
   "outputs": [
    {
     "name": "stdout",
     "output_type": "stream",
     "text": [
      "Function calling\n",
      "3\n",
      "Function executed successfully.\n"
     ]
    }
   ],
   "source": [
    "print(\"Function calling\")\n",
    "d = add(1,2)\n",
    "print(d)\n",
    "print(\"Function executed successfully.\")"
   ]
  },
  {
   "cell_type": "code",
   "execution_count": 34,
   "id": "b0271488",
   "metadata": {},
   "outputs": [
    {
     "name": "stdout",
     "output_type": "stream",
     "text": [
      "0\n",
      "0\n",
      "5\n",
      "5\n",
      "10\n",
      "0\n",
      "0\n"
     ]
    }
   ],
   "source": [
    "a = 0\n",
    "b = 0\n",
    "print(a)\n",
    "print(b)\n",
    "def add(a=1, b=1):\n",
    "    c = a+b\n",
    "    print(a)\n",
    "    print(b)\n",
    "    print(c)\n",
    "add(5,5)\n",
    "print(a)\n",
    "print(b)"
   ]
  },
  {
   "cell_type": "markdown",
   "id": "c54fa01a",
   "metadata": {},
   "source": [
    "# problem statment solution"
   ]
  },
  {
   "cell_type": "code",
   "execution_count": 1,
   "id": "4f5394e2",
   "metadata": {},
   "outputs": [],
   "source": [
    "id = 1\n",
    "patient_info = {}"
   ]
  },
  {
   "cell_type": "code",
   "execution_count": 2,
   "id": "e97cbd3b",
   "metadata": {},
   "outputs": [],
   "source": [
    "def calculate_bmi(weight_kg, height_cm):\n",
    "    bmi = weight_kg / ((height_cm/100)**2)\n",
    "    return bmi"
   ]
  },
  {
   "cell_type": "code",
   "execution_count": 3,
   "id": "d06984e2",
   "metadata": {},
   "outputs": [],
   "source": [
    "def patient_admission(f_name, l_name, date_ddmmyy, weight_kg, height_cm, country_lower_case):\n",
    "    global id\n",
    "    global patient_info\n",
    "\n",
    "    patient_info[id] = {}\n",
    "\n",
    "    patient_info[id][\"f_name\"] = f_name\n",
    "    patient_info[id][\"l_name\"] = l_name\n",
    "    patient_info[id][\"date_ddmmyy\"] = date_ddmmyy\n",
    "    patient_info[id][\"weight_kg\"] = weight_kg\n",
    "    patient_info[id][\"height_cm\"] = height_cm\n",
    "    patient_info[id][\"country\"] = country_lower_case\n",
    "    patient_info[id][\"temp_ind\"] = None\n",
    "    patient_info[id][\"temp_others\"] = None\n",
    "    patient_info[id][\"bmi\"] = calculate_bmi(weight_kg, height_cm)\n",
    "\n",
    "    if country_lower_case == \"india\":\n",
    "        patient_info[id][\"temp_ind\"] = float(input(\"Enter patient temperature in celcius : \"))\n",
    "    else :\n",
    "        patient_info[id][\"temp_others\"] = float(input(\"Enter patient temperature in fahrenheit: \"))\n",
    "\n",
    "    # increamenet the id\n",
    "    id+=1"
   ]
  },
  {
   "cell_type": "code",
   "execution_count": 4,
   "id": "3ded3da9",
   "metadata": {},
   "outputs": [],
   "source": [
    "def get_patient_details_for_opd(patient_id):\n",
    "    temp = None\n",
    "\n",
    "    if patient_info[patient_id][\"temp_ind\"] is not None:\n",
    "        temp = patient_info[patient_id][\"temp_ind\"]\n",
    "    else :\n",
    "        temp = patient_info[patient_id][\"temp_others\"]\n",
    "\n",
    "    print(\"Patient_id\", list(patient_info.keys())[patient_id-1], \" Patient full_name is : \", patient_info[patient_id][\"f_name\"] + \" \" + patient_info[patient_id][\"l_name\"], \"Patient temperate is : \", temp, \"Patient BMI is : \", patient_info[patient_id][\"bmi\"])"
   ]
  },
  {
   "cell_type": "code",
   "execution_count": 5,
   "id": "1448b5b8",
   "metadata": {},
   "outputs": [
    {
     "data": {
      "text/plain": [
       "dict_keys([])"
      ]
     },
     "execution_count": 5,
     "metadata": {},
     "output_type": "execute_result"
    }
   ],
   "source": [
    "patient_info.keys()"
   ]
  },
  {
   "cell_type": "code",
   "execution_count": 11,
   "id": "e4eb31e8",
   "metadata": {},
   "outputs": [],
   "source": [
    "f_name = input(\"Enter full name : \")\n",
    "l_name = input(\"Enter last name : \")\n",
    "date_ddmmyy = input(\"Enter date in ddmmyy format : \")\n",
    "weight_kg = float(input(\"Enter weight in kg : \"))\n",
    "height_cm = float(input(\"Enter height in cm : \"))\n",
    "country_lower_case = input(\"Enter country in lowercase : \")\n",
    "\n",
    "patient_admission(f_name, l_name, date_ddmmyy, weight_kg, height_cm, country_lower_case)"
   ]
  },
  {
   "cell_type": "code",
   "execution_count": 14,
   "id": "58408333",
   "metadata": {},
   "outputs": [
    {
     "name": "stdout",
     "output_type": "stream",
     "text": [
      "Patient_id 2  Patient full_name is :  SDDS  Patient temperate is :  53.0 Patient BMI is :  2457236.3439697134\n"
     ]
    }
   ],
   "source": [
    "get_patient_details_for_opd(2)"
   ]
  },
  {
   "cell_type": "code",
   "execution_count": 13,
   "id": "1fd0c57f",
   "metadata": {},
   "outputs": [
    {
     "name": "stdout",
     "output_type": "stream",
     "text": [
      "Patient_id 1  Patient full_name is :  TRISHA PANT Patient temperate is :  98.0 Patient BMI is :  20340.236686390526\n"
     ]
    }
   ],
   "source": [
    "get_patient_details_for_opd(1)"
   ]
  },
  {
   "cell_type": "code",
   "execution_count": 8,
   "id": "2a38a62e",
   "metadata": {},
   "outputs": [],
   "source": [
    "# 3,1\n",
    "# 2,3\n",
    "# 1,5\n",
    "# 0,7"
   ]
  },
  {
   "cell_type": "code",
   "execution_count": 7,
   "id": "6e8871c1",
   "metadata": {},
   "outputs": [
    {
     "name": "stdout",
     "output_type": "stream",
     "text": [
      "    *\n",
      "   ***\n",
      "  *****\n",
      " *******\n"
     ]
    }
   ],
   "source": [
    "star_i = 1\n",
    "for i in range(3, -1, -1):\n",
    "    print(\" \"*i, star_i*\"*\")\n",
    "    star_i+=2"
   ]
  },
  {
   "cell_type": "code",
   "execution_count": null,
   "id": "6c87527a",
   "metadata": {},
   "outputs": [],
   "source": []
  }
 ],
 "metadata": {
  "kernelspec": {
   "display_name": "base",
   "language": "python",
   "name": "python3"
  },
  "language_info": {
   "codemirror_mode": {
    "name": "ipython",
    "version": 3
   },
   "file_extension": ".py",
   "mimetype": "text/x-python",
   "name": "python",
   "nbconvert_exporter": "python",
   "pygments_lexer": "ipython3",
   "version": "3.12.7"
  }
 },
 "nbformat": 4,
 "nbformat_minor": 5
}
