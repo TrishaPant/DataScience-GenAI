{
 "cells": [
  {
   "cell_type": "code",
   "execution_count": 1,
   "id": "afb406a1",
   "metadata": {},
   "outputs": [
    {
     "name": "stdout",
     "output_type": "stream",
     "text": [
      "2\n"
     ]
    }
   ],
   "source": [
    "## Arithmetic operators\n",
    "a = 2 # assignment\n",
    "print(a)"
   ]
  },
  {
   "cell_type": "code",
   "execution_count": 2,
   "id": "1d380423",
   "metadata": {},
   "outputs": [
    {
     "name": "stdout",
     "output_type": "stream",
     "text": [
      "3\n"
     ]
    }
   ],
   "source": [
    "a+=1\n",
    "print(a)"
   ]
  },
  {
   "cell_type": "code",
   "execution_count": 3,
   "id": "dc09453a",
   "metadata": {},
   "outputs": [
    {
     "name": "stdout",
     "output_type": "stream",
     "text": [
      "2\n"
     ]
    }
   ],
   "source": [
    "a-=1\n",
    "print(a)"
   ]
  },
  {
   "cell_type": "code",
   "execution_count": 4,
   "id": "7695791b",
   "metadata": {},
   "outputs": [
    {
     "name": "stdout",
     "output_type": "stream",
     "text": [
      "1.0\n"
     ]
    }
   ],
   "source": [
    "a/=2\n",
    "print(a)"
   ]
  },
  {
   "cell_type": "code",
   "execution_count": 5,
   "id": "82d85626",
   "metadata": {},
   "outputs": [
    {
     "name": "stdout",
     "output_type": "stream",
     "text": [
      "3\n"
     ]
    }
   ],
   "source": [
    "a=10\n",
    "a//=3\n",
    "print(a)"
   ]
  },
  {
   "cell_type": "markdown",
   "id": "5a2ac44c",
   "metadata": {},
   "source": [
    "# Comparison operator"
   ]
  },
  {
   "cell_type": "code",
   "execution_count": 6,
   "id": "82e9f43c",
   "metadata": {},
   "outputs": [],
   "source": [
    "a = 2\n",
    "b = 3\n",
    "c = 10\n",
    "d = 20"
   ]
  },
  {
   "cell_type": "code",
   "execution_count": 7,
   "id": "f5a8ad68",
   "metadata": {},
   "outputs": [
    {
     "name": "stdout",
     "output_type": "stream",
     "text": [
      "False\n",
      "True\n",
      "True\n",
      "False\n"
     ]
    }
   ],
   "source": [
    "print(a > b)\n",
    "print(a < b)\n",
    "print(a <= b)\n",
    "print(a >= b)"
   ]
  },
  {
   "cell_type": "code",
   "execution_count": 8,
   "id": "e5d66fc5",
   "metadata": {},
   "outputs": [
    {
     "name": "stdout",
     "output_type": "stream",
     "text": [
      "True\n",
      "False\n"
     ]
    }
   ],
   "source": [
    "print(a!=b)\n",
    "print(a==b)"
   ]
  },
  {
   "cell_type": "code",
   "execution_count": 9,
   "id": "b4c27e7a",
   "metadata": {},
   "outputs": [
    {
     "name": "stdout",
     "output_type": "stream",
     "text": [
      "False\n",
      "True\n",
      "False\n"
     ]
    }
   ],
   "source": [
    "# a = 2\n",
    "# b = 3\n",
    "# c = 10\n",
    "# d = 20\n",
    "\n",
    "print(((a > b) and (c < d)))\n",
    "print(((a > b) or (c < d)))\n",
    "print((not (c < d)))"
   ]
  },
  {
   "cell_type": "markdown",
   "id": "2589e785",
   "metadata": {},
   "source": [
    "## Conditional Statements"
   ]
  },
  {
   "cell_type": "code",
   "execution_count": 10,
   "id": "ef790eb3",
   "metadata": {},
   "outputs": [
    {
     "name": "stdout",
     "output_type": "stream",
     "text": [
      "Welcome instructor\n"
     ]
    }
   ],
   "source": [
    "name = \"monal\"\n",
    "\n",
    "if name == \"monal\":\n",
    "    print(\"Welcome instructor\")\n",
    "else :\n",
    "    print(\"Welcome attendee\")"
   ]
  },
  {
   "cell_type": "code",
   "execution_count": 11,
   "id": "c8adfc96",
   "metadata": {},
   "outputs": [
    {
     "name": "stdout",
     "output_type": "stream",
     "text": [
      "We are adding 2 numbers\n",
      "5\n"
     ]
    }
   ],
   "source": [
    "operation_name = \"add\"\n",
    "\n",
    "if operation_name == \"add\":\n",
    "    print(\"We are adding 2 numbers\")\n",
    "    print(2+3)\n",
    "else:\n",
    "    print(\"We are not adding anything\")"
   ]
  },
  {
   "cell_type": "code",
   "execution_count": 12,
   "id": "cc91a370",
   "metadata": {},
   "outputs": [
    {
     "name": "stdout",
     "output_type": "stream",
     "text": [
      "before control flow\n",
      "We are not adding anything\n",
      "after control flow\n"
     ]
    }
   ],
   "source": [
    "operation_name = \"divide\"\n",
    "\n",
    "print(\"before control flow\")\n",
    "\n",
    "if operation_name == \"add\":\n",
    "    print(\"We are adding 2 numbers\")\n",
    "elif operation_name == \"subtract\":\n",
    "    print(\"We are subtracti 2 numbers\")\n",
    "else:\n",
    "    print(\"We are not adding anything\")\n",
    "\n",
    "print(\"after control flow\")"
   ]
  },
  {
   "cell_type": "code",
   "execution_count": 13,
   "id": "5aad2eb8",
   "metadata": {},
   "outputs": [
    {
     "name": "stdout",
     "output_type": "stream",
     "text": [
      "hello\n"
     ]
    }
   ],
   "source": [
    "operation_name = \"add\"\n",
    "\n",
    "if operation_name == 'add':\n",
    "    print(\"hello\")"
   ]
  },
  {
   "cell_type": "code",
   "execution_count": 14,
   "id": "9a106fa7",
   "metadata": {},
   "outputs": [
    {
     "name": "stdout",
     "output_type": "stream",
     "text": [
      "hello\n"
     ]
    }
   ],
   "source": [
    "operation_name = \"hello\"\n",
    "\n",
    "if operation_name == \"add\":\n",
    "    print(\"add\")\n",
    "elif operation_name == \"subtract\":\n",
    "    print(\"Subtract\")\n",
    "elif operation_name == \"multiple\":\n",
    "    print(\"multiply\")\n",
    "elif operation_name == \"division\":\n",
    "    print(\"division\")\n",
    "\n",
    "print(\"hello\")"
   ]
  },
  {
   "cell_type": "code",
   "execution_count": 15,
   "id": "8997c999",
   "metadata": {},
   "outputs": [
    {
     "name": "stdout",
     "output_type": "stream",
     "text": [
      "Welcome instructor\n",
      "disable chat for attendess\n"
     ]
    }
   ],
   "source": [
    "name = \"monal\"\n",
    "access = \"co-host\"\n",
    "\n",
    "if name == 'monal': \n",
    "    print(\"Welcome instructor\")\n",
    "if (name == 'monal') and (access==\"host\"):\n",
    "    print(\"Rename the name to monal kumar\")\n",
    "if (name == 'monal') or (access==\"host\"):\n",
    "    print(\"disable chat for attendess\")"
   ]
  },
  {
   "cell_type": "markdown",
   "id": "21ddcd4e",
   "metadata": {},
   "source": [
    "## User Input"
   ]
  },
  {
   "cell_type": "code",
   "execution_count": 16,
   "id": "fd2e560e",
   "metadata": {},
   "outputs": [
    {
     "name": "stdout",
     "output_type": "stream",
     "text": [
      "<class 'str'>\n",
      "5\n"
     ]
    }
   ],
   "source": [
    "a = input(\"Enter name : \")\n",
    "print(type(a))\n",
    "print(a)"
   ]
  },
  {
   "cell_type": "code",
   "execution_count": 17,
   "id": "fe7cfca9",
   "metadata": {},
   "outputs": [
    {
     "name": "stdout",
     "output_type": "stream",
     "text": [
      "25\n"
     ]
    }
   ],
   "source": [
    "a = input(\"Enter value 1 : \")\n",
    "b = input(\"Enter value 2 : \")\n",
    "print(a+b) # concat"
   ]
  },
  {
   "cell_type": "code",
   "execution_count": 18,
   "id": "e3956543",
   "metadata": {},
   "outputs": [
    {
     "name": "stdout",
     "output_type": "stream",
     "text": [
      "70\n"
     ]
    }
   ],
   "source": [
    "a = input(\"Enter value 1 : \")\n",
    "b = input(\"Enter value 2 : \")\n",
    "print(int(a)+int(b)) # addition"
   ]
  },
  {
   "cell_type": "code",
   "execution_count": 19,
   "id": "0e404644",
   "metadata": {},
   "outputs": [
    {
     "name": "stdout",
     "output_type": "stream",
     "text": [
      "113\n"
     ]
    }
   ],
   "source": [
    "a = int(input(\"Enter value 1 : \"))\n",
    "b = int(input(\"Enter value 2 : \"))\n",
    "print(a+b) # addition"
   ]
  },
  {
   "cell_type": "code",
   "execution_count": 20,
   "id": "b34895d5",
   "metadata": {},
   "outputs": [
    {
     "name": "stdout",
     "output_type": "stream",
     "text": [
      "add\n",
      "1.5\n"
     ]
    }
   ],
   "source": [
    "operation_name = 'add'\n",
    "if operation_name == \"add\":\n",
    "    print(\"add\")\n",
    "    print(3/2)"
   ]
  },
  {
   "cell_type": "code",
   "execution_count": 21,
   "id": "c6a2cb12",
   "metadata": {},
   "outputs": [
    {
     "name": "stdout",
     "output_type": "stream",
     "text": [
      "add\n",
      "5\n",
      "5\n"
     ]
    }
   ],
   "source": [
    "a = 5\n",
    "\n",
    "if a > 3:\n",
    "    print(\"add\")\n",
    "    print(a)\n",
    "    print(a)"
   ]
  },
  {
   "cell_type": "code",
   "execution_count": 23,
   "id": "404e968c",
   "metadata": {},
   "outputs": [
    {
     "name": "stdout",
     "output_type": "stream",
     "text": [
      "2\n"
     ]
    }
   ],
   "source": [
    "hello=1\n",
    "a = hello+1\n",
    "print(a)\n"
   ]
  },
  {
   "cell_type": "code",
   "execution_count": null,
   "id": "5f7c8ad6",
   "metadata": {},
   "outputs": [],
   "source": []
  }
 ],
 "metadata": {
  "kernelspec": {
   "display_name": "Python 3",
   "language": "python",
   "name": "python3"
  },
  "language_info": {
   "codemirror_mode": {
    "name": "ipython",
    "version": 3
   },
   "file_extension": ".py",
   "mimetype": "text/x-python",
   "name": "python",
   "nbconvert_exporter": "python",
   "pygments_lexer": "ipython3",
   "version": "3.12.0"
  }
 },
 "nbformat": 4,
 "nbformat_minor": 5
}
