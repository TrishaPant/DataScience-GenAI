{
 "cells": [
  {
   "cell_type": "code",
   "execution_count": 1,
   "id": "07f1c532",
   "metadata": {},
   "outputs": [],
   "source": [
    "import requests\n",
    "import time\n",
    "import threading\n",
    "import time\n",
    "import os"
   ]
  },
  {
   "cell_type": "code",
   "execution_count": 2,
   "id": "73b15377",
   "metadata": {},
   "outputs": [],
   "source": [
    "def download_file(process_name, url, file_path):\n",
    "    try:\n",
    "        print(f\"Download process name started : {process_name}\")\n",
    "        response = requests.get(url)\n",
    "        with open(file_path, \"wb\") as file:\n",
    "            for chunk in response.iter_content(chunk_size=8192):\n",
    "                if chunk:\n",
    "                    file.write(chunk)\n",
    "        print(\"File downloaded successfully\")\n",
    "    except Exception as e :\n",
    "        print(f\"Error downloading file : {e}\")\n",
    "    print(f\"Process name completed : {process_name}\")"
   ]
  },
  {
   "cell_type": "code",
   "execution_count": 3,
   "id": "192ef30b",
   "metadata": {},
   "outputs": [],
   "source": [
    "url = \"https://raw.githubusercontent.com/Monalsingh/VideoBroadcaster/refs/heads/main/static/default-office-animated.png\""
   ]
  },
  {
   "cell_type": "code",
   "execution_count": 4,
   "id": "bb78425e",
   "metadata": {},
   "outputs": [],
   "source": [
    "t1_wd = threading.Thread(target=download_file, args=(\"abc_1\", url, \"a.png\"), daemon=True)"
   ]
  },
  {
   "cell_type": "code",
   "execution_count": 5,
   "id": "a8ecba32",
   "metadata": {},
   "outputs": [
    {
     "name": "stdout",
     "output_type": "stream",
     "text": [
      "Download process name started : abc_1\n",
      "File downloaded successfully\n",
      "Process name completed : abc_1\n",
      "Process completed\n"
     ]
    }
   ],
   "source": [
    "t1_wd.start()\n",
    "\n",
    "t1_wd.join()\n",
    "\n",
    "print(\"Process completed\")"
   ]
  },
  {
   "cell_type": "markdown",
   "id": "993644be",
   "metadata": {},
   "source": [
    "# Close manually"
   ]
  },
  {
   "cell_type": "code",
   "execution_count": 6,
   "id": "0a46764e",
   "metadata": {},
   "outputs": [
    {
     "name": "stdout",
     "output_type": "stream",
     "text": [
      "Watching a.txt\n",
      "Watching file ....\n",
      "Watch exiting cleanly..\n",
      "Main program exited cleanly.\n"
     ]
    }
   ],
   "source": [
    "stop_signal = threading.Event() # bydefault it is false\n",
    "\n",
    "def watch_file(file_path):\n",
    "    count = 0\n",
    "    print(f\"Watching {file_path}\")\n",
    "    while not stop_signal.is_set():\n",
    "        print(\"Watching file ....\")\n",
    "        time.sleep(2)\n",
    "    print(\"Watch exiting cleanly..\")\n",
    "\n",
    "\n",
    "t1_wd = threading.Thread(target=watch_file, args=(\"a.txt\",))\n",
    "t1_wd.start()\n",
    "\n",
    "stop_signal.set() # Event value to be true\n",
    "\n",
    "t1_wd.join()\n",
    "\n",
    "time.sleep(5)\n",
    "\n",
    "print(\"Main program exited cleanly.\")"
   ]
  },
  {
   "cell_type": "code",
   "execution_count": 7,
   "id": "ed49b319",
   "metadata": {},
   "outputs": [
    {
     "name": "stdout",
     "output_type": "stream",
     "text": [
      "Watching a.txt\n",
      "Watching file ....\n",
      "Watching b.txt\n",
      "Watching file ....\n",
      "Watching c.txt\n",
      "Watching file ....\n",
      "Watching file ....\n",
      "Watching file ....\n",
      "Watching file ....\n",
      "Watching file ....\n",
      "Watching file ....\n",
      "Watching file ....\n",
      "Watching file ....\n",
      "Watching file ....\n",
      "Watch thread id : 1 exiting cleanly..\n",
      "Watching file ....\n",
      "Watching file ....\n",
      "Watching file ....\n",
      "Watch thread id : 2 exiting cleanly..\n",
      "Watching file ....\n",
      "Watching file ....\n",
      "Watch thread id : 3 exiting cleanly..\n",
      "Main program exited cleanly.\n"
     ]
    }
   ],
   "source": [
    "stop_signal_1 = threading.Event() # bydefault it is false\n",
    "stop_signal_2 = threading.Event()\n",
    "stop_signal_3 = threading.Event()\n",
    "\n",
    "\n",
    "def watch_file(thread_id, file_path, event_signal):\n",
    "    print(f\"Watching {file_path}\")\n",
    "    while not event_signal.is_set():\n",
    "        print(\"Watching file ....\")\n",
    "        time.sleep(2)\n",
    "    print(f\"Watch thread id : {thread_id } exiting cleanly..\")\n",
    "\n",
    "\n",
    "t1_wd = threading.Thread(target=watch_file, args=(1 ,\"a.txt\",stop_signal_1,))\n",
    "t2_wd = threading.Thread(target=watch_file, args=(2 ,\"b.txt\",stop_signal_2,))\n",
    "t3_wd = threading.Thread(target=watch_file, args=(3, \"c.txt\",stop_signal_3,))\n",
    "\n",
    "t1_wd.start()\n",
    "t2_wd.start()\n",
    "t3_wd.start()\n",
    "\n",
    "\n",
    "time.sleep(5)\n",
    "stop_signal_1.set() # Event value to be true\n",
    "\n",
    "time.sleep(5)\n",
    "stop_signal_2.set() # Event value to be true\n",
    "\n",
    "time.sleep(5)\n",
    "stop_signal_3.set() # Event value to be true\n",
    "\n",
    "\n",
    "t1_wd.join()\n",
    "t2_wd.join()\n",
    "t3_wd.join()\n",
    "\n",
    "time.sleep(5)\n",
    "\n",
    "print(\"Main program exited cleanly.\")"
   ]
  },
  {
   "cell_type": "code",
   "execution_count": 8,
   "id": "f67e3ec2",
   "metadata": {},
   "outputs": [
    {
     "name": "stdout",
     "output_type": "stream",
     "text": [
      "Watching a.txt\n",
      "Watching file ....\n",
      "Watching b.txt\n",
      "Watching file ....\n",
      "Watching c.txt\n",
      "Watching file ....\n",
      "Watching file ....Watching file ....\n",
      "\n",
      "Watching file ....\n",
      "Watching file ....Watching file ....\n",
      "\n",
      "Watching file ....\n",
      "Watch thread id : 1 exiting cleanly..Watching file ....\n",
      "\n",
      "Watching file ....\n",
      "Watching file ....\n",
      "Watching file ....\n",
      "Watch thread id : 2 exiting cleanly..Watching file ....\n",
      "\n",
      "Watching file ....\n",
      "Watching file ....\n",
      "Watch thread id : 3 exiting cleanly..\n",
      "Main program exited cleanly.\n"
     ]
    }
   ],
   "source": [
    "\n",
    "stop_event = {\"thread_1\": False, \"thread_2\": False, \"thread_3\": False}\n",
    "\n",
    "def watch_file(thread_id, file_path, thread_name):\n",
    "    print(f\"Watching {file_path}\")\n",
    "    while not stop_event[thread_name]:\n",
    "        print(\"Watching file ....\")\n",
    "        time.sleep(2)\n",
    "    print(f\"Watch thread id : {thread_id } exiting cleanly..\")\n",
    "\n",
    "\n",
    "t1_wd = threading.Thread(target=watch_file, args=(1 ,\"a.txt\",\"thread_1\",))\n",
    "t2_wd = threading.Thread(target=watch_file, args=(2 ,\"b.txt\",\"thread_2\",))\n",
    "t3_wd = threading.Thread(target=watch_file, args=(3, \"c.txt\",\"thread_3\",))\n",
    "\n",
    "t1_wd.start()\n",
    "t2_wd.start()\n",
    "t3_wd.start()\n",
    "\n",
    "\n",
    "time.sleep(5)\n",
    "stop_event[\"thread_1\"] = True # Event value to be true\n",
    "\n",
    "time.sleep(5)\n",
    "stop_event[\"thread_2\"] = True # Event value to be true\n",
    "\n",
    "time.sleep(5)\n",
    "stop_event[\"thread_3\"] = True # Event value to be true\n",
    "\n",
    "\n",
    "t1_wd.join()\n",
    "t2_wd.join()\n",
    "t3_wd.join()\n",
    "\n",
    "time.sleep(5)\n",
    "\n",
    "print(\"Main program exited cleanly.\")"
   ]
  },
  {
   "cell_type": "code",
   "execution_count": 9,
   "id": "54df0eca",
   "metadata": {},
   "outputs": [
    {
     "name": "stdout",
     "output_type": "stream",
     "text": [
      "Watching a.txt\n",
      "Watching file ....\n",
      "Watching b.txt\n",
      "Watching c.txt\n",
      "Watching file ....\n",
      "Watching file ....\n",
      "Watching file ....\n",
      "Watching file ....\n",
      "Watching file ....\n",
      "Watching file ....\n",
      "Watching file ....\n",
      "Watching file ....\n",
      "Watching file ....\n",
      "Watching file ....\n",
      "Watching file ....\n",
      "Watching file ....\n",
      "Watching file ....\n",
      "Watch thread id : 1 exiting cleanly..Watching file ....\n",
      "\n",
      "Watching file ....\n",
      "Watching file ....\n",
      "Watching file ....\n",
      "Watching file ....\n",
      "Watching file ....\n",
      "Watching file ....\n",
      "Watching file ....\n",
      "Watch thread id : 2 exiting cleanly..Watching file ....\n",
      "\n",
      "Watching file ....\n",
      "Watching file ....\n",
      "Watch thread id : 3 exiting cleanly..\n",
      "Main program exited cleanly.\n"
     ]
    }
   ],
   "source": [
    "\n",
    "stop_event = {\"thread_1\": False, \"thread_2\": False, \"thread_3\": False}\n",
    "stop_event_lock = threading.Lock()\n",
    "\n",
    "def watch_file(thread_id, file_path, thread_name):\n",
    "    print(f\"Watching {file_path}\")\n",
    "    while True:\n",
    "        with stop_event_lock:\n",
    "            if stop_event[thread_name]:\n",
    "                break\n",
    "            print(\"Watching file ....\")\n",
    "            time.sleep(2)\n",
    "    print(f\"Watch thread id : {thread_id } exiting cleanly..\")\n",
    "\n",
    "\n",
    "t1_wd = threading.Thread(target=watch_file, args=(1 ,\"a.txt\",\"thread_1\",))\n",
    "t2_wd = threading.Thread(target=watch_file, args=(2 ,\"b.txt\",\"thread_2\",))\n",
    "t3_wd = threading.Thread(target=watch_file, args=(3, \"c.txt\",\"thread_3\",))\n",
    "\n",
    "t1_wd.start()\n",
    "t2_wd.start()\n",
    "t3_wd.start()\n",
    "\n",
    "\n",
    "time.sleep(5)\n",
    "with stop_event_lock:\n",
    "    stop_event[\"thread_1\"] = True # Event value to be true\n",
    "\n",
    "time.sleep(5)\n",
    "with stop_event_lock:\n",
    "    stop_event[\"thread_2\"] = True # Event value to be true\n",
    "\n",
    "time.sleep(5)\n",
    "with stop_event_lock:\n",
    "    stop_event[\"thread_3\"] = True# Event value to be true\n",
    "\n",
    "\n",
    "t1_wd.join()\n",
    "t2_wd.join()\n",
    "t3_wd.join()\n",
    "\n",
    "time.sleep(5)\n",
    "\n",
    "print(\"Main program exited cleanly.\")"
   ]
  },
  {
   "cell_type": "markdown",
   "id": "5033f173",
   "metadata": {},
   "source": [
    "# ThreadPoolExecutor"
   ]
  },
  {
   "cell_type": "code",
   "execution_count": 10,
   "id": "0be19650",
   "metadata": {},
   "outputs": [],
   "source": [
    "from concurrent.futures import ThreadPoolExecutor"
   ]
  },
  {
   "cell_type": "code",
   "execution_count": 12,
   "id": "3cd225e4",
   "metadata": {},
   "outputs": [
    {
     "name": "stdout",
     "output_type": "stream",
     "text": [
      "Watching a.txt\n",
      "Watching file ....1\n",
      "Watching b.txt\n",
      "Watching file ....2\n",
      "Watching c.txt\n",
      "Watching file ....3\n",
      "Watching file ....1\n",
      "Watching file ....2\n",
      "Watching file ....3\n",
      "Watching file ....1\n",
      "Watching file ....2\n",
      "Watching file ....3\n",
      "Watching file ....1\n",
      "Watching file ....2\n",
      "Watching file ....3\n",
      "Watching file ....1\n",
      "Watching file ....2\n",
      "Watching file ....3\n",
      "Watch thread id : 1 exiting cleanly..\n",
      "Watching d.txt\n",
      "Watching file ....4\n",
      "Watch thread id : 2 exiting cleanly..\n",
      "Watch thread id : 3 exiting cleanly..\n",
      "Watching file ....4\n",
      "Watching file ....4\n",
      "Watching file ....4\n",
      "Watching file ....4\n",
      "Watch thread id : 4 exiting cleanly..\n",
      "Thread executed successfully\n"
     ]
    }
   ],
   "source": [
    "# start\n",
    "# join()\n",
    "\n",
    "a = [(1 ,\"a.txt\",\"thread_1\",), (2 ,\"b.txt\",\"thread_2\",), (3 ,\"c.txt\",\"thread_3\",), (4 ,\"d.txt\",\"thread_4\",)]\n",
    "def watch_file(input_tuple):\n",
    "    thread_id, file_path, thread_name = input_tuple\n",
    "    count=0\n",
    "    print(f\"Watching {file_path}\")\n",
    "    while count<5:\n",
    "        print(f\"Watching file ....{thread_id}\")\n",
    "        time.sleep(2)\n",
    "        count+=1\n",
    "    print(f\"Watch thread id : {thread_id } exiting cleanly..\")\n",
    "    return f\"Hello {thread_id}\"\n",
    "\n",
    "\n",
    "with ThreadPoolExecutor(max_workers=3) as executor:\n",
    "    results = list(executor.map(watch_file, a))\n",
    "\n",
    "# watch_file, (1 ,\"a.txt\",\"thread_1\",)\n",
    "# watch_file, (2 ,\"b.txt\",\"thread_2\",)\n",
    "# watch_file, (3 ,\"c.txt\",\"thread_3\",)\n",
    "# watch_file, (4 ,\"d.txt\",\"thread_4\",)\n",
    "\n",
    "print(\"Thread executed successfully\")"
   ]
  },
  {
   "cell_type": "code",
   "execution_count": 13,
   "id": "de7d0882",
   "metadata": {},
   "outputs": [
    {
     "name": "stdout",
     "output_type": "stream",
     "text": [
      "['Hello 1', 'Hello 2', 'Hello 3', 'Hello 4']\n"
     ]
    }
   ],
   "source": [
    "print(results)"
   ]
  },
  {
   "cell_type": "code",
   "execution_count": 14,
   "id": "8893efa1",
   "metadata": {},
   "outputs": [
    {
     "name": "stdout",
     "output_type": "stream",
     "text": [
      "1 2 3\n"
     ]
    }
   ],
   "source": [
    "a,b,c = [1,2,3]\n",
    "print(a,b,c)"
   ]
  },
  {
   "cell_type": "code",
   "execution_count": 15,
   "id": "1feb2425",
   "metadata": {},
   "outputs": [
    {
     "name": "stdout",
     "output_type": "stream",
     "text": [
      "a\n"
     ]
    }
   ],
   "source": [
    "from a import *"
   ]
  },
  {
   "cell_type": "code",
   "execution_count": 16,
   "id": "2e692229",
   "metadata": {},
   "outputs": [
    {
     "data": {
      "text/plain": [
       "[7, 7, 7, 7, 7]"
      ]
     },
     "execution_count": 16,
     "metadata": {},
     "output_type": "execute_result"
    }
   ],
   "source": [
    "[7]*5"
   ]
  },
  {
   "cell_type": "code",
   "execution_count": 17,
   "id": "610d5a94",
   "metadata": {},
   "outputs": [],
   "source": [
    "import multiprocessing"
   ]
  },
  {
   "cell_type": "code",
   "execution_count": 19,
   "id": "99e87bcc",
   "metadata": {},
   "outputs": [
    {
     "name": "stdout",
     "output_type": "stream",
     "text": [
      "12\n"
     ]
    }
   ],
   "source": [
    "print(multiprocessing.cpu_count())"
   ]
  },
  {
   "cell_type": "code",
   "execution_count": 21,
   "id": "728aeaac",
   "metadata": {},
   "outputs": [
    {
     "name": "stdout",
     "output_type": "stream",
     "text": [
      "2332934395776\n",
      "2332934395776\n",
      "2332934396544\n",
      "2332934396544\n",
      "2332934395776\n",
      "2332934397440\n",
      "2332934397440\n",
      "2332934395776\n",
      "2332934397824\n",
      "2332934397824\n",
      "2332934395776\n",
      "{'final_key': 'value'}\n",
      "{'first_level_key': {'second_level_key': {'third_level_key': {'final_key': 'value'}}}}\n",
      "2332934397824\n",
      "2332934395776\n"
     ]
    }
   ],
   "source": [
    "nested_dict = {}\n",
    "levels = ['first_level_key', 'second_level_key', 'third_level_key']\n",
    "\n",
    "current_dict = nested_dict\n",
    "print(id(current_dict))\n",
    "print(id(nested_dict))\n",
    "\n",
    "for level in levels:\n",
    "    current_dict[level] = {}\n",
    "    print(id(current_dict[level]))\n",
    "    current_dict = current_dict[level]\n",
    "    print(id(current_dict))\n",
    "    print(id(nested_dict))\n",
    "\n",
    "current_dict['final_key'] = 'value'\n",
    "print(current_dict)\n",
    "print(nested_dict)\n",
    "print(id(current_dict))\n",
    "print(id(nested_dict))\n",
    "\n",
    "\n",
    "nested_dict = {}\n",
    "current_dict = nested_dict"
   ]
  }
 ],
 "metadata": {
  "kernelspec": {
   "display_name": "base",
   "language": "python",
   "name": "python3"
  },
  "language_info": {
   "codemirror_mode": {
    "name": "ipython",
    "version": 3
   },
   "file_extension": ".py",
   "mimetype": "text/x-python",
   "name": "python",
   "nbconvert_exporter": "python",
   "pygments_lexer": "ipython3",
   "version": "3.12.7"
  }
 },
 "nbformat": 4,
 "nbformat_minor": 5
}
