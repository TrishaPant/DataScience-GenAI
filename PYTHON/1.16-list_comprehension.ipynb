{
 "cells": [
  {
   "cell_type": "markdown",
   "id": "1761ee87",
   "metadata": {},
   "source": [
    "# Lambda"
   ]
  },
  {
   "cell_type": "code",
   "execution_count": 1,
   "id": "28bbcf66",
   "metadata": {},
   "outputs": [],
   "source": [
    "def square(x):\n",
    "    return x*x"
   ]
  },
  {
   "cell_type": "code",
   "execution_count": 2,
   "id": "0d2bf1b5",
   "metadata": {},
   "outputs": [
    {
     "data": {
      "text/plain": [
       "9"
      ]
     },
     "execution_count": 2,
     "metadata": {},
     "output_type": "execute_result"
    }
   ],
   "source": [
    "square(3)"
   ]
  },
  {
   "cell_type": "code",
   "execution_count": 3,
   "id": "7336f70a",
   "metadata": {},
   "outputs": [],
   "source": [
    "square_lambda = lambda x : x*x"
   ]
  },
  {
   "cell_type": "code",
   "execution_count": 10,
   "id": "1e3fe58b",
   "metadata": {},
   "outputs": [
    {
     "name": "stdout",
     "output_type": "stream",
     "text": [
      "6 hello\n"
     ]
    }
   ],
   "source": [
    "square_lambda(3)"
   ]
  },
  {
   "cell_type": "code",
   "execution_count": 5,
   "id": "57ac2abe",
   "metadata": {},
   "outputs": [],
   "source": [
    "square_lambda = lambda x : print(x+x, \"hello\")"
   ]
  },
  {
   "cell_type": "code",
   "execution_count": 6,
   "id": "67e29fdc",
   "metadata": {},
   "outputs": [],
   "source": [
    "add_with_lambda = lambda x, y, z : x + y + z"
   ]
  },
  {
   "cell_type": "code",
   "execution_count": 7,
   "id": "a2552b68",
   "metadata": {},
   "outputs": [
    {
     "data": {
      "text/plain": [
       "6"
      ]
     },
     "execution_count": 7,
     "metadata": {},
     "output_type": "execute_result"
    }
   ],
   "source": [
    "add_with_lambda(1, 2,3)"
   ]
  },
  {
   "cell_type": "markdown",
   "id": "c78f2121",
   "metadata": {},
   "source": [
    "# Sort"
   ]
  },
  {
   "cell_type": "code",
   "execution_count": 11,
   "id": "1b1e7858",
   "metadata": {},
   "outputs": [],
   "source": [
    "a = [1,2,110, -3, 5, 6, 90, 78]"
   ]
  },
  {
   "cell_type": "code",
   "execution_count": 12,
   "id": "e61e0663",
   "metadata": {},
   "outputs": [],
   "source": [
    "a.sort()"
   ]
  },
  {
   "cell_type": "code",
   "execution_count": 13,
   "id": "1512ea57",
   "metadata": {},
   "outputs": [
    {
     "data": {
      "text/plain": [
       "[-3, 1, 2, 5, 6, 78, 90, 110]"
      ]
     },
     "execution_count": 13,
     "metadata": {},
     "output_type": "execute_result"
    }
   ],
   "source": [
    "a"
   ]
  },
  {
   "cell_type": "code",
   "execution_count": 14,
   "id": "d79ac857",
   "metadata": {},
   "outputs": [],
   "source": [
    "a = [1,2,110, -3, 5, 6, 90, 78]"
   ]
  },
  {
   "cell_type": "code",
   "execution_count": 15,
   "id": "c93ea9a6",
   "metadata": {},
   "outputs": [],
   "source": [
    "a.sort(reverse=True)"
   ]
  },
  {
   "cell_type": "code",
   "execution_count": 16,
   "id": "83045650",
   "metadata": {},
   "outputs": [
    {
     "data": {
      "text/plain": [
       "[110, 90, 78, 6, 5, 2, 1, -3]"
      ]
     },
     "execution_count": 16,
     "metadata": {},
     "output_type": "execute_result"
    }
   ],
   "source": [
    "a"
   ]
  },
  {
   "cell_type": "markdown",
   "id": "a4ae1916",
   "metadata": {},
   "source": [
    "# Sorted"
   ]
  },
  {
   "cell_type": "code",
   "execution_count": 17,
   "id": "f07330c0",
   "metadata": {},
   "outputs": [],
   "source": [
    "a = [1,2,110, -3, 5, 6, 90, 78]"
   ]
  },
  {
   "cell_type": "code",
   "execution_count": 18,
   "id": "de5d69db",
   "metadata": {},
   "outputs": [],
   "source": [
    "sorted_a = sorted(a)"
   ]
  },
  {
   "cell_type": "code",
   "execution_count": 19,
   "id": "963d76e3",
   "metadata": {},
   "outputs": [
    {
     "data": {
      "text/plain": [
       "[1, 2, 110, -3, 5, 6, 90, 78]"
      ]
     },
     "execution_count": 19,
     "metadata": {},
     "output_type": "execute_result"
    }
   ],
   "source": [
    "a"
   ]
  },
  {
   "cell_type": "code",
   "execution_count": 20,
   "id": "fc91ba3a",
   "metadata": {},
   "outputs": [
    {
     "data": {
      "text/plain": [
       "[-3, 1, 2, 5, 6, 78, 90, 110]"
      ]
     },
     "execution_count": 20,
     "metadata": {},
     "output_type": "execute_result"
    }
   ],
   "source": [
    "sorted_a"
   ]
  },
  {
   "cell_type": "markdown",
   "id": "7539d04f",
   "metadata": {},
   "source": [
    "# Using key= in both sort and sorted"
   ]
  },
  {
   "cell_type": "code",
   "execution_count": 21,
   "id": "dcf3ba26",
   "metadata": {},
   "outputs": [],
   "source": [
    "words = [\"apple\", \"kiwi\", \"banana\"]\n",
    "# apple - 5\n",
    "# kiwi - 4\n",
    "# banana - 6\n",
    "\n",
    "# kiwi, apple, banana"
   ]
  },
  {
   "cell_type": "code",
   "execution_count": 22,
   "id": "7bbdcaf2",
   "metadata": {},
   "outputs": [],
   "source": [
    "words.sort(key=len)"
   ]
  },
  {
   "cell_type": "code",
   "execution_count": 25,
   "id": "9cd1454b",
   "metadata": {},
   "outputs": [
    {
     "data": {
      "text/plain": [
       "['apple', 'kiwi', 'banana']"
      ]
     },
     "execution_count": 25,
     "metadata": {},
     "output_type": "execute_result"
    }
   ],
   "source": [
    "words"
   ]
  },
  {
   "cell_type": "code",
   "execution_count": 24,
   "id": "83aea92e",
   "metadata": {},
   "outputs": [
    {
     "name": "stdout",
     "output_type": "stream",
     "text": [
      "['kiwi', 'apple', 'banana']\n"
     ]
    }
   ],
   "source": [
    "words = [\"apple\", \"kiwi\", \"banana\"]\n",
    "print(sorted(words, key=len))"
   ]
  },
  {
   "cell_type": "code",
   "execution_count": 26,
   "id": "3cce7a60",
   "metadata": {},
   "outputs": [
    {
     "name": "stdout",
     "output_type": "stream",
     "text": [
      "['banana', 'apple', 'kiwi']\n"
     ]
    }
   ],
   "source": [
    "words = [\"apple\", \"kiwi\", \"banana\"]\n",
    "print(sorted(words, key=lambda x : x[-1]))"
   ]
  },
  {
   "cell_type": "code",
   "execution_count": 27,
   "id": "5effd1a3",
   "metadata": {},
   "outputs": [],
   "source": [
    "def get_last_char(x):\n",
    "    return x[-1]"
   ]
  },
  {
   "cell_type": "code",
   "execution_count": 28,
   "id": "0f29aa01",
   "metadata": {},
   "outputs": [
    {
     "name": "stdout",
     "output_type": "stream",
     "text": [
      "['banana', 'apple', 'kiwi']\n"
     ]
    }
   ],
   "source": [
    "words = [\"apple\", \"kiwi\", \"banana\"]\n",
    "# apple - e\n",
    "# kiwi - i\n",
    "# banana - a\n",
    "\n",
    "print(sorted(words, key=get_last_char))"
   ]
  },
  {
   "cell_type": "code",
   "execution_count": 29,
   "id": "fee01a35",
   "metadata": {},
   "outputs": [
    {
     "name": "stdout",
     "output_type": "stream",
     "text": [
      "['kiwi', 'apple', 'banana']\n"
     ]
    }
   ],
   "source": [
    "print(sorted(words, key=get_last_char, reverse=True))"
   ]
  },
  {
   "cell_type": "code",
   "execution_count": 30,
   "id": "ce8d554f",
   "metadata": {},
   "outputs": [],
   "source": [
    "a_dict = {\n",
    "    1 : \"hello\",\n",
    "    100 : \"bye\",\n",
    "    2 : \"How are you!\"\n",
    "}"
   ]
  },
  {
   "cell_type": "code",
   "execution_count": 31,
   "id": "b141c4a5",
   "metadata": {},
   "outputs": [
    {
     "name": "stdout",
     "output_type": "stream",
     "text": [
      "[1, 2, 100]\n"
     ]
    }
   ],
   "source": [
    "print(sorted(a_dict))"
   ]
  },
  {
   "cell_type": "code",
   "execution_count": 32,
   "id": "f685a4ed",
   "metadata": {},
   "outputs": [
    {
     "name": "stdout",
     "output_type": "stream",
     "text": [
      "1\n",
      "100\n",
      "2\n"
     ]
    }
   ],
   "source": [
    "for i in a_dict:\n",
    "    print(i)"
   ]
  },
  {
   "cell_type": "code",
   "execution_count": 33,
   "id": "88965ad1",
   "metadata": {},
   "outputs": [
    {
     "name": "stdout",
     "output_type": "stream",
     "text": [
      "[(1, 'hello'), (2, 'How are you!'), (100, 'bye')]\n"
     ]
    }
   ],
   "source": [
    "print(sorted(a_dict.items())) # iterations"
   ]
  },
  {
   "cell_type": "code",
   "execution_count": 36,
   "id": "0a308ad7",
   "metadata": {},
   "outputs": [
    {
     "name": "stdout",
     "output_type": "stream",
     "text": [
      "1\n",
      "100\n",
      "2\n"
     ]
    }
   ],
   "source": [
    "for k, v in a_dict.items():\n",
    "    print(k)"
   ]
  },
  {
   "cell_type": "markdown",
   "id": "9605d292",
   "metadata": {},
   "source": [
    "# map()"
   ]
  },
  {
   "cell_type": "code",
   "execution_count": 37,
   "id": "af3280a1",
   "metadata": {},
   "outputs": [],
   "source": [
    "# synatx map(fucntion, iterable)"
   ]
  },
  {
   "cell_type": "code",
   "execution_count": 38,
   "id": "604836da",
   "metadata": {},
   "outputs": [],
   "source": [
    "square = lambda x : x*x"
   ]
  },
  {
   "cell_type": "code",
   "execution_count": 39,
   "id": "6859b509",
   "metadata": {},
   "outputs": [],
   "source": [
    "nums = list(range(0,11))\n",
    "# nums = [0, 1, 2, 3, 4, 5, 6, 7, 8, 9, 10]"
   ]
  },
  {
   "cell_type": "code",
   "execution_count": 40,
   "id": "3066b3b8",
   "metadata": {},
   "outputs": [
    {
     "data": {
      "text/plain": [
       "[0, 1, 2, 3, 4, 5, 6, 7, 8, 9, 10]"
      ]
     },
     "execution_count": 40,
     "metadata": {},
     "output_type": "execute_result"
    }
   ],
   "source": [
    "nums"
   ]
  },
  {
   "cell_type": "code",
   "execution_count": 41,
   "id": "5f49762c",
   "metadata": {},
   "outputs": [],
   "source": [
    "result = list(map(square, nums))"
   ]
  },
  {
   "cell_type": "code",
   "execution_count": 42,
   "id": "03f24a1a",
   "metadata": {},
   "outputs": [
    {
     "name": "stdout",
     "output_type": "stream",
     "text": [
      "[0, 1, 4, 9, 16, 25, 36, 49, 64, 81, 100]\n"
     ]
    }
   ],
   "source": [
    "print(result)"
   ]
  },
  {
   "cell_type": "code",
   "execution_count": 43,
   "id": "066572d3",
   "metadata": {},
   "outputs": [],
   "source": [
    "# map will apply a function to all items in an iterable"
   ]
  },
  {
   "cell_type": "code",
   "execution_count": 44,
   "id": "06920ee7",
   "metadata": {},
   "outputs": [],
   "source": [
    "add_lambda = lambda item : item[0] + item[1]"
   ]
  },
  {
   "cell_type": "code",
   "execution_count": 45,
   "id": "54d77fb2",
   "metadata": {},
   "outputs": [],
   "source": [
    "a = [(1,2),(3,4),(5,6),(7,8)]"
   ]
  },
  {
   "cell_type": "code",
   "execution_count": 46,
   "id": "38be89e7",
   "metadata": {},
   "outputs": [
    {
     "data": {
      "text/plain": [
       "[3, 7, 11, 15]"
      ]
     },
     "execution_count": 46,
     "metadata": {},
     "output_type": "execute_result"
    }
   ],
   "source": [
    "list(map(add_lambda, a))"
   ]
  },
  {
   "cell_type": "markdown",
   "id": "ecdfdd00",
   "metadata": {},
   "source": [
    "# zip"
   ]
  },
  {
   "cell_type": "code",
   "execution_count": 47,
   "id": "967482cb",
   "metadata": {},
   "outputs": [],
   "source": [
    "names = [\"monal\", \"gagan\", 1]\n",
    "scores = [10, 100]"
   ]
  },
  {
   "cell_type": "code",
   "execution_count": 48,
   "id": "baa14270",
   "metadata": {},
   "outputs": [
    {
     "data": {
      "text/plain": [
       "[('monal', 10), ('gagan', 100)]"
      ]
     },
     "execution_count": 48,
     "metadata": {},
     "output_type": "execute_result"
    }
   ],
   "source": [
    "list(zip(names, scores))"
   ]
  },
  {
   "cell_type": "code",
   "execution_count": 49,
   "id": "10c1dc40",
   "metadata": {},
   "outputs": [
    {
     "name": "stdout",
     "output_type": "stream",
     "text": [
      "('monal', 10)\n",
      "('gagan', 100)\n"
     ]
    }
   ],
   "source": [
    "for i in zip(names, scores):\n",
    "    print(i)\n",
    "\n",
    "# packing"
   ]
  },
  {
   "cell_type": "code",
   "execution_count": 50,
   "id": "4117b2f2",
   "metadata": {},
   "outputs": [
    {
     "data": {
      "text/plain": [
       "{'monal': 10, 'gagan': 100}"
      ]
     },
     "execution_count": 50,
     "metadata": {},
     "output_type": "execute_result"
    }
   ],
   "source": [
    "dict(zip(names, scores))"
   ]
  },
  {
   "cell_type": "markdown",
   "id": "a41a698c",
   "metadata": {},
   "source": [
    "# unpacking"
   ]
  },
  {
   "cell_type": "code",
   "execution_count": 51,
   "id": "b1524417",
   "metadata": {},
   "outputs": [],
   "source": [
    "nums = [1,2,3]"
   ]
  },
  {
   "cell_type": "code",
   "execution_count": 52,
   "id": "4b805221",
   "metadata": {},
   "outputs": [
    {
     "name": "stdout",
     "output_type": "stream",
     "text": [
      "1 2 3\n"
     ]
    }
   ],
   "source": [
    "print(*nums)"
   ]
  },
  {
   "cell_type": "code",
   "execution_count": 53,
   "metadata": {},
   "outputs": [],
   "source": [
    "def add(a,b,c):\n",
    "    print(a+b+c)"
   ]
  },
  {
   "cell_type": "code",
   "execution_count": 54,
   "id": "575227a5",
   "metadata": {},
   "outputs": [
    {
     "name": "stdout",
     "output_type": "stream",
     "text": [
      "6\n"
     ]
    }
   ],
   "source": [
    "add(*nums)\n",
    "# 1,2,3"
   ]
  },
  {
   "cell_type": "code",
   "execution_count": 55,
   "id": "844859e8",
   "metadata": {},
   "outputs": [
    {
     "name": "stdout",
     "output_type": "stream",
     "text": [
      "monal 10\n",
      "gagan 100\n"
     ]
    }
   ],
   "source": [
    "for i in zip(names, scores):\n",
    "    print(*i)\n",
    "\n",
    "# packing"
   ]
  },
  {
   "cell_type": "code",
   "execution_count": 56,
   "id": "04ad3992",
   "metadata": {},
   "outputs": [],
   "source": [
    "def zip_files(*files):\n",
    "    print(\"Zipping:\", files)\n",
    "\n",
    "all_files = [1,2,3]\n"
   ]
  },
  {
   "cell_type": "code",
   "execution_count": 57,
   "id": "b129f168",
   "metadata": {},
   "outputs": [
    {
     "name": "stdout",
     "output_type": "stream",
     "text": [
      "Zipping: (1, 2, 3)\n"
     ]
    }
   ],
   "source": [
    "zip_files(*all_files)"
   ]
  },
  {
   "cell_type": "code",
   "execution_count": 58,
   "id": "86c86521",
   "metadata": {},
   "outputs": [],
   "source": [
    "nums = [(1,\"monal\"),(2,\"hello\"),(3, 100)]"
   ]
  },
  {
   "cell_type": "code",
   "execution_count": 59,
   "id": "e4cdff5d",
   "metadata": {},
   "outputs": [
    {
     "name": "stdout",
     "output_type": "stream",
     "text": [
      "(1, 'monal') (2, 'hello') (3, 100)\n"
     ]
    }
   ],
   "source": [
    "print(*nums)"
   ]
  },
  {
   "cell_type": "code",
   "execution_count": 60,
   "id": "b6c3ea64",
   "metadata": {},
   "outputs": [
    {
     "name": "stdout",
     "output_type": "stream",
     "text": [
      "(1, 2, 3)\n",
      "('monal', 'hello', 100)\n"
     ]
    }
   ],
   "source": [
    "names, scores = zip(*nums)\n",
    "print(names)\n",
    "print(scores)"
   ]
  },
  {
   "cell_type": "markdown",
   "id": "654ab962",
   "metadata": {},
   "source": [
    "# list comprehension"
   ]
  },
  {
   "cell_type": "code",
   "execution_count": 61,
   "id": "40723193",
   "metadata": {},
   "outputs": [],
   "source": [
    "# short expressive way to generate a new list or filter a list"
   ]
  },
  {
   "cell_type": "code",
   "execution_count": 62,
   "id": "8d5ab81e",
   "metadata": {},
   "outputs": [],
   "source": [
    "nums = [1,1,1,1,1,2,2,3,4,1,1,11,234,1]"
   ]
  },
  {
   "cell_type": "code",
   "execution_count": 63,
   "id": "bd34636c",
   "metadata": {},
   "outputs": [],
   "source": [
    "# Syntax : [expression for item in iterable if condition]"
   ]
  },
  {
   "cell_type": "code",
   "execution_count": 64,
   "id": "ae43d733",
   "metadata": {},
   "outputs": [],
   "source": [
    "# ps : keep all the ones"
   ]
  },
  {
   "cell_type": "code",
   "execution_count": 65,
   "id": "566f9e0b",
   "metadata": {},
   "outputs": [
    {
     "name": "stdout",
     "output_type": "stream",
     "text": [
      "[1, 1, 1, 1, 1, 1, 1, 1]\n"
     ]
    }
   ],
   "source": [
    "new_res = []\n",
    "for i in nums:\n",
    "    if i == 1:\n",
    "        new_res.append(i)\n",
    "print(new_res)"
   ]
  },
  {
   "cell_type": "code",
   "execution_count": 66,
   "id": "309c5418",
   "metadata": {},
   "outputs": [],
   "source": [
    "new_res = [i for i in nums if i==1]"
   ]
  },
  {
   "cell_type": "code",
   "execution_count": 67,
   "id": "82450536",
   "metadata": {},
   "outputs": [
    {
     "name": "stdout",
     "output_type": "stream",
     "text": [
      "[1, 1, 1, 1, 1, 1, 1, 1]\n"
     ]
    }
   ],
   "source": [
    "print(new_res)"
   ]
  },
  {
   "cell_type": "code",
   "execution_count": 68,
   "id": "cd7e47ec",
   "metadata": {},
   "outputs": [],
   "source": [
    "# ps : square of numbers"
   ]
  },
  {
   "cell_type": "code",
   "execution_count": 69,
   "id": "e985a3f0",
   "metadata": {},
   "outputs": [
    {
     "name": "stdout",
     "output_type": "stream",
     "text": [
      "[1, 1, 1, 1, 1, 4, 4, 9, 16, 1, 1, 121, 54756, 1]\n"
     ]
    }
   ],
   "source": [
    "new_res = []\n",
    "for i in nums:\n",
    "    new_res.append(i*i)\n",
    "print(new_res)"
   ]
  },
  {
   "cell_type": "code",
   "execution_count": 70,
   "id": "adbe1677",
   "metadata": {},
   "outputs": [],
   "source": [
    "new_res = [i*i for i in nums]"
   ]
  },
  {
   "cell_type": "code",
   "execution_count": 71,
   "id": "3a99d928",
   "metadata": {},
   "outputs": [
    {
     "data": {
      "text/plain": [
       "[1, 1, 1, 1, 1, 4, 4, 9, 16, 1, 1, 121, 54756, 1]"
      ]
     },
     "execution_count": 71,
     "metadata": {},
     "output_type": "execute_result"
    }
   ],
   "source": [
    "new_res"
   ]
  },
  {
   "cell_type": "code",
   "execution_count": 72,
   "id": "5e4551f2",
   "metadata": {},
   "outputs": [],
   "source": [
    "nums = [1,2,3]\n",
    "\n",
    "# p.s. : if the number is even, then perform the square and output should be in list"
   ]
  },
  {
   "cell_type": "code",
   "execution_count": 73,
   "id": "871fec92",
   "metadata": {},
   "outputs": [],
   "source": [
    "ans=[i*i for i in nums if i%2==0]"
   ]
  },
  {
   "cell_type": "code",
   "execution_count": 74,
   "id": "bdc7703f",
   "metadata": {},
   "outputs": [
    {
     "name": "stdout",
     "output_type": "stream",
     "text": [
      "[4]\n"
     ]
    }
   ],
   "source": [
    "print(ans)"
   ]
  },
  {
   "cell_type": "markdown",
   "id": "543f3ab3",
   "metadata": {},
   "source": [
    "# Dict comprehension"
   ]
  },
  {
   "cell_type": "code",
   "execution_count": 75,
   "id": "5f45c514",
   "metadata": {},
   "outputs": [],
   "source": [
    "# {key_expression : value_expression for item in iterable if condition}"
   ]
  },
  {
   "cell_type": "code",
   "execution_count": 76,
   "id": "62dfc9ad",
   "metadata": {},
   "outputs": [],
   "source": [
    "names = [\"monal\", \"gagan\", \"hello\"]\n",
    "scores = [10, 100, -100]"
   ]
  },
  {
   "cell_type": "code",
   "execution_count": 77,
   "id": "b747e523",
   "metadata": {},
   "outputs": [],
   "source": [
    "result = {name.capitalize() : score+100 for name, score in zip(names, scores)}"
   ]
  },
  {
   "cell_type": "code",
   "execution_count": 78,
   "id": "0cf1d89b",
   "metadata": {},
   "outputs": [
    {
     "name": "stdout",
     "output_type": "stream",
     "text": [
      "{'Monal': 110, 'Gagan': 200, 'Hello': 0}\n"
     ]
    }
   ],
   "source": [
    "print(result)"
   ]
  }
 ],
 "metadata": {
  "kernelspec": {
   "display_name": "base",
   "language": "python",
   "name": "python3"
  },
  "language_info": {
   "codemirror_mode": {
    "name": "ipython",
    "version": 3
   },
   "file_extension": ".py",
   "mimetype": "text/x-python",
   "name": "python",
   "nbconvert_exporter": "python",
   "pygments_lexer": "ipython3",
   "version": "3.12.7"
  }
 },
 "nbformat": 4,
 "nbformat_minor": 5
}
