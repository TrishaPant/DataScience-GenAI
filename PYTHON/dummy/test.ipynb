{
 "cells": [
  {
   "cell_type": "code",
   "execution_count": 45,
   "id": "d3c7115b",
   "metadata": {},
   "outputs": [],
   "source": [
    "from hospital.admission.utils import add"
   ]
  },
  {
   "cell_type": "code",
   "execution_count": 47,
   "id": "5a28618a",
   "metadata": {},
   "outputs": [],
   "source": [
    "import sys\n",
    "import os"
   ]
  },
  {
   "cell_type": "code",
   "execution_count": 48,
   "id": "118c01a1",
   "metadata": {},
   "outputs": [],
   "source": [
    "# Add the directory containing your modules to sys.path\n",
    "sys.path.append(r\"E:\\1-Python Basics\\dummy\")"
   ]
  },
  {
   "cell_type": "code",
   "execution_count": 49,
   "id": "448f0ba4",
   "metadata": {},
   "outputs": [],
   "source": [
    "from hospital.admission.utils import add"
   ]
  },
  {
   "cell_type": "code",
   "execution_count": 39,
   "id": "b8879f69",
   "metadata": {},
   "outputs": [
    {
     "data": {
      "text/plain": [
       "'e:\\\\ULTIMATE DATA SCIENCE & GENAI\\\\PYTHON\\\\1-Python Basics\\\\dummy'"
      ]
     },
     "execution_count": 39,
     "metadata": {},
     "output_type": "execute_result"
    }
   ],
   "source": [
    "os.path.abspath(\".\")"
   ]
  },
  {
   "cell_type": "code",
   "execution_count": 40,
   "id": "3e63f3a9",
   "metadata": {},
   "outputs": [
    {
     "data": {
      "text/plain": [
       "'e:\\\\ULTIMATE DATA SCIENCE & GENAI\\\\PYTHON\\\\1-Python Basics'"
      ]
     },
     "execution_count": 40,
     "metadata": {},
     "output_type": "execute_result"
    }
   ],
   "source": [
    "os.path.abspath(\"..\") # go 1 level up"
   ]
  },
  {
   "cell_type": "code",
   "execution_count": 41,
   "id": "c40bf02a",
   "metadata": {},
   "outputs": [
    {
     "data": {
      "text/plain": [
       "'e:\\\\ULTIMATE DATA SCIENCE & GENAI\\\\PYTHON\\\\1-Python Basics'"
      ]
     },
     "execution_count": 41,
     "metadata": {},
     "output_type": "execute_result"
    }
   ],
   "source": [
    "os.path.abspath(\"../\") # go 1 level up"
   ]
  },
  {
   "cell_type": "code",
   "execution_count": 42,
   "id": "358eeeef",
   "metadata": {},
   "outputs": [
    {
     "data": {
      "text/plain": [
       "'e:\\\\ULTIMATE DATA SCIENCE & GENAI\\\\PYTHON'"
      ]
     },
     "execution_count": 42,
     "metadata": {},
     "output_type": "execute_result"
    }
   ],
   "source": [
    "os.path.abspath(\"../..\")"
   ]
  },
  {
   "cell_type": "code",
   "execution_count": 43,
   "id": "df23dad9",
   "metadata": {},
   "outputs": [
    {
     "data": {
      "text/plain": [
       "'e:\\\\ULTIMATE DATA SCIENCE & GENAI'"
      ]
     },
     "execution_count": 43,
     "metadata": {},
     "output_type": "execute_result"
    }
   ],
   "source": [
    "os.path.abspath(\"../../..\")"
   ]
  },
  {
   "cell_type": "code",
   "execution_count": 44,
   "id": "abd9a8ca",
   "metadata": {},
   "outputs": [],
   "source": [
    "sys.path.append(os.path.abspath(\"..\"))"
   ]
  },
  {
   "cell_type": "code",
   "execution_count": null,
   "id": "0de33ab4",
   "metadata": {},
   "outputs": [],
   "source": []
  }
 ],
 "metadata": {
  "kernelspec": {
   "display_name": "base",
   "language": "python",
   "name": "python3"
  },
  "language_info": {
   "codemirror_mode": {
    "name": "ipython",
    "version": 3
   },
   "file_extension": ".py",
   "mimetype": "text/x-python",
   "name": "python",
   "nbconvert_exporter": "python",
   "pygments_lexer": "ipython3",
   "version": "3.12.7"
  }
 },
 "nbformat": 4,
 "nbformat_minor": 5
}
