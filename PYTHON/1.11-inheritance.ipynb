{
 "cells": [
  {
   "cell_type": "code",
   "execution_count": 1,
   "id": "7f629eec",
   "metadata": {},
   "outputs": [],
   "source": [
    "class A:\n",
    "    def add(self, a, b):\n",
    "        print(f\"hello : a value is {a} & b value is {b}\")\n",
    "    \n",
    "    def add(self, a, b):\n",
    "        print(f\"hello : a value is {a} & b value is {b}. This is final add.\")"
   ]
  },
  {
   "cell_type": "code",
   "execution_count": 2,
   "id": "4b802225",
   "metadata": {},
   "outputs": [],
   "source": [
    "a_obj = A()"
   ]
  },
  {
   "cell_type": "code",
   "execution_count": 3,
   "id": "4155fe54",
   "metadata": {},
   "outputs": [
    {
     "name": "stdout",
     "output_type": "stream",
     "text": [
      "hello : a value is 1 & b value is 2. This is final add.\n"
     ]
    }
   ],
   "source": [
    "a_obj.add(1,2)"
   ]
  },
  {
   "cell_type": "code",
   "execution_count": 4,
   "id": "bc0bb9d9",
   "metadata": {},
   "outputs": [],
   "source": [
    "class A:\n",
    "    def add(self, a, b):\n",
    "        print(f\"hello : a value is {a} & b value is {b}\")\n",
    "    \n",
    "    def add(self, a, b, c):\n",
    "        print(f\"hello : a value is {a} & b value is {b} & c value is {c}. This is final add.\")"
   ]
  },
  {
   "cell_type": "code",
   "execution_count": 5,
   "id": "0c49e70f",
   "metadata": {},
   "outputs": [],
   "source": [
    "a_obj_new = A()"
   ]
  },
  {
   "cell_type": "code",
   "execution_count": 6,
   "id": "febbf941",
   "metadata": {},
   "outputs": [
    {
     "ename": "TypeError",
     "evalue": "A.add() missing 1 required positional argument: 'c'",
     "output_type": "error",
     "traceback": [
      "\u001b[1;31m---------------------------------------------------------------------------\u001b[0m",
      "\u001b[1;31mTypeError\u001b[0m                                 Traceback (most recent call last)",
      "Cell \u001b[1;32mIn[6], line 1\u001b[0m\n\u001b[1;32m----> 1\u001b[0m a_obj_new\u001b[38;5;241m.\u001b[39madd(\u001b[38;5;241m1\u001b[39m,\u001b[38;5;241m2\u001b[39m)\n",
      "\u001b[1;31mTypeError\u001b[0m: A.add() missing 1 required positional argument: 'c'"
     ]
    }
   ],
   "source": [
    "a_obj_new.add(1,2)"
   ]
  },
  {
   "cell_type": "markdown",
   "id": "e6ed7d30",
   "metadata": {},
   "source": [
    "# Inheritance : What if multiple parents have same method name, how to invoke the selected"
   ]
  },
  {
   "cell_type": "code",
   "execution_count": 7,
   "id": "37b59345",
   "metadata": {},
   "outputs": [],
   "source": [
    "class B:\n",
    "    def greet(self):\n",
    "        print(\"Hello from B\")\n",
    "\n",
    "class C:\n",
    "    def greet(self):\n",
    "        print(\"Hello from C\")\n",
    "\n",
    "class A(B):\n",
    "    def greet(self):\n",
    "        super().greet()\n",
    "        print(\"Hello from A\")"
   ]
  },
  {
   "cell_type": "code",
   "execution_count": 8,
   "id": "5c74062a",
   "metadata": {},
   "outputs": [],
   "source": [
    "cls_obj_1 = A()"
   ]
  },
  {
   "cell_type": "code",
   "execution_count": 9,
   "id": "ec779039",
   "metadata": {},
   "outputs": [
    {
     "name": "stdout",
     "output_type": "stream",
     "text": [
      "Hello from B\n",
      "Hello from A\n"
     ]
    }
   ],
   "source": [
    "cls_obj_1.greet()"
   ]
  },
  {
   "cell_type": "code",
   "execution_count": 10,
   "id": "174a66f5",
   "metadata": {},
   "outputs": [],
   "source": [
    "class B:\n",
    "    def greet(self):\n",
    "        print(\"Hello from B\")\n",
    "\n",
    "class C:\n",
    "    def greet(self):\n",
    "        print(\"Hello from C\")\n",
    "\n",
    "class A(B, C):\n",
    "    def greet(self):\n",
    "        super().greet()\n",
    "        print(\"Hello from A\")"
   ]
  },
  {
   "cell_type": "code",
   "execution_count": 11,
   "id": "094be84c",
   "metadata": {},
   "outputs": [],
   "source": [
    "obj_1_new = A()"
   ]
  },
  {
   "cell_type": "code",
   "execution_count": 13,
   "id": "1c445cde",
   "metadata": {},
   "outputs": [
    {
     "name": "stdout",
     "output_type": "stream",
     "text": [
      "Hello from B\n",
      "Hello from A\n"
     ]
    }
   ],
   "source": [
    "obj_1_new.greet()"
   ]
  },
  {
   "cell_type": "code",
   "execution_count": 14,
   "id": "ac504d18",
   "metadata": {},
   "outputs": [
    {
     "name": "stdout",
     "output_type": "stream",
     "text": [
      "[<class '__main__.A'>, <class '__main__.B'>, <class '__main__.C'>, <class 'object'>]\n"
     ]
    }
   ],
   "source": [
    "print(A.mro())"
   ]
  },
  {
   "cell_type": "code",
   "execution_count": 15,
   "id": "d0cf72df",
   "metadata": {},
   "outputs": [
    {
     "name": "stdout",
     "output_type": "stream",
     "text": [
      "Hello from B\n"
     ]
    }
   ],
   "source": [
    "# obj_1_new class A object\n",
    "B.greet(obj_1_new)"
   ]
  },
  {
   "cell_type": "code",
   "execution_count": 16,
   "id": "15039866",
   "metadata": {},
   "outputs": [
    {
     "name": "stdout",
     "output_type": "stream",
     "text": [
      "Hello from C\n"
     ]
    }
   ],
   "source": [
    "C.greet(obj_1_new)"
   ]
  },
  {
   "cell_type": "code",
   "execution_count": 17,
   "id": "4c030536",
   "metadata": {},
   "outputs": [],
   "source": [
    "class B:\n",
    "    def greet(self):\n",
    "        print(\"Hello from B\")\n",
    "\n",
    "class C:\n",
    "    def greet(self):\n",
    "        print(\"Hello from C\")\n",
    "\n",
    "class A(C, B):\n",
    "    def __init__(self):\n",
    "        super().greet()"
   ]
  },
  {
   "cell_type": "code",
   "execution_count": 18,
   "id": "cf230db2",
   "metadata": {},
   "outputs": [
    {
     "name": "stdout",
     "output_type": "stream",
     "text": [
      "[<class '__main__.A'>, <class '__main__.C'>, <class '__main__.B'>, <class 'object'>]\n"
     ]
    }
   ],
   "source": [
    "print(A.mro())"
   ]
  },
  {
   "cell_type": "code",
   "execution_count": 19,
   "id": "8ede75f1",
   "metadata": {},
   "outputs": [
    {
     "name": "stdout",
     "output_type": "stream",
     "text": [
      "Hello from C\n"
     ]
    }
   ],
   "source": [
    "obj_a = A()"
   ]
  },
  {
   "cell_type": "code",
   "execution_count": 20,
   "id": "dc10d5ca",
   "metadata": {},
   "outputs": [
    {
     "name": "stdout",
     "output_type": "stream",
     "text": [
      "Hello from C\n"
     ]
    }
   ],
   "source": [
    "obj_a.greet()"
   ]
  },
  {
   "cell_type": "code",
   "execution_count": 21,
   "id": "84dccc2f",
   "metadata": {},
   "outputs": [],
   "source": [
    "# A --> B\n",
    "# A --> C\n",
    "# D --> B, C\n",
    "\n",
    "#         A\n",
    "#     B       C\n",
    "#         D"
   ]
  },
  {
   "cell_type": "code",
   "execution_count": 25,
   "id": "b83ba2fc",
   "metadata": {},
   "outputs": [],
   "source": [
    "class B:\n",
    "    def greet(self):\n",
    "        print(\"Hello from B\")\n",
    "        # super().greet()\n",
    "\n",
    "class C:\n",
    "    def greet(self):\n",
    "        print(\"Hello from C\")\n",
    "        # super().greet()\n",
    "\n",
    "class D(B,C):\n",
    "    def greet(self):\n",
    "        print(\"Hello from D\")\n",
    "        super().greet()"
   ]
  },
  {
   "cell_type": "code",
   "execution_count": 26,
   "id": "d463b157",
   "metadata": {},
   "outputs": [
    {
     "data": {
      "text/plain": [
       "[__main__.D, __main__.B, __main__.C, object]"
      ]
     },
     "execution_count": 26,
     "metadata": {},
     "output_type": "execute_result"
    }
   ],
   "source": [
    "D.mro()"
   ]
  },
  {
   "cell_type": "code",
   "execution_count": 27,
   "id": "e3d4ee9b",
   "metadata": {},
   "outputs": [],
   "source": [
    "obj_d = D()"
   ]
  },
  {
   "cell_type": "code",
   "execution_count": 28,
   "id": "95fdf566",
   "metadata": {},
   "outputs": [
    {
     "name": "stdout",
     "output_type": "stream",
     "text": [
      "Hello from D\n",
      "Hello from B\n"
     ]
    }
   ],
   "source": [
    "obj_d.greet()"
   ]
  },
  {
   "cell_type": "markdown",
   "id": "5bed0bcf",
   "metadata": {},
   "source": [
    "# Decorator"
   ]
  },
  {
   "cell_type": "code",
   "execution_count": 29,
   "id": "b5712a14",
   "metadata": {},
   "outputs": [],
   "source": [
    "def my_decorator(func):\n",
    "    def wrapper(*args):\n",
    "        print(\"Before the function runs.\")\n",
    "        func(*args)\n",
    "        print(\"After the function runs.\")\n",
    "    return wrapper"
   ]
  },
  {
   "cell_type": "code",
   "execution_count": 30,
   "id": "5455baef",
   "metadata": {},
   "outputs": [],
   "source": [
    "@my_decorator # \"syntactic sugar\" \n",
    "def say_hello():\n",
    "    print(\"Hello!\")"
   ]
  },
  {
   "cell_type": "code",
   "execution_count": 31,
   "id": "72c2b5e7",
   "metadata": {},
   "outputs": [],
   "source": [
    "# say_hello = my_decorator(say_hello)"
   ]
  },
  {
   "cell_type": "code",
   "execution_count": 32,
   "id": "a1af5771",
   "metadata": {},
   "outputs": [
    {
     "name": "stdout",
     "output_type": "stream",
     "text": [
      "Before the function runs.\n",
      "Hello!\n",
      "After the function runs.\n"
     ]
    }
   ],
   "source": [
    "say_hello()"
   ]
  },
  {
   "cell_type": "markdown",
   "id": "2f2f1863",
   "metadata": {},
   "source": [
    "# Explanation"
   ]
  },
  {
   "cell_type": "code",
   "execution_count": 47,
   "id": "fce0cf42",
   "metadata": {},
   "outputs": [],
   "source": [
    "def my_decorator(func):\n",
    "    def wrapper():\n",
    "        print(\"Before the function runs.\")\n",
    "        func()\n",
    "        print(\"After the function runs.\")\n",
    "    return wrapper"
   ]
  },
  {
   "cell_type": "code",
   "execution_count": 34,
   "id": "9bc32315",
   "metadata": {},
   "outputs": [],
   "source": [
    "def say_hello():\n",
    "    print(\"Hello!\")"
   ]
  },
  {
   "cell_type": "code",
   "execution_count": 35,
   "id": "94e48c96",
   "metadata": {},
   "outputs": [],
   "source": [
    "say_hello = my_decorator(say_hello)"
   ]
  },
  {
   "cell_type": "code",
   "execution_count": 36,
   "id": "25dc8a9c",
   "metadata": {},
   "outputs": [
    {
     "name": "stdout",
     "output_type": "stream",
     "text": [
      "Before the function runs.\n",
      "Hello!\n",
      "After the function runs.\n"
     ]
    }
   ],
   "source": [
    "say_hello()"
   ]
  },
  {
   "cell_type": "code",
   "execution_count": 45,
   "id": "4f5c7723",
   "metadata": {},
   "outputs": [],
   "source": [
    "@my_decorator\n",
    "def add(a,b):\n",
    "    print(a+b)"
   ]
  },
  {
   "cell_type": "code",
   "execution_count": 46,
   "id": "eb8dd6aa",
   "metadata": {},
   "outputs": [
    {
     "name": "stdout",
     "output_type": "stream",
     "text": [
      "Before the function runs.\n",
      "3\n",
      "After the function runs.\n"
     ]
    }
   ],
   "source": [
    "add(1,2)"
   ]
  }
 ],
 "metadata": {
  "kernelspec": {
   "display_name": "base",
   "language": "python",
   "name": "python3"
  },
  "language_info": {
   "codemirror_mode": {
    "name": "ipython",
    "version": 3
   },
   "file_extension": ".py",
   "mimetype": "text/x-python",
   "name": "python",
   "nbconvert_exporter": "python",
   "pygments_lexer": "ipython3",
   "version": "3.12.7"
  }
 },
 "nbformat": 4,
 "nbformat_minor": 5
}
