{
 "cells": [
  {
   "cell_type": "code",
   "execution_count": 1,
   "id": "f1f903eb",
   "metadata": {},
   "outputs": [
    {
     "ename": "TypeError",
     "evalue": "unsupported operand type(s) for +: 'int' and 'str'",
     "output_type": "error",
     "traceback": [
      "\u001b[31m---------------------------------------------------------------------------\u001b[39m",
      "\u001b[31mTypeError\u001b[39m                                 Traceback (most recent call last)",
      "\u001b[36mCell\u001b[39m\u001b[36m \u001b[39m\u001b[32mIn[1]\u001b[39m\u001b[32m, line 1\u001b[39m\n\u001b[32m----> \u001b[39m\u001b[32m1\u001b[39m \u001b[32;43m1\u001b[39;49m\u001b[43m \u001b[49m\u001b[43m+\u001b[49m\u001b[43m \u001b[49m\u001b[33;43m\"\u001b[39;49m\u001b[33;43m1\u001b[39;49m\u001b[33;43m\"\u001b[39;49m\n",
      "\u001b[31mTypeError\u001b[39m: unsupported operand type(s) for +: 'int' and 'str'"
     ]
    }
   ],
   "source": [
    "1 + \"1\""
   ]
  },
  {
   "cell_type": "code",
   "execution_count": 2,
   "id": "c8a4ab4b",
   "metadata": {},
   "outputs": [
    {
     "ename": "ValueError",
     "evalue": "invalid literal for int() with base 10: 'sd'",
     "output_type": "error",
     "traceback": [
      "\u001b[31m---------------------------------------------------------------------------\u001b[39m",
      "\u001b[31mValueError\u001b[39m                                Traceback (most recent call last)",
      "\u001b[36mCell\u001b[39m\u001b[36m \u001b[39m\u001b[32mIn[2]\u001b[39m\u001b[32m, line 3\u001b[39m\n\u001b[32m      1\u001b[39m \u001b[38;5;28;01mfor\u001b[39;00m i \u001b[38;5;129;01min\u001b[39;00m \u001b[38;5;28mrange\u001b[39m(\u001b[32m5\u001b[39m):\n\u001b[32m      2\u001b[39m     a = \u001b[38;5;28minput\u001b[39m(\u001b[33m\"\u001b[39m\u001b[33mEnter a number\u001b[39m\u001b[33m\"\u001b[39m)\n\u001b[32m----> \u001b[39m\u001b[32m3\u001b[39m     a = \u001b[38;5;28;43mint\u001b[39;49m\u001b[43m(\u001b[49m\u001b[43ma\u001b[49m\u001b[43m)\u001b[49m\n\u001b[32m      4\u001b[39m     \u001b[38;5;28mprint\u001b[39m(a)\n\u001b[32m      6\u001b[39m \u001b[38;5;28mprint\u001b[39m(\u001b[33m\"\u001b[39m\u001b[33mhello - how are you.\u001b[39m\u001b[33m\"\u001b[39m)\n",
      "\u001b[31mValueError\u001b[39m: invalid literal for int() with base 10: 'sd'"
     ]
    }
   ],
   "source": [
    "for i in range(5):\n",
    "    a = input(\"Enter a number\")\n",
    "    a = int(a)\n",
    "    print(a)\n",
    "\n",
    "print(\"hello - how are you.\")"
   ]
  },
  {
   "cell_type": "code",
   "execution_count": null,
   "id": "5dd005d6",
   "metadata": {},
   "outputs": [
    {
     "ename": "ZeroDivisionError",
     "evalue": "division by zero",
     "output_type": "error",
     "traceback": [
      "\u001b[31m---------------------------------------------------------------------------\u001b[39m",
      "\u001b[31mZeroDivisionError\u001b[39m                         Traceback (most recent call last)",
      "\u001b[36mCell\u001b[39m\u001b[36m \u001b[39m\u001b[32mIn[4]\u001b[39m\u001b[32m, line 1\u001b[39m\n\u001b[32m----> \u001b[39m\u001b[32m1\u001b[39m \u001b[32;43m1\u001b[39;49m\u001b[43m/\u001b[49m\u001b[32;43m0\u001b[39;49m\n",
      "\u001b[31mZeroDivisionError\u001b[39m: division by zero"
     ]
    }
   ],
   "source": [
    "1/0"
   ]
  },
  {
   "cell_type": "code",
   "execution_count": null,
   "id": "a0b3a181",
   "metadata": {},
   "outputs": [
    {
     "ename": "SyntaxError",
     "evalue": "'(' was never closed (799277466.py, line 1)",
     "output_type": "error",
     "traceback": [
      "  \u001b[36mCell\u001b[39m\u001b[36m \u001b[39m\u001b[32mIn[5]\u001b[39m\u001b[32m, line 1\u001b[39m\n\u001b[31m    \u001b[39m\u001b[31mint(1\u001b[39m\n       ^\n\u001b[31mSyntaxError\u001b[39m\u001b[31m:\u001b[39m '(' was never closed\n"
     ]
    }
   ],
   "source": [
    "int(1\n",
    "    \n",
    "print(\"hello\")"
   ]
  },
  {
   "cell_type": "markdown",
   "id": "b1a0822b",
   "metadata": {},
   "source": [
    "## Try-Except"
   ]
  },
  {
   "cell_type": "code",
   "execution_count": 3,
   "id": "23e49f66",
   "metadata": {},
   "outputs": [
    {
     "name": "stdout",
     "output_type": "stream",
     "text": [
      "Issue with the program\n",
      "Hello world\n"
     ]
    }
   ],
   "source": [
    "try :\n",
    "    for i in range(5):\n",
    "        a = input(\"Enter a number\")\n",
    "        a = int(a)\n",
    "        print(a)\n",
    "except ValueError:\n",
    "    print(\"Issue with the program\")\n",
    "\n",
    "print(\"Hello world\")"
   ]
  },
  {
   "cell_type": "code",
   "execution_count": 4,
   "id": "3279dd78",
   "metadata": {},
   "outputs": [
    {
     "name": "stdout",
     "output_type": "stream",
     "text": [
      "Issue with the program\n",
      "Hello world\n"
     ]
    }
   ],
   "source": [
    "try :\n",
    "    a = input(\"Enter a value : \")\n",
    "    a = int(a)\n",
    "    b = input(\"Enter a value to convert: \")\n",
    "    print(10/a)\n",
    "    int(b)\n",
    "except (ValueError):\n",
    "    print(\"Issue with the program\")\n",
    "\n",
    "print(\"Hello world\")"
   ]
  },
  {
   "cell_type": "code",
   "execution_count": 5,
   "id": "4f389fbd",
   "metadata": {},
   "outputs": [
    {
     "name": "stdout",
     "output_type": "stream",
     "text": [
      "We have encountered error.\n",
      "Hello world\n"
     ]
    }
   ],
   "source": [
    "try : \n",
    "    a = 0\n",
    "    a = int(a)\n",
    "    b = \"abc\"\n",
    "    print(10/a)\n",
    "    int(b)\n",
    "except (ValueError, ZeroDivisionError):\n",
    "    print(\"We have encountered error.\")\n",
    "\n",
    "print(\"Hello world\")"
   ]
  },
  {
   "cell_type": "code",
   "execution_count": 6,
   "id": "6dc90df8",
   "metadata": {},
   "outputs": [
    {
     "ename": "ZeroDivisionError",
     "evalue": "division by zero",
     "output_type": "error",
     "traceback": [
      "\u001b[31m---------------------------------------------------------------------------\u001b[39m",
      "\u001b[31mZeroDivisionError\u001b[39m                         Traceback (most recent call last)",
      "\u001b[36mCell\u001b[39m\u001b[36m \u001b[39m\u001b[32mIn[6]\u001b[39m\u001b[32m, line 4\u001b[39m\n\u001b[32m      2\u001b[39m a = \u001b[38;5;28mint\u001b[39m(a)\n\u001b[32m      3\u001b[39m b = \u001b[33m\"\u001b[39m\u001b[33mabc\u001b[39m\u001b[33m\"\u001b[39m\n\u001b[32m----> \u001b[39m\u001b[32m4\u001b[39m \u001b[38;5;28mprint\u001b[39m(\u001b[32;43m10\u001b[39;49m\u001b[43m/\u001b[49m\u001b[43ma\u001b[49m)\n\u001b[32m      5\u001b[39m \u001b[38;5;28mint\u001b[39m(b)\n\u001b[32m      8\u001b[39m \u001b[38;5;28mprint\u001b[39m(\u001b[33m\"\u001b[39m\u001b[33mHello world\u001b[39m\u001b[33m\"\u001b[39m)\n",
      "\u001b[31mZeroDivisionError\u001b[39m: division by zero"
     ]
    }
   ],
   "source": [
    "a = 0\n",
    "a = int(a)\n",
    "b = \"abc\"\n",
    "print(10/a)\n",
    "int(b)\n",
    "\n",
    "\n",
    "print(\"Hello world\")"
   ]
  },
  {
   "cell_type": "code",
   "execution_count": 7,
   "id": "44c2ec02",
   "metadata": {},
   "outputs": [
    {
     "name": "stdout",
     "output_type": "stream",
     "text": [
      "We have encountered error.\n",
      "Hello world\n"
     ]
    }
   ],
   "source": [
    "try : \n",
    "    a = 0\n",
    "    a = int(a)\n",
    "    b = \"abc\"\n",
    "    print(10/a)\n",
    "    int(b)\n",
    "# except (ValueError, ZeroDivisionError)\n",
    "except:\n",
    "    print(\"We have encountered error.\")\n",
    "\n",
    "print(\"Hello world\")"
   ]
  },
  {
   "cell_type": "code",
   "execution_count": 8,
   "id": "fd655207",
   "metadata": {},
   "outputs": [
    {
     "name": "stdout",
     "output_type": "stream",
     "text": [
      "We have encountered error :  division by zero\n",
      "Hello world\n",
      "Hello world\n",
      "Hello world\n",
      "Hello world\n"
     ]
    }
   ],
   "source": [
    "try : \n",
    "    a = 0\n",
    "    a = int(a)\n",
    "    b = \"1\"\n",
    "    print(10/a)\n",
    "    int(b)\n",
    "# except (ValueError, ZeroDivisionError)\n",
    "except Exception as e:\n",
    "    print(\"We have encountered error : \", e)\n",
    "\n",
    "print(\"Hello world\")\n",
    "print(\"Hello world\")\n",
    "print(\"Hello world\")\n",
    "print(\"Hello world\")"
   ]
  },
  {
   "cell_type": "code",
   "execution_count": 9,
   "id": "8971e02e",
   "metadata": {},
   "outputs": [],
   "source": [
    "import os as hello"
   ]
  },
  {
   "cell_type": "code",
   "execution_count": 10,
   "id": "db24ef2e",
   "metadata": {},
   "outputs": [
    {
     "data": {
      "text/plain": [
       "['.dummy.txt',\n",
       " '1.0-basics.ipynb',\n",
       " '1.1-operator.ipynb',\n",
       " '1.2-conditional_statement.ipynb',\n",
       " '1.3-controlflow.ipynb',\n",
       " '1.4-advanced_datatypes.ipynb',\n",
       " '1.5-loop.ipynb',\n",
       " '1.6-fuction.ipynb',\n",
       " '1.7-file_operation.ipynb',\n",
       " '1.8-exception.ipynb',\n",
       " '20apr25-test2.txt',\n",
       " 'a.txt',\n",
       " 'basics.py',\n",
       " 'except1.py',\n",
       " 'except2.py',\n",
       " 'except3.py',\n",
       " 'test.txt',\n",
       " 'test_dummy_1.txt',\n",
       " 'test_new.txt']"
      ]
     },
     "execution_count": 10,
     "metadata": {},
     "output_type": "execute_result"
    }
   ],
   "source": [
    "hello.listdir()"
   ]
  },
  {
   "cell_type": "code",
   "execution_count": 11,
   "id": "5f95ad72",
   "metadata": {},
   "outputs": [
    {
     "name": "stdout",
     "output_type": "stream",
     "text": [
      "User is trying to divide number by 0\n"
     ]
    }
   ],
   "source": [
    "try : \n",
    "    a = 0\n",
    "    a = int(a)\n",
    "    b = \"1\"\n",
    "    print(10/a)\n",
    "    int(b)\n",
    "except ValueError:\n",
    "    print(\"User is trying to convert alpha-character to integer\")\n",
    "except ZeroDivisionError:\n",
    "    print(\"User is trying to divide number by 0\")\n",
    "except Exception as e:\n",
    "    print(\"We have encountered error : \", e)"
   ]
  },
  {
   "cell_type": "code",
   "execution_count": 12,
   "id": "0f8e7646",
   "metadata": {},
   "outputs": [
    {
     "name": "stdout",
     "output_type": "stream",
     "text": [
      "We have encountered error :  division by zero\n"
     ]
    }
   ],
   "source": [
    "try : \n",
    "    a = 0\n",
    "    a = int(a)\n",
    "    b = \"1\"\n",
    "    print(10/a)\n",
    "    int(b)\n",
    "except Exception as e:\n",
    "    print(\"We have encountered error : \", e)"
   ]
  },
  {
   "cell_type": "code",
   "execution_count": 13,
   "id": "e74a4ea6",
   "metadata": {},
   "outputs": [
    {
     "name": "stdout",
     "output_type": "stream",
     "text": [
      "We have encountered error :  division by zero\n",
      "Input section executed successfully\n"
     ]
    }
   ],
   "source": [
    "# input by user\n",
    "try : \n",
    "    a = 0\n",
    "    a = int(a)\n",
    "    b = \"1\"\n",
    "    print(10/a)\n",
    "    int(b)\n",
    "except Exception as e:\n",
    "    print(\"We have encountered error : \", e)\n",
    "finally:\n",
    "    print(\"Input section executed successfully\")\n",
    "\n",
    "# calculate\n",
    "def add():\n",
    "    pass"
   ]
  },
  {
   "cell_type": "code",
   "execution_count": 14,
   "id": "54bd9da6",
   "metadata": {},
   "outputs": [
    {
     "name": "stdout",
     "output_type": "stream",
     "text": [
      "1.0\n",
      "No error encountered\n",
      "Input section executed successfully\n"
     ]
    }
   ],
   "source": [
    "try : \n",
    "    a = 10\n",
    "    a = int(a)\n",
    "    b = \"1\"\n",
    "    print(10/a)\n",
    "    int(b)\n",
    "except Exception as e:\n",
    "    print(\"We have encountered error : \", e)\n",
    "else :\n",
    "    print(\"No error encountered\")\n",
    "finally:\n",
    "    print(\"Input section executed successfully\")"
   ]
  },
  {
   "cell_type": "code",
   "execution_count": 15,
   "id": "5da6c256",
   "metadata": {},
   "outputs": [
    {
     "name": "stdout",
     "output_type": "stream",
     "text": [
      "Result of operation is :  14.285714285714286\n",
      "Code executed successfully.\n"
     ]
    }
   ],
   "source": [
    "try : \n",
    "    a = input(\"Enter a value : \")\n",
    "    a = int(a)\n",
    "    a = 100/a\n",
    "except Exception as e:\n",
    "    print(e)\n",
    "else:\n",
    "    print(\"Result of operation is : \", a)\n",
    "finally:\n",
    "    print(\"Code executed successfully.\")"
   ]
  },
  {
   "cell_type": "code",
   "execution_count": null,
   "id": "4f37dc98",
   "metadata": {},
   "outputs": [],
   "source": [
    "def take_input():\n",
    "    try : \n",
    "        a = input(\"Enter a value : \")\n",
    "        a = int(a)\n",
    "        a = 100/a\n",
    "    except Exception as e:\n",
    "        print(e)\n",
    "    else:\n",
    "        print(\"Result of operation is : \", a)\n",
    "    finally:\n",
    "        print(\"Code executed successfully.\")"
   ]
  },
  {
   "cell_type": "code",
   "execution_count": null,
   "id": "7ac7546b",
   "metadata": {},
   "outputs": [
    {
     "name": "stdout",
     "output_type": "stream",
     "text": [
      "division by zero\n",
      "Code executed successfully.\n"
     ]
    }
   ],
   "source": [
    "take_input()"
   ]
  },
  {
   "cell_type": "code",
   "execution_count": null,
   "id": "446c3296",
   "metadata": {},
   "outputs": [],
   "source": [
    "def take_age(age):\n",
    "    try : \n",
    "        age_int = int(age)\n",
    "        if age_int<0 or age_int>100:\n",
    "            raise ValueError(\"Age is not in range, please try with a valid age\")\n",
    "        else:\n",
    "            print(age_int)\n",
    "    except Exception as e:\n",
    "        print(e)\n",
    "    finally:\n",
    "        print(\"Code executed successfully.\")"
   ]
  },
  {
   "cell_type": "code",
   "execution_count": null,
   "id": "f29139c9",
   "metadata": {},
   "outputs": [
    {
     "name": "stdout",
     "output_type": "stream",
     "text": [
      "Age is not in range, please try with a valid age\n",
      "Code executed successfully.\n"
     ]
    }
   ],
   "source": [
    "take_age(-1)"
   ]
  },
  {
   "cell_type": "code",
   "execution_count": null,
   "id": "fda5a6e3",
   "metadata": {},
   "outputs": [
    {
     "name": "stdout",
     "output_type": "stream",
     "text": [
      "Age is not in range, please try with a valid age\n",
      "Code executed successfully.\n"
     ]
    }
   ],
   "source": [
    "take_age(200)"
   ]
  },
  {
   "cell_type": "code",
   "execution_count": null,
   "id": "bdcd65f7",
   "metadata": {},
   "outputs": [
    {
     "ename": "ValueError",
     "evalue": "invalid literal for int() with base 10: 'abc'",
     "output_type": "error",
     "traceback": [
      "\u001b[31m---------------------------------------------------------------------------\u001b[39m",
      "\u001b[31mValueError\u001b[39m                                Traceback (most recent call last)",
      "\u001b[36mCell\u001b[39m\u001b[36m \u001b[39m\u001b[32mIn[30]\u001b[39m\u001b[32m, line 1\u001b[39m\n\u001b[32m----> \u001b[39m\u001b[32m1\u001b[39m \u001b[38;5;28;43mint\u001b[39;49m\u001b[43m(\u001b[49m\u001b[33;43m\"\u001b[39;49m\u001b[33;43mabc\u001b[39;49m\u001b[33;43m\"\u001b[39;49m\u001b[43m)\u001b[49m\n",
      "\u001b[31mValueError\u001b[39m: invalid literal for int() with base 10: 'abc'"
     ]
    }
   ],
   "source": [
    "int(\"abc\")"
   ]
  },
  {
   "cell_type": "code",
   "execution_count": null,
   "id": "f95b9187",
   "metadata": {},
   "outputs": [],
   "source": [
    "# leave(2, 26-26) > raise ValueError\n",
    "# break, continue, change the flow of the loop"
   ]
  },
  {
   "cell_type": "code",
   "execution_count": null,
   "id": "57d8e10f",
   "metadata": {},
   "outputs": [],
   "source": [
    "def take_age(age):\n",
    "    age_int = int(age)\n",
    "    if age_int<0 or age_int>100:\n",
    "        # raise ValueError(\"Age is not in range, please try with a valid age\")\n",
    "        raise ValueError(\"Error\")\n",
    "    else:\n",
    "        print(age_int)"
   ]
  },
  {
   "cell_type": "code",
   "execution_count": null,
   "id": "c6d37772",
   "metadata": {},
   "outputs": [
    {
     "ename": "ValueError",
     "evalue": "Error",
     "output_type": "error",
     "traceback": [
      "\u001b[31m---------------------------------------------------------------------------\u001b[39m",
      "\u001b[31mValueError\u001b[39m                                Traceback (most recent call last)",
      "\u001b[36mCell\u001b[39m\u001b[36m \u001b[39m\u001b[32mIn[33]\u001b[39m\u001b[32m, line 1\u001b[39m\n\u001b[32m----> \u001b[39m\u001b[32m1\u001b[39m \u001b[43mtake_age\u001b[49m\u001b[43m(\u001b[49m\u001b[43m-\u001b[49m\u001b[32;43m1\u001b[39;49m\u001b[43m)\u001b[49m\n",
      "\u001b[36mCell\u001b[39m\u001b[36m \u001b[39m\u001b[32mIn[32]\u001b[39m\u001b[32m, line 5\u001b[39m, in \u001b[36mtake_age\u001b[39m\u001b[34m(age)\u001b[39m\n\u001b[32m      2\u001b[39m age_int = \u001b[38;5;28mint\u001b[39m(age)\n\u001b[32m      3\u001b[39m \u001b[38;5;28;01mif\u001b[39;00m age_int<\u001b[32m0\u001b[39m \u001b[38;5;129;01mor\u001b[39;00m age_int>\u001b[32m100\u001b[39m:\n\u001b[32m      4\u001b[39m     \u001b[38;5;66;03m# raise ValueError(\"Age is not in range, please try with a valid age\")\u001b[39;00m\n\u001b[32m----> \u001b[39m\u001b[32m5\u001b[39m     \u001b[38;5;28;01mraise\u001b[39;00m \u001b[38;5;167;01mValueError\u001b[39;00m(\u001b[33m\"\u001b[39m\u001b[33mError\u001b[39m\u001b[33m\"\u001b[39m)\n\u001b[32m      6\u001b[39m \u001b[38;5;28;01melse\u001b[39;00m:\n\u001b[32m      7\u001b[39m     \u001b[38;5;28mprint\u001b[39m(age_int)\n",
      "\u001b[31mValueError\u001b[39m: Error"
     ]
    }
   ],
   "source": [
    "take_age(-1)"
   ]
  },
  {
   "cell_type": "markdown",
   "id": "5804fe14",
   "metadata": {},
   "source": [
    "## OOPS"
   ]
  },
  {
   "cell_type": "code",
   "execution_count": null,
   "id": "2f5f443b",
   "metadata": {},
   "outputs": [
    {
     "name": "stdout",
     "output_type": "stream",
     "text": [
      "<class 'int'>\n"
     ]
    }
   ],
   "source": [
    "print(type(1))"
   ]
  },
  {
   "cell_type": "code",
   "execution_count": null,
   "id": "39a10c70",
   "metadata": {},
   "outputs": [],
   "source": []
  }
 ],
 "metadata": {
  "kernelspec": {
   "display_name": "Python 3",
   "language": "python",
   "name": "python3"
  },
  "language_info": {
   "codemirror_mode": {
    "name": "ipython",
    "version": 3
   },
   "file_extension": ".py",
   "mimetype": "text/x-python",
   "name": "python",
   "nbconvert_exporter": "python",
   "pygments_lexer": "ipython3",
   "version": "3.12.0"
  }
 },
 "nbformat": 4,
 "nbformat_minor": 5
}
