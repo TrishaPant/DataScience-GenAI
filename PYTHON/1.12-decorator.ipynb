{
 "cells": [
  {
   "cell_type": "markdown",
   "id": "e3c73e28",
   "metadata": {},
   "source": [
    "# Time Module"
   ]
  },
  {
   "cell_type": "code",
   "execution_count": null,
   "id": "31b72761",
   "metadata": {},
   "outputs": [],
   "source": [
    "\"2025-10-05\" # YYYY-DD-MM\n",
    "\"08:13 PM IST\"\n",
    "\"9:47 AM CST\"\n",
    "\"10:47 AM ET\"\n",
    "\"UTC\" # Universal Time Coordinated  -->  Jan 1, 1970\n",
    "\n",
    "\"2PM\" # --> 12 hours format\n",
    "\"14\" # --> 24 hours format"
   ]
  },
  {
   "cell_type": "code",
   "execution_count": 2,
   "id": "49f81bce",
   "metadata": {},
   "outputs": [],
   "source": [
    "import time"
   ]
  },
  {
   "cell_type": "code",
   "execution_count": 3,
   "id": "d0e25c28",
   "metadata": {},
   "outputs": [
    {
     "name": "stdout",
     "output_type": "stream",
     "text": [
      "1754017025.3228116\n"
     ]
    }
   ],
   "source": [
    "print(time.time())"
   ]
  },
  {
   "cell_type": "code",
   "execution_count": 4,
   "id": "d450ee85",
   "metadata": {},
   "outputs": [
    {
     "name": "stdout",
     "output_type": "stream",
     "text": [
      "Fri Aug  1 08:27:11 2025\n"
     ]
    }
   ],
   "source": [
    "print(time.ctime())"
   ]
  },
  {
   "cell_type": "code",
   "execution_count": 5,
   "id": "576f719a",
   "metadata": {},
   "outputs": [],
   "source": [
    "t1 = time.time()"
   ]
  },
  {
   "cell_type": "code",
   "execution_count": 6,
   "id": "b2b3ceab",
   "metadata": {},
   "outputs": [
    {
     "name": "stdout",
     "output_type": "stream",
     "text": [
      "1754017052.5240119\n"
     ]
    }
   ],
   "source": [
    "print(t1)"
   ]
  },
  {
   "cell_type": "code",
   "execution_count": 7,
   "id": "ebd88c2f",
   "metadata": {},
   "outputs": [
    {
     "name": "stdout",
     "output_type": "stream",
     "text": [
      "1754017060.2639537\n"
     ]
    }
   ],
   "source": [
    "t2 = time.time()\n",
    "print(t2)"
   ]
  },
  {
   "cell_type": "code",
   "execution_count": 8,
   "id": "246cb1b8",
   "metadata": {},
   "outputs": [
    {
     "data": {
      "text/plain": [
       "7.739941835403442"
      ]
     },
     "execution_count": 8,
     "metadata": {},
     "output_type": "execute_result"
    }
   ],
   "source": [
    "t2-t1"
   ]
  },
  {
   "cell_type": "code",
   "execution_count": 9,
   "id": "fc677a5a",
   "metadata": {},
   "outputs": [
    {
     "name": "stdout",
     "output_type": "stream",
     "text": [
      "time.struct_time(tm_year=2025, tm_mon=8, tm_mday=1, tm_hour=8, tm_min=27, tm_sec=52, tm_wday=4, tm_yday=213, tm_isdst=0)\n"
     ]
    }
   ],
   "source": [
    "# tm_yday --> day of the year\n",
    "# tm_wday --> Week day\n",
    "print(time.localtime())"
   ]
  },
  {
   "cell_type": "code",
   "execution_count": 10,
   "id": "9e011a2f",
   "metadata": {},
   "outputs": [
    {
     "name": "stdout",
     "output_type": "stream",
     "text": [
      "<class 'time.struct_time'>\n"
     ]
    }
   ],
   "source": [
    "print(type(time.localtime()))"
   ]
  },
  {
   "cell_type": "code",
   "execution_count": 11,
   "id": "3ba786bd",
   "metadata": {},
   "outputs": [],
   "source": [
    "time_ = time.localtime()"
   ]
  },
  {
   "cell_type": "code",
   "execution_count": 12,
   "id": "ed1d7e4b",
   "metadata": {},
   "outputs": [
    {
     "data": {
      "text/plain": [
       "8"
      ]
     },
     "execution_count": 12,
     "metadata": {},
     "output_type": "execute_result"
    }
   ],
   "source": [
    "time_.tm_hour"
   ]
  },
  {
   "cell_type": "code",
   "execution_count": 13,
   "id": "fc042a5e",
   "metadata": {},
   "outputs": [
    {
     "data": {
      "text/plain": [
       "28"
      ]
     },
     "execution_count": 13,
     "metadata": {},
     "output_type": "execute_result"
    }
   ],
   "source": [
    "time_.tm_min"
   ]
  },
  {
   "cell_type": "code",
   "execution_count": 14,
   "id": "fbfa0963",
   "metadata": {},
   "outputs": [],
   "source": [
    "t3 = time.time()"
   ]
  },
  {
   "cell_type": "code",
   "execution_count": 15,
   "id": "6e3d216a",
   "metadata": {},
   "outputs": [
    {
     "data": {
      "text/plain": [
       "0.027104078465037876"
      ]
     },
     "execution_count": 15,
     "metadata": {},
     "output_type": "execute_result"
    }
   ],
   "source": [
    "(t3-t1)/60/60"
   ]
  },
  {
   "cell_type": "markdown",
   "id": "22ab9843",
   "metadata": {},
   "source": [
    "# time.strftime(format, t)"
   ]
  },
  {
   "cell_type": "markdown",
   "id": "d5d72494",
   "metadata": {},
   "source": [
    "```bash\n",
    "%M - minutes\n",
    "%m - month\n",
    "%d - date\n",
    "%Y - YYYY Year format\n",
    "%H - Hour\n",
    "%S - Seconds\n",
    "%y - YY year format\n",
    "```"
   ]
  },
  {
   "cell_type": "code",
   "execution_count": 16,
   "id": "ee5489a7",
   "metadata": {},
   "outputs": [
    {
     "name": "stdout",
     "output_type": "stream",
     "text": [
      "2025-08-01 08:34:09\n"
     ]
    }
   ],
   "source": [
    "print(time.strftime(\"%Y-%m-%d %H:%M:%S\", time.localtime()))"
   ]
  },
  {
   "cell_type": "code",
   "execution_count": 17,
   "id": "d4586a0a",
   "metadata": {},
   "outputs": [
    {
     "name": "stdout",
     "output_type": "stream",
     "text": [
      "2025-08-01\n"
     ]
    }
   ],
   "source": [
    "print(time.strftime(\"%Y-%m-%d\", time.localtime()))"
   ]
  },
  {
   "cell_type": "code",
   "execution_count": 18,
   "id": "fb1c1665",
   "metadata": {},
   "outputs": [
    {
     "name": "stdout",
     "output_type": "stream",
     "text": [
      "25-08-01\n"
     ]
    }
   ],
   "source": [
    "print(time.strftime(\"%y-%m-%d\", time.localtime()))"
   ]
  },
  {
   "cell_type": "markdown",
   "id": "f736108f",
   "metadata": {},
   "source": [
    "# Fstring"
   ]
  },
  {
   "cell_type": "code",
   "execution_count": 19,
   "id": "01cfad67",
   "metadata": {},
   "outputs": [
    {
     "name": "stdout",
     "output_type": "stream",
     "text": [
      "Hello how are you, Monal\n"
     ]
    }
   ],
   "source": [
    "name = \"Monal\"\n",
    "print(f\"Hello how are you, {name}\")"
   ]
  },
  {
   "cell_type": "code",
   "execution_count": 20,
   "id": "dd8956bc",
   "metadata": {},
   "outputs": [],
   "source": [
    "pi = 3.1415926535"
   ]
  },
  {
   "cell_type": "code",
   "execution_count": 21,
   "id": "30864a9b",
   "metadata": {},
   "outputs": [
    {
     "name": "stdout",
     "output_type": "stream",
     "text": [
      "The value of Pi is : 3.14\n"
     ]
    }
   ],
   "source": [
    "print(f\"The value of Pi is : {pi:.2f}\")"
   ]
  },
  {
   "cell_type": "code",
   "execution_count": 22,
   "id": "eca2cb7d",
   "metadata": {},
   "outputs": [
    {
     "name": "stdout",
     "output_type": "stream",
     "text": [
      "First person name is : Monal, second person name is : Shoban, third person name is : Pavan\n"
     ]
    }
   ],
   "source": [
    "name_1 = \"Monal\"\n",
    "name_2 = \"Shoban\"\n",
    "name_3 = \"Pavan\"\n",
    "## Via .format()\n",
    "\n",
    "print(f\"First person name is : {name_1}, second person name is : {name_2}, third person name is : {name_3}\")"
   ]
  },
  {
   "cell_type": "code",
   "execution_count": 23,
   "id": "adeb2501",
   "metadata": {},
   "outputs": [
    {
     "name": "stdout",
     "output_type": "stream",
     "text": [
      "First person name is : Monal, second person name is : Shoban, third person name is : Pavan\n"
     ]
    }
   ],
   "source": [
    "print(\"First person name is : {a}, second person name is : {b}, third person name is : {c}\".format(a=\"Monal\", b=\"Shoban\", c=\"Pavan\"))"
   ]
  },
  {
   "cell_type": "code",
   "execution_count": 24,
   "id": "c08d3ba1",
   "metadata": {},
   "outputs": [
    {
     "name": "stdout",
     "output_type": "stream",
     "text": [
      "First person name is : Monal, second person name is : Shoban, third person name is : Pavan\n"
     ]
    }
   ],
   "source": [
    "print(\"First person name is : {a}, second person name is : {b}, third person name is : {c}\".format(a=name_1, b=name_2, c=name_3))"
   ]
  },
  {
   "cell_type": "markdown",
   "id": "41a95476",
   "metadata": {},
   "source": [
    "# Decorators"
   ]
  },
  {
   "cell_type": "code",
   "execution_count": 25,
   "id": "f0dccbcd",
   "metadata": {},
   "outputs": [],
   "source": [
    "def research():\n",
    "    print(\"Start\")\n",
    "    time.sleep(5)\n",
    "    print(\"Complete\")"
   ]
  },
  {
   "cell_type": "code",
   "execution_count": 26,
   "id": "2b22f10c",
   "metadata": {},
   "outputs": [
    {
     "name": "stdout",
     "output_type": "stream",
     "text": [
      "Start\n",
      "Complete\n"
     ]
    }
   ],
   "source": [
    "research()"
   ]
  },
  {
   "cell_type": "markdown",
   "id": "d51d631a",
   "metadata": {},
   "source": [
    "# Flow of obj as argument"
   ]
  },
  {
   "cell_type": "code",
   "execution_count": 27,
   "id": "238f490d",
   "metadata": {},
   "outputs": [],
   "source": [
    "class A:\n",
    "    def print_hello(self):\n",
    "        print(\"Hello\")\n",
    "\n",
    "def show_hello(obj):\n",
    "    obj.print_hello()"
   ]
  },
  {
   "cell_type": "code",
   "execution_count": 28,
   "id": "fc27d1bf",
   "metadata": {},
   "outputs": [],
   "source": [
    "a = A()"
   ]
  },
  {
   "cell_type": "code",
   "execution_count": 29,
   "id": "51ae83bb",
   "metadata": {},
   "outputs": [
    {
     "name": "stdout",
     "output_type": "stream",
     "text": [
      "Hello\n"
     ]
    }
   ],
   "source": [
    "show_hello(a)"
   ]
  },
  {
   "cell_type": "markdown",
   "id": "6abd32c0",
   "metadata": {},
   "source": [
    "# decorator"
   ]
  },
  {
   "cell_type": "code",
   "execution_count": 30,
   "id": "ca218090",
   "metadata": {},
   "outputs": [],
   "source": [
    "def time_it(func):\n",
    "    def wrapper():\n",
    "        t1 = time.time()\n",
    "        print(f\"Time start is : {t1}\")\n",
    "        func()\n",
    "        t2 = time.time()\n",
    "        print(f\"Time start is : {t2}\")\n",
    "        t = t2-t1\n",
    "        print(f\"Time taken is : {t} seconds\")\n",
    "    return wrapper"
   ]
  },
  {
   "cell_type": "code",
   "execution_count": 31,
   "id": "1e13a00c",
   "metadata": {},
   "outputs": [],
   "source": [
    "research = time_it(research)"
   ]
  },
  {
   "cell_type": "code",
   "execution_count": 32,
   "id": "28e21553",
   "metadata": {},
   "outputs": [
    {
     "name": "stdout",
     "output_type": "stream",
     "text": [
      "Time start is : 1754019436.7379775\n",
      "Start\n",
      "Complete\n",
      "Time start is : 1754019441.7396495\n",
      "Time taken is : 5.001672029495239 seconds\n"
     ]
    }
   ],
   "source": [
    "research()"
   ]
  },
  {
   "cell_type": "markdown",
   "id": "a6f5f891",
   "metadata": {},
   "source": [
    "# Python sugar"
   ]
  },
  {
   "cell_type": "code",
   "execution_count": 33,
   "id": "9b6829b6",
   "metadata": {},
   "outputs": [],
   "source": [
    "# add = time_it(add)\n",
    "\n",
    "\n",
    "@time_it\n",
    "def add():\n",
    "    print(1+1)\n",
    "    time.sleep(10)\n",
    "    print(1+2)"
   ]
  },
  {
   "cell_type": "code",
   "execution_count": 35,
   "id": "1f677160",
   "metadata": {},
   "outputs": [
    {
     "name": "stdout",
     "output_type": "stream",
     "text": [
      "Time start is : 1754019909.4987538\n",
      "2\n",
      "3\n",
      "Time start is : 1754019919.500326\n",
      "Time taken is : 10.001572132110596 seconds\n"
     ]
    }
   ],
   "source": [
    "add()"
   ]
  },
  {
   "cell_type": "code",
   "execution_count": 36,
   "id": "87ad659f",
   "metadata": {},
   "outputs": [],
   "source": [
    "def log_time_it(func):\n",
    "    def wrapper(*args, **kwargs): # *args dtype is tuple\n",
    "        t1 = time.time()\n",
    "        func(*args, **kwargs)\n",
    "        t2 = time.time()\n",
    "        t = t2-t1\n",
    "        print(f\"Time taken is : {t} seconds\")\n",
    "    return wrapper"
   ]
  },
  {
   "cell_type": "code",
   "execution_count": 37,
   "id": "a7d0e2ff",
   "metadata": {},
   "outputs": [],
   "source": [
    "@log_time_it\n",
    "def add(a,b,c,d):\n",
    "    print(a+b+c)\n",
    "    print(a+b+c)\n",
    "    time.sleep(2)\n",
    "    print(a+b+c)\n",
    "    print(a+b+c)\n"
   ]
  },
  {
   "cell_type": "code",
   "execution_count": 38,
   "id": "6ed32d09",
   "metadata": {},
   "outputs": [
    {
     "name": "stdout",
     "output_type": "stream",
     "text": [
      "6\n",
      "6\n",
      "6\n",
      "6\n",
      "Time taken is : 2.001335859298706 seconds\n"
     ]
    }
   ],
   "source": [
    "add(1,2,3,4)"
   ]
  },
  {
   "cell_type": "markdown",
   "id": "4b26ec14",
   "metadata": {},
   "source": [
    "# ClassMethod"
   ]
  },
  {
   "cell_type": "code",
   "execution_count": 39,
   "id": "3b6d6e88",
   "metadata": {},
   "outputs": [],
   "source": [
    "class B:\n",
    "\n",
    "    a = 100 # class variable\n",
    "\n",
    "    def __init__(self):\n",
    "        self.a = 100 # instance variable\n",
    "\n",
    "    def hello(self):\n",
    "        print(\"hello world\")"
   ]
  },
  {
   "cell_type": "code",
   "execution_count": 41,
   "id": "df7d9887",
   "metadata": {},
   "outputs": [
    {
     "ename": "TypeError",
     "evalue": "B.hello() missing 1 required positional argument: 'self'",
     "output_type": "error",
     "traceback": [
      "\u001b[1;31m---------------------------------------------------------------------------\u001b[0m",
      "\u001b[1;31mTypeError\u001b[0m                                 Traceback (most recent call last)",
      "Cell \u001b[1;32mIn[41], line 1\u001b[0m\n\u001b[1;32m----> 1\u001b[0m B\u001b[38;5;241m.\u001b[39mhello()\n",
      "\u001b[1;31mTypeError\u001b[0m: B.hello() missing 1 required positional argument: 'self'"
     ]
    }
   ],
   "source": [
    "B.hello()"
   ]
  },
  {
   "cell_type": "code",
   "execution_count": 42,
   "id": "142584ad",
   "metadata": {},
   "outputs": [
    {
     "data": {
      "text/plain": [
       "100"
      ]
     },
     "execution_count": 42,
     "metadata": {},
     "output_type": "execute_result"
    }
   ],
   "source": [
    "B.a"
   ]
  },
  {
   "cell_type": "code",
   "execution_count": 1,
   "id": "8fb2d242",
   "metadata": {},
   "outputs": [],
   "source": [
    "class Memory:\n",
    "    total_memory = 128\n",
    "\n",
    "    @classmethod\n",
    "    def update_memory(cls, m):\n",
    "        cls.total_memory-=m\n",
    "\n",
    "    def check_memory(self):\n",
    "        print(Memory.total_memory)"
   ]
  },
  {
   "cell_type": "code",
   "execution_count": 2,
   "id": "1bbe99bd",
   "metadata": {},
   "outputs": [
    {
     "data": {
      "text/plain": [
       "128"
      ]
     },
     "execution_count": 2,
     "metadata": {},
     "output_type": "execute_result"
    }
   ],
   "source": [
    "Memory.total_memory"
   ]
  },
  {
   "cell_type": "code",
   "execution_count": 3,
   "id": "942653c8",
   "metadata": {},
   "outputs": [],
   "source": [
    "Memory.update_memory(100)"
   ]
  },
  {
   "cell_type": "code",
   "execution_count": 4,
   "id": "87ca6c1a",
   "metadata": {},
   "outputs": [
    {
     "data": {
      "text/plain": [
       "28"
      ]
     },
     "execution_count": 4,
     "metadata": {},
     "output_type": "execute_result"
    }
   ],
   "source": [
    "Memory.total_memory"
   ]
  },
  {
   "cell_type": "code",
   "execution_count": 5,
   "id": "9e7cbd87",
   "metadata": {},
   "outputs": [],
   "source": [
    "m1 = Memory()"
   ]
  },
  {
   "cell_type": "code",
   "execution_count": 6,
   "id": "e11ef177",
   "metadata": {},
   "outputs": [
    {
     "name": "stdout",
     "output_type": "stream",
     "text": [
      "28\n"
     ]
    }
   ],
   "source": [
    "m1.check_memory()"
   ]
  },
  {
   "cell_type": "code",
   "execution_count": 7,
   "id": "4fa02e29",
   "metadata": {},
   "outputs": [],
   "source": [
    "m2 = Memory()"
   ]
  },
  {
   "cell_type": "code",
   "execution_count": 8,
   "id": "d1de5e98",
   "metadata": {},
   "outputs": [
    {
     "name": "stdout",
     "output_type": "stream",
     "text": [
      "28\n"
     ]
    }
   ],
   "source": [
    "m2.check_memory()"
   ]
  },
  {
   "cell_type": "code",
   "execution_count": 10,
   "id": "6b5e4a23",
   "metadata": {},
   "outputs": [],
   "source": [
    "# Alternate constructor"
   ]
  },
  {
   "cell_type": "code",
   "execution_count": 11,
   "id": "c763cb92",
   "metadata": {},
   "outputs": [],
   "source": [
    "class DummyA:\n",
    "    def __init__(self, name,age):\n",
    "        self.name = name\n",
    "        self.age = age\n",
    "\n",
    "    @classmethod\n",
    "    def from_fullname(cls, name): # \"Monal 30\"\n",
    "        name, age = name.split()\n",
    "        return cls(name, age)\n",
    "    \n",
    "    def print_data(self):\n",
    "        print(self.name)\n",
    "        print(self.age)"
   ]
  },
  {
   "cell_type": "code",
   "execution_count": 12,
   "id": "ffccc59f",
   "metadata": {},
   "outputs": [],
   "source": [
    "# DummyA(\"Monal\", \"30\")"
   ]
  },
  {
   "cell_type": "code",
   "execution_count": 13,
   "id": "d50a2897",
   "metadata": {},
   "outputs": [],
   "source": [
    "obj_class_method = DummyA.from_fullname(\"Monal 30\")"
   ]
  },
  {
   "cell_type": "code",
   "execution_count": 14,
   "id": "f3d04cae",
   "metadata": {},
   "outputs": [
    {
     "name": "stdout",
     "output_type": "stream",
     "text": [
      "Monal\n",
      "30\n"
     ]
    }
   ],
   "source": [
    "obj_class_method.print_data()"
   ]
  },
  {
   "cell_type": "code",
   "execution_count": 15,
   "id": "a7536927",
   "metadata": {},
   "outputs": [],
   "source": [
    "# Alternate constructor"
   ]
  },
  {
   "cell_type": "markdown",
   "id": "cab8cd2a",
   "metadata": {},
   "source": [
    "# Static Methods"
   ]
  },
  {
   "cell_type": "code",
   "execution_count": 23,
   "id": "6275cfd5",
   "metadata": {},
   "outputs": [],
   "source": [
    "# These methods does not depends on self or cls\n",
    "\n",
    "class Calculator:\n",
    "\n",
    "    @staticmethod\n",
    "    def add(a, b):\n",
    "        print(a+b)\n",
    "\n",
    "    @staticmethod\n",
    "    def multiply(a, b):\n",
    "        print(a*b)\n",
    "\n",
    "    def all(self, a, b):\n",
    "        print(Calculator.add(a,b))\n",
    "        print(\"doing something\")\n",
    "        print(Calculator.multiply(a,b))\n",
    "        "
   ]
  },
  {
   "cell_type": "code",
   "execution_count": 17,
   "id": "8e1f730d",
   "metadata": {},
   "outputs": [
    {
     "name": "stdout",
     "output_type": "stream",
     "text": [
      "3\n"
     ]
    }
   ],
   "source": [
    "Calculator.add(1,2)"
   ]
  },
  {
   "cell_type": "code",
   "execution_count": 18,
   "id": "fd5ffbf3",
   "metadata": {},
   "outputs": [],
   "source": [
    "c = Calculator()"
   ]
  },
  {
   "cell_type": "code",
   "execution_count": 19,
   "id": "9ef8b30d",
   "metadata": {},
   "outputs": [
    {
     "name": "stdout",
     "output_type": "stream",
     "text": [
      "3\n",
      "None\n",
      "doing something\n",
      "2\n",
      "None\n"
     ]
    }
   ],
   "source": [
    "c.all(1,2)"
   ]
  },
  {
   "cell_type": "code",
   "execution_count": 20,
   "id": "405dfbaa",
   "metadata": {},
   "outputs": [
    {
     "name": "stdout",
     "output_type": "stream",
     "text": [
      "3\n"
     ]
    }
   ],
   "source": [
    "c.add(1,2)"
   ]
  },
  {
   "cell_type": "code",
   "execution_count": 24,
   "id": "d81458e6",
   "metadata": {},
   "outputs": [
    {
     "ename": "TypeError",
     "evalue": "Calculator.all() missing 1 required positional argument: 'b'",
     "output_type": "error",
     "traceback": [
      "\u001b[1;31m---------------------------------------------------------------------------\u001b[0m",
      "\u001b[1;31mTypeError\u001b[0m                                 Traceback (most recent call last)",
      "Cell \u001b[1;32mIn[24], line 1\u001b[0m\n\u001b[1;32m----> 1\u001b[0m Calculator\u001b[38;5;241m.\u001b[39mall(\u001b[38;5;241m1\u001b[39m,\u001b[38;5;241m2\u001b[39m)\n",
      "\u001b[1;31mTypeError\u001b[0m: Calculator.all() missing 1 required positional argument: 'b'"
     ]
    }
   ],
   "source": [
    "Calculator.all(1,2)"
   ]
  },
  {
   "cell_type": "code",
   "execution_count": 25,
   "id": "dc6e7830",
   "metadata": {},
   "outputs": [],
   "source": [
    "# factory logic --> cls --> @classmethods\n",
    "# function grouped in a class --> @staticmethods\n",
    "# need instance state --> instance methods and variables "
   ]
  }
 ],
 "metadata": {
  "kernelspec": {
   "display_name": "base",
   "language": "python",
   "name": "python3"
  },
  "language_info": {
   "codemirror_mode": {
    "name": "ipython",
    "version": 3
   },
   "file_extension": ".py",
   "mimetype": "text/x-python",
   "name": "python",
   "nbconvert_exporter": "python",
   "pygments_lexer": "ipython3",
   "version": "3.12.7"
  }
 },
 "nbformat": 4,
 "nbformat_minor": 5
}
