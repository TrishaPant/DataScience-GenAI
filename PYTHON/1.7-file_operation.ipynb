{
 "cells": [
  {
   "cell_type": "code",
   "execution_count": 11,
   "id": "800e76d4",
   "metadata": {},
   "outputs": [
    {
     "name": "stdout",
     "output_type": "stream",
     "text": [
      "monal\n",
      "monalk\n",
      "mona\n",
      "mahendra\n"
     ]
    }
   ],
   "source": [
    "a = [\"monal\", \"monalk\", \"mona\", \"vivek\", \"krish\", \"lucas\", \"mahendra\"]\n",
    "\n",
    "for name in a:  \n",
    "    if \"m\" in name: # character to character comparison\n",
    "        print(name)"
   ]
  },
  {
   "cell_type": "code",
   "execution_count": 12,
   "id": "88765e71",
   "metadata": {},
   "outputs": [],
   "source": [
    "a = \"Monal\""
   ]
  },
  {
   "cell_type": "code",
   "execution_count": 13,
   "id": "780a7dfa",
   "metadata": {},
   "outputs": [
    {
     "data": {
      "text/plain": [
       "'monal'"
      ]
     },
     "execution_count": 13,
     "metadata": {},
     "output_type": "execute_result"
    }
   ],
   "source": [
    "a.lower()"
   ]
  },
  {
   "cell_type": "code",
   "execution_count": 14,
   "id": "035a89f6",
   "metadata": {},
   "outputs": [],
   "source": [
    "a = \"monal\""
   ]
  },
  {
   "cell_type": "code",
   "execution_count": 15,
   "id": "8b8fb039",
   "metadata": {},
   "outputs": [],
   "source": [
    "a = a.upper()"
   ]
  },
  {
   "cell_type": "code",
   "execution_count": 16,
   "id": "2ae5a83c",
   "metadata": {},
   "outputs": [
    {
     "name": "stdout",
     "output_type": "stream",
     "text": [
      "MONAL\n"
     ]
    }
   ],
   "source": [
    "print(a)"
   ]
  },
  {
   "cell_type": "code",
   "execution_count": 17,
   "id": "926a9239",
   "metadata": {},
   "outputs": [],
   "source": [
    "a = \"monal\""
   ]
  },
  {
   "cell_type": "code",
   "execution_count": 18,
   "id": "8f955169",
   "metadata": {},
   "outputs": [
    {
     "data": {
      "text/plain": [
       "'Monal'"
      ]
     },
     "execution_count": 18,
     "metadata": {},
     "output_type": "execute_result"
    }
   ],
   "source": [
    "a.title()"
   ]
  },
  {
   "cell_type": "code",
   "execution_count": 19,
   "id": "9bce6d5c",
   "metadata": {},
   "outputs": [
    {
     "name": "stdout",
     "output_type": "stream",
     "text": [
      "monal\n",
      "monalk\n",
      "Mona\n",
      "Mahendra\n"
     ]
    }
   ],
   "source": [
    "a = [\"monal\", \"monalk\", \"Mona\", \"vivek\", \"krish\", \"lucas\", \"Mahendra\"]\n",
    "\n",
    "for name in a: \n",
    "    if \"m\" in name.lower() : # character to character comparison\n",
    "        print(name)"
   ]
  },
  {
   "cell_type": "markdown",
   "id": "2df86b35",
   "metadata": {},
   "source": [
    "File Operation"
   ]
  },
  {
   "cell_type": "code",
   "execution_count": 20,
   "id": "c70bab47",
   "metadata": {},
   "outputs": [],
   "source": [
    "import os"
   ]
  },
  {
   "cell_type": "code",
   "execution_count": 21,
   "id": "51edee92",
   "metadata": {},
   "outputs": [
    {
     "data": {
      "text/plain": [
       "'e:\\\\ULTIMATE DATA SCIENCE & GENAI\\\\PYTHON\\\\1-Python Basics'"
      ]
     },
     "execution_count": 21,
     "metadata": {},
     "output_type": "execute_result"
    }
   ],
   "source": [
    "os.getcwd()"
   ]
  },
  {
   "cell_type": "code",
   "execution_count": 22,
   "id": "3c36b431",
   "metadata": {},
   "outputs": [
    {
     "name": "stdout",
     "output_type": "stream",
     "text": [
      "['1.0-basics.ipynb', '1.1-operator.ipynb', '1.2-conditional_statement.ipynb', '1.3-controlflow.ipynb', '1.4-advanced_datatypes.ipynb', '1.5-loop.ipynb', '1.6-fuction.ipynb', '1.7-file_operation.ipynb', 'basics.py', 'test.txt']\n"
     ]
    }
   ],
   "source": [
    "print(os.listdir())"
   ]
  },
  {
   "cell_type": "code",
   "execution_count": 23,
   "id": "c9616f6f",
   "metadata": {},
   "outputs": [
    {
     "data": {
      "text/plain": [
       "'e:\\\\ULTIMATE DATA SCIENCE & GENAI\\\\PYTHON\\\\1-Python Basics\\\\test.txt'"
      ]
     },
     "execution_count": 23,
     "metadata": {},
     "output_type": "execute_result"
    }
   ],
   "source": [
    "os.path.join(os.getcwd(), \"test.txt\")"
   ]
  },
  {
   "cell_type": "code",
   "execution_count": 24,
   "id": "72cd1293",
   "metadata": {},
   "outputs": [],
   "source": [
    "file = open(\"./test.txt\") # . means current directory"
   ]
  },
  {
   "cell_type": "code",
   "execution_count": 25,
   "id": "600e1871",
   "metadata": {},
   "outputs": [],
   "source": [
    "file = open(\"test.txt\")"
   ]
  },
  {
   "cell_type": "code",
   "execution_count": 26,
   "id": "65cac78f",
   "metadata": {},
   "outputs": [
    {
     "name": "stdout",
     "output_type": "stream",
     "text": [
      "e:\\ULTIMATE DATA SCIENCE & GENAI\\PYTHON\\1-Python Basics\\test.txt\n"
     ]
    }
   ],
   "source": [
    "full_path = os.path.join(os.getcwd(), \"test.txt\")\n",
    "print(full_path)\n",
    "file = open(full_path)"
   ]
  },
  {
   "cell_type": "code",
   "execution_count": 29,
   "id": "42f6ce98",
   "metadata": {},
   "outputs": [],
   "source": [
    "content = file.read() # read all the content of filecontent = file.read() # read all the content of file"
   ]
  },
  {
   "cell_type": "code",
   "execution_count": 30,
   "id": "36384a49",
   "metadata": {},
   "outputs": [
    {
     "name": "stdout",
     "output_type": "stream",
     "text": [
      "h the release of Letraset sheets containing Lorem Ipsum passages, and more recently with desktop publishing software like Aldus PageMaker including versions of Lorem Ipsum.\n",
      "\n",
      "Why do we use it?\n",
      "It is a long established fact that a reader will be distracted by the readable content of a page when looking at its layout. The point of using Lorem Ipsum is that it has a more-or-less normal distribution of letters, as opposed to using 'Content here, content here', making it look like readable English. Many desktop publishing packages and web page editors now use Lorem Ipsum as their default model text, and a search for 'lorem ipsum' will uncover many web sites still in their infancy. Various versions have evolved over the years, sometimes by accident, sometimes on purpose (injected humour and the like).\n",
      "\n",
      "\n",
      "Where does it come from?\n",
      "Contrary to popular belief, Lorem Ipsum is not simply random text. It has roots in a piece of classical Latin literature from 45 BC, making it over 2000 years old. Richard McClintock, a Latin professor at Hampden-Sydney College in Virginia, looked up one of the more obscure Latin words, consectetur, from a Lorem Ipsum passage, and going through the cites of the word in classical literature, discovered the undoubtable source. Lorem Ipsum comes from sections 1.10.32 and 1.10.33 of \"de Finibus Bonorum et Malorum\" (The Extremes of Good and Evil) by Cicero, written in 45 BC. This book is a treatise on the theory of ethics, very popular during the Renaissance. The first line of Lorem Ipsum, \"Lorem ipsum dolor sit amet..\", comes from a line in section 1.10.32.\n",
      "\n",
      "The standard chunk of Lorem Ipsum used since the 1500s is reproduced below for those interested. Sections 1.10.32 and 1.10.33 from \"de Finibus Bonorum et Malorum\" by Cicero are also reproduced in their exact original form, accompanied by English versions from the 1914 translation by H. Rackham.\n",
      "\n",
      "Where can I get some?\n",
      "There are many variations of passages of Lorem Ipsum available, but the majority have suffered alteration in some form, by injected humour, or randomised words which don't look even slightly believable. If you are going to use a passage of Lorem Ipsum, you need to be sure there isn't anything embarrassing hidden in the middle of text. All the Lorem Ipsum generators on the Internet tend to repeat predefined chunks as necessary, making this the first true generator on the Internet. It uses a dictionary of over 200 Latin words, combined with a handful of model sentence structures, to generate Lorem Ipsum which looks reasonable. The generated Lorem Ipsum is therefore always free from repetition, injected humour, or non-characteristic words etc.\n",
      "\n",
      "5\n",
      "\tparagraphs\n",
      "\twords\n",
      "\tbytes\n",
      "\tlists\n",
      "\tStart with 'Lorem\n",
      "ipsum dolor sit amet...'\n",
      "\n"
     ]
    }
   ],
   "source": [
    "print(content)"
   ]
  },
  {
   "cell_type": "code",
   "execution_count": 32,
   "id": "48818b48",
   "metadata": {},
   "outputs": [
    {
     "name": "stdout",
     "output_type": "stream",
     "text": [
      "C:\\Users\\trish\\OneDrive\\Desktop\\work.txt\n"
     ]
    }
   ],
   "source": [
    "work_dir = \"C:/Users/trish/OneDrive/Desktop\"\n",
    "file_name = \"work.txt\"\n",
    "full_path = os.path.normpath(os.path.join(work_dir, file_name))\n",
    "print(full_path)"
   ]
  },
  {
   "cell_type": "code",
   "execution_count": 33,
   "id": "f1af5778",
   "metadata": {},
   "outputs": [],
   "source": [
    "a=\"trisha pant\""
   ]
  },
  {
   "cell_type": "code",
   "execution_count": 34,
   "id": "9409f1a1",
   "metadata": {},
   "outputs": [
    {
     "data": {
      "text/plain": [
       "['trisha', 'pant']"
      ]
     },
     "execution_count": 34,
     "metadata": {},
     "output_type": "execute_result"
    }
   ],
   "source": [
    "a.split() # split by space"
   ]
  },
  {
   "cell_type": "code",
   "execution_count": 41,
   "id": "224a1ac3",
   "metadata": {},
   "outputs": [
    {
     "data": {
      "text/plain": [
       "['trisha ', 'ant']"
      ]
     },
     "execution_count": 41,
     "metadata": {},
     "output_type": "execute_result"
    }
   ],
   "source": [
    "a.split(\"p\")"
   ]
  },
  {
   "cell_type": "markdown",
   "id": "5647224d",
   "metadata": {},
   "source": [
    "clean file read"
   ]
  },
  {
   "cell_type": "code",
   "execution_count": 35,
   "id": "da18fb83",
   "metadata": {},
   "outputs": [],
   "source": [
    "import os"
   ]
  },
  {
   "cell_type": "code",
   "execution_count": 36,
   "id": "d233d9ee",
   "metadata": {},
   "outputs": [
    {
     "name": "stdout",
     "output_type": "stream",
     "text": [
      "e:\\ULTIMATE DATA SCIENCE & GENAI\\PYTHON\\1-Python Basics\\test.txt\n"
     ]
    }
   ],
   "source": [
    "file_name = \"test.txt\"\n",
    "cwd = os.getcwd()\n",
    "full_file_path = os.path.join(cwd, file_name)\n",
    "print(full_file_path)"
   ]
  },
  {
   "cell_type": "code",
   "execution_count": 37,
   "id": "b5fe8525",
   "metadata": {},
   "outputs": [],
   "source": [
    "f = open(full_file_path)"
   ]
  },
  {
   "cell_type": "code",
   "execution_count": 38,
   "id": "84a73680",
   "metadata": {},
   "outputs": [],
   "source": [
    "all_contents = f.read() # all content"
   ]
  },
  {
   "cell_type": "code",
   "execution_count": 39,
   "id": "cc038b62",
   "metadata": {},
   "outputs": [
    {
     "name": "stdout",
     "output_type": "stream",
     "text": [
      "monal, data science instructor\n",
      "What is Lorem Ipsum?\n",
      "Lorem Ipsum is simply dummy text of the printing and typesetting industry. Lorem Ipsum has been the industry's standard dummy text ever since the 1500s, when an unknown printer took a galley of type and scrambled it to make a type specimen book. It has survived not only five centuries, but also the leap into electronic typesetting, remaining essentially unchanged. It was popularised in the 1960s with the release of Letraset sheets containing Lorem Ipsum passages, and more recently with desktop publishing software like Aldus PageMaker including versions of Lorem Ipsum.\n",
      "\n",
      "Why do we use it?\n",
      "It is a long established fact that a reader will be distracted by the readable content of a page when looking at its layout. The point of using Lorem Ipsum is that it has a more-or-less normal distribution of letters, as opposed to using 'Content here, content here', making it look like readable English. Many desktop publishing packages and web page editors now use Lorem Ipsum as their default model text, and a search for 'lorem ipsum' will uncover many web sites still in their infancy. Various versions have evolved over the years, sometimes by accident, sometimes on purpose (injected humour and the like).\n",
      "\n",
      "\n",
      "Where does it come from?\n",
      "Contrary to popular belief, Lorem Ipsum is not simply random text. It has roots in a piece of classical Latin literature from 45 BC, making it over 2000 years old. Richard McClintock, a Latin professor at Hampden-Sydney College in Virginia, looked up one of the more obscure Latin words, consectetur, from a Lorem Ipsum passage, and going through the cites of the word in classical literature, discovered the undoubtable source. Lorem Ipsum comes from sections 1.10.32 and 1.10.33 of \"de Finibus Bonorum et Malorum\" (The Extremes of Good and Evil) by Cicero, written in 45 BC. This book is a treatise on the theory of ethics, very popular during the Renaissance. The first line of Lorem Ipsum, \"Lorem ipsum dolor sit amet..\", comes from a line in section 1.10.32.\n",
      "\n",
      "The standard chunk of Lorem Ipsum used since the 1500s is reproduced below for those interested. Sections 1.10.32 and 1.10.33 from \"de Finibus Bonorum et Malorum\" by Cicero are also reproduced in their exact original form, accompanied by English versions from the 1914 translation by H. Rackham.\n",
      "\n",
      "Where can I get some?\n",
      "There are many variations of passages of Lorem Ipsum available, but the majority have suffered alteration in some form, by injected humour, or randomised words which don't look even slightly believable. If you are going to use a passage of Lorem Ipsum, you need to be sure there isn't anything embarrassing hidden in the middle of text. All the Lorem Ipsum generators on the Internet tend to repeat predefined chunks as necessary, making this the first true generator on the Internet. It uses a dictionary of over 200 Latin words, combined with a handful of model sentence structures, to generate Lorem Ipsum which looks reasonable. The generated Lorem Ipsum is therefore always free from repetition, injected humour, or non-characteristic words etc.\n",
      "\n",
      "5\n",
      "\tparagraphs\n",
      "\twords\n",
      "\tbytes\n",
      "\tlists\n",
      "\tStart with 'Lorem\n",
      "ipsum dolor sit amet...'\n",
      "\n"
     ]
    }
   ],
   "source": [
    "print(all_contents)"
   ]
  },
  {
   "cell_type": "code",
   "execution_count": 42,
   "id": "54c846d6",
   "metadata": {},
   "outputs": [
    {
     "data": {
      "text/plain": [
       "['monal, data science instructor\\nWhat is Lorem Ipsum?\\nLorem Ipsum is simply dummy text of the printing and typesetting industry. Lorem Ipsum has been the industry\\'s standard dummy text ever since the 1500s, when an unknown printer took a galley of type and scrambled it to make a type specimen book. It has survived not only five centuries, but also the leap into electronic typesetting, remaining essentially unchanged. It was popularised in the 1960s with the release of Letraset sheets containing Lorem Ipsum passages, and more recently with desktop publishing software like Aldus PageMaker including versions of Lorem Ipsum.\\n\\nWhy do we use it?\\nIt is a long established fact that a reader will be distracted by the readable content of a page when looking at its layout. The point of using Lorem Ipsum is that it has a more-or-less normal distribution of letters, as opposed to using \\'Content here, content here\\', making it look like readable English. Many desktop publishing packages and web page editors now use Lorem Ipsum as their default model text, and a search for \\'lorem ipsum\\' will uncover many web sites still in their infancy. Various versions have evolved over the years, sometimes by accident, sometimes on purpose (injected humour and the like).\\n\\n\\nWhere does it come from?\\nContrary to popular belief, Lorem Ipsum is not simply random text. It has roots in a piece of classical Latin literature from 45 BC, making it over 2000 years old. Richard McClintock, a Latin professor at Hampden-Sydney College in Virginia, looked up one of the more obscure Latin words, consectetur, from a Lorem Ipsum passage, and going through the cites of the word in classical literature, discovered the undoubtable source. Lorem Ipsum comes from sections 1.10.32 and 1.10.33 of \"de Finibus Bonorum et Malorum\" (The Extremes of Good and Evil) by Cicero, written in 45 BC. This book is a treatise on the theory of ethics, very popular during the Renaissance. The first line of Lorem Ipsum, \"Lorem ipsum dolor sit amet..\", comes from a line in section 1.10.32.\\n\\nThe standard chunk of Lorem Ipsum used since the 1500s is reproduced below for those interested. Sections 1.10.32 and 1.10.33 from \"de Finibus Bonorum et Malorum\" by Cicero are also reproduced in their exact original form, accompanied by English versions from the 1914 translation by H. Rackham.\\n\\nWhere can I get some?\\nThere are many variations of passages of Lorem Ipsum available, but the majority have suffered alteration in some form, by injected humour, or randomised words which don\\'t look even slightly believable. If you are going to use a passage of Lorem Ipsum, you need to be sure there isn\\'t anything embarrassing hidden in the middle of text. All the Lorem Ipsum generators on the Internet tend to repeat predefined chunks as necessary, making this the first true generator on the Internet. It uses a dictionary of over 200 Latin words, combined with a handful of model sentence structures, to generate Lorem Ipsum which looks reasonable. The generated Lorem Ipsum is therefore always free from repetition, injected humour, or non-characteristic words etc.\\n\\n5\\n',\n",
       " 'paragraphs\\n',\n",
       " 'words\\n',\n",
       " 'bytes\\n',\n",
       " 'lists\\n',\n",
       " \"Start with 'Lorem\\nipsum dolor sit amet...'\\n\"]"
      ]
     },
     "execution_count": 42,
     "metadata": {},
     "output_type": "execute_result"
    }
   ],
   "source": [
    "all_contents.split(\"\\t\")"
   ]
  },
  {
   "cell_type": "code",
   "execution_count": 43,
   "id": "b7daca9b",
   "metadata": {},
   "outputs": [
    {
     "name": "stdout",
     "output_type": "stream",
     "text": [
      "monal, data science instructor\n",
      "\n",
      "What is Lorem Ipsum?\n",
      "\n"
     ]
    }
   ],
   "source": [
    "f = open(full_file_path)\n",
    "lines = f.readline()\n",
    "print(lines)\n",
    "\n",
    "lines = f.readline()\n",
    "print(lines)\n",
    "f.close()"
   ]
  },
  {
   "cell_type": "code",
   "execution_count": 44,
   "id": "6332020c",
   "metadata": {},
   "outputs": [
    {
     "name": "stdout",
     "output_type": "stream",
     "text": [
      "['monal, data science instructor\\n', 'What is Lorem Ipsum?\\n', \"Lorem Ipsum is simply dummy text of the printing and typesetting industry. Lorem Ipsum has been the industry's standard dummy text ever since the 1500s, when an unknown printer took a galley of type and scrambled it to make a type specimen book. It has survived not only five centuries, but also the leap into electronic typesetting, remaining essentially unchanged. It was popularised in the 1960s with the release of Letraset sheets containing Lorem Ipsum passages, and more recently with desktop publishing software like Aldus PageMaker including versions of Lorem Ipsum.\\n\", '\\n', 'Why do we use it?\\n', \"It is a long established fact that a reader will be distracted by the readable content of a page when looking at its layout. The point of using Lorem Ipsum is that it has a more-or-less normal distribution of letters, as opposed to using 'Content here, content here', making it look like readable English. Many desktop publishing packages and web page editors now use Lorem Ipsum as their default model text, and a search for 'lorem ipsum' will uncover many web sites still in their infancy. Various versions have evolved over the years, sometimes by accident, sometimes on purpose (injected humour and the like).\\n\", '\\n', '\\n', 'Where does it come from?\\n', 'Contrary to popular belief, Lorem Ipsum is not simply random text. It has roots in a piece of classical Latin literature from 45 BC, making it over 2000 years old. Richard McClintock, a Latin professor at Hampden-Sydney College in Virginia, looked up one of the more obscure Latin words, consectetur, from a Lorem Ipsum passage, and going through the cites of the word in classical literature, discovered the undoubtable source. Lorem Ipsum comes from sections 1.10.32 and 1.10.33 of \"de Finibus Bonorum et Malorum\" (The Extremes of Good and Evil) by Cicero, written in 45 BC. This book is a treatise on the theory of ethics, very popular during the Renaissance. The first line of Lorem Ipsum, \"Lorem ipsum dolor sit amet..\", comes from a line in section 1.10.32.\\n', '\\n', 'The standard chunk of Lorem Ipsum used since the 1500s is reproduced below for those interested. Sections 1.10.32 and 1.10.33 from \"de Finibus Bonorum et Malorum\" by Cicero are also reproduced in their exact original form, accompanied by English versions from the 1914 translation by H. Rackham.\\n', '\\n', 'Where can I get some?\\n', \"There are many variations of passages of Lorem Ipsum available, but the majority have suffered alteration in some form, by injected humour, or randomised words which don't look even slightly believable. If you are going to use a passage of Lorem Ipsum, you need to be sure there isn't anything embarrassing hidden in the middle of text. All the Lorem Ipsum generators on the Internet tend to repeat predefined chunks as necessary, making this the first true generator on the Internet. It uses a dictionary of over 200 Latin words, combined with a handful of model sentence structures, to generate Lorem Ipsum which looks reasonable. The generated Lorem Ipsum is therefore always free from repetition, injected humour, or non-characteristic words etc.\\n\", '\\n', '5\\n', '\\tparagraphs\\n', '\\twords\\n', '\\tbytes\\n', '\\tlists\\n', \"\\tStart with 'Lorem\\n\", \"ipsum dolor sit amet...'\\n\"]\n"
     ]
    }
   ],
   "source": [
    "f = open(full_file_path)\n",
    "lines = f.readlines()\n",
    "print(lines)\n",
    "f.close()"
   ]
  },
  {
   "cell_type": "code",
   "execution_count": 45,
   "id": "73de112d",
   "metadata": {},
   "outputs": [
    {
     "name": "stdout",
     "output_type": "stream",
     "text": [
      "['monal, data science instructor\\n', 'What is Lorem Ipsum?\\n', \"Lorem Ipsum is simply dummy text of the printing and typesetting industry. Lorem Ipsum has been the industry's standard dummy text ever since the 1500s, when an unknown printer took a galley of type and scrambled it to make a type specimen book. It has survived not only five centuries, but also the leap into electronic typesetting, remaining essentially unchanged. It was popularised in the 1960s with the release of Letraset sheets containing Lorem Ipsum passages, and more recently with desktop publishing software like Aldus PageMaker including versions of Lorem Ipsum.\\n\", '\\n', 'Why do we use it?\\n', \"It is a long established fact that a reader will be distracted by the readable content of a page when looking at its layout. The point of using Lorem Ipsum is that it has a more-or-less normal distribution of letters, as opposed to using 'Content here, content here', making it look like readable English. Many desktop publishing packages and web page editors now use Lorem Ipsum as their default model text, and a search for 'lorem ipsum' will uncover many web sites still in their infancy. Various versions have evolved over the years, sometimes by accident, sometimes on purpose (injected humour and the like).\\n\", '\\n', '\\n', 'Where does it come from?\\n', 'Contrary to popular belief, Lorem Ipsum is not simply random text. It has roots in a piece of classical Latin literature from 45 BC, making it over 2000 years old. Richard McClintock, a Latin professor at Hampden-Sydney College in Virginia, looked up one of the more obscure Latin words, consectetur, from a Lorem Ipsum passage, and going through the cites of the word in classical literature, discovered the undoubtable source. Lorem Ipsum comes from sections 1.10.32 and 1.10.33 of \"de Finibus Bonorum et Malorum\" (The Extremes of Good and Evil) by Cicero, written in 45 BC. This book is a treatise on the theory of ethics, very popular during the Renaissance. The first line of Lorem Ipsum, \"Lorem ipsum dolor sit amet..\", comes from a line in section 1.10.32.\\n', '\\n', 'The standard chunk of Lorem Ipsum used since the 1500s is reproduced below for those interested. Sections 1.10.32 and 1.10.33 from \"de Finibus Bonorum et Malorum\" by Cicero are also reproduced in their exact original form, accompanied by English versions from the 1914 translation by H. Rackham.\\n', '\\n', 'Where can I get some?\\n', \"There are many variations of passages of Lorem Ipsum available, but the majority have suffered alteration in some form, by injected humour, or randomised words which don't look even slightly believable. If you are going to use a passage of Lorem Ipsum, you need to be sure there isn't anything embarrassing hidden in the middle of text. All the Lorem Ipsum generators on the Internet tend to repeat predefined chunks as necessary, making this the first true generator on the Internet. It uses a dictionary of over 200 Latin words, combined with a handful of model sentence structures, to generate Lorem Ipsum which looks reasonable. The generated Lorem Ipsum is therefore always free from repetition, injected humour, or non-characteristic words etc.\\n\", '\\n', '5\\n', '\\tparagraphs\\n', '\\twords\\n', '\\tbytes\\n', '\\tlists\\n', \"\\tStart with 'Lorem\\n\", \"ipsum dolor sit amet...'\\n\"]\n"
     ]
    }
   ],
   "source": [
    "# with -> context manager --> handles closing of your file\n",
    "with open(full_file_path) as f:\n",
    "    lines = f.readlines()\n",
    "    print(lines)"
   ]
  },
  {
   "cell_type": "code",
   "execution_count": 46,
   "id": "1e56182b",
   "metadata": {},
   "outputs": [
    {
     "name": "stdout",
     "output_type": "stream",
     "text": [
      "['monal, data science instructor\\n', 'What is Lorem Ipsum?\\n', \"Lorem Ipsum is simply dummy text of the printing and typesetting industry. Lorem Ipsum has been the industry's standard dummy text ever since the 1500s, when an unknown printer took a galley of type and scrambled it to make a type specimen book. It has survived not only five centuries, but also the leap into electronic typesetting, remaining essentially unchanged. It was popularised in the 1960s with the release of Letraset sheets containing Lorem Ipsum passages, and more recently with desktop publishing software like Aldus PageMaker including versions of Lorem Ipsum.\\n\", '\\n', 'Why do we use it?\\n', \"It is a long established fact that a reader will be distracted by the readable content of a page when looking at its layout. The point of using Lorem Ipsum is that it has a more-or-less normal distribution of letters, as opposed to using 'Content here, content here', making it look like readable English. Many desktop publishing packages and web page editors now use Lorem Ipsum as their default model text, and a search for 'lorem ipsum' will uncover many web sites still in their infancy. Various versions have evolved over the years, sometimes by accident, sometimes on purpose (injected humour and the like).\\n\", '\\n', '\\n', 'Where does it come from?\\n', 'Contrary to popular belief, Lorem Ipsum is not simply random text. It has roots in a piece of classical Latin literature from 45 BC, making it over 2000 years old. Richard McClintock, a Latin professor at Hampden-Sydney College in Virginia, looked up one of the more obscure Latin words, consectetur, from a Lorem Ipsum passage, and going through the cites of the word in classical literature, discovered the undoubtable source. Lorem Ipsum comes from sections 1.10.32 and 1.10.33 of \"de Finibus Bonorum et Malorum\" (The Extremes of Good and Evil) by Cicero, written in 45 BC. This book is a treatise on the theory of ethics, very popular during the Renaissance. The first line of Lorem Ipsum, \"Lorem ipsum dolor sit amet..\", comes from a line in section 1.10.32.\\n', '\\n', 'The standard chunk of Lorem Ipsum used since the 1500s is reproduced below for those interested. Sections 1.10.32 and 1.10.33 from \"de Finibus Bonorum et Malorum\" by Cicero are also reproduced in their exact original form, accompanied by English versions from the 1914 translation by H. Rackham.\\n', '\\n', 'Where can I get some?\\n', \"There are many variations of passages of Lorem Ipsum available, but the majority have suffered alteration in some form, by injected humour, or randomised words which don't look even slightly believable. If you are going to use a passage of Lorem Ipsum, you need to be sure there isn't anything embarrassing hidden in the middle of text. All the Lorem Ipsum generators on the Internet tend to repeat predefined chunks as necessary, making this the first true generator on the Internet. It uses a dictionary of over 200 Latin words, combined with a handful of model sentence structures, to generate Lorem Ipsum which looks reasonable. The generated Lorem Ipsum is therefore always free from repetition, injected humour, or non-characteristic words etc.\\n\", '\\n', '5\\n', '\\tparagraphs\\n', '\\twords\\n', '\\tbytes\\n', '\\tlists\\n', \"\\tStart with 'Lorem\\n\", \"ipsum dolor sit amet...'\\n\"]\n"
     ]
    }
   ],
   "source": [
    "# with -> context manager --> handles closing of your file\n",
    "with open(full_file_path, \"r\") as f:\n",
    "    lines = f.readlines()\n",
    "    print(lines)"
   ]
  },
  {
   "cell_type": "code",
   "execution_count": 48,
   "id": "6111a6f7",
   "metadata": {},
   "outputs": [],
   "source": [
    "# with -> context manager --> handles closing of your file\n",
    "with open(\"./test.txt\", \"w\") as f:\n",
    "    f.write(\"hello, how are you.\\n\")"
   ]
  },
  {
   "cell_type": "code",
   "execution_count": 49,
   "id": "3857260d",
   "metadata": {},
   "outputs": [],
   "source": [
    "# with -> context manager --> handles closing of your file\n",
    "a = [\"hello, how are you.\\n\", \"hey,      \", \"hello\"]\n",
    "with open(\"./a.txt\", \"w\") as f:\n",
    "    f.writelines(a)"
   ]
  },
  {
   "cell_type": "code",
   "execution_count": 50,
   "id": "8c3cc519",
   "metadata": {},
   "outputs": [],
   "source": [
    "with open('20apr25-test2.txt','w') as file:\n",
    "    file.write('ya\\nah\\nya')"
   ]
  },
  {
   "cell_type": "code",
   "execution_count": 51,
   "id": "f3d83ba5",
   "metadata": {},
   "outputs": [],
   "source": [
    "# with -> context manager --> handles closing of your file\n",
    "with open(\"./test_new.txt\", \"w\") as f:\n",
    "    f.write(\"hello, how are you.\\n\")\n",
    "    f.write(\"hello, how are you.\\n\")\n",
    "    f.write(\"hello, how are you.\\n\")"
   ]
  },
  {
   "cell_type": "code",
   "execution_count": 52,
   "id": "0044a142",
   "metadata": {},
   "outputs": [],
   "source": [
    "with open(\"./test_new.txt\", \"a\") as f:\n",
    "    f.write(\"new statement added.\\n\")"
   ]
  },
  {
   "cell_type": "code",
   "execution_count": 53,
   "id": "2c53fd3a",
   "metadata": {},
   "outputs": [],
   "source": [
    "with open(\"./test_new.txt\", \"r+\") as f:\n",
    "    f.write(\"new statement added.\\n\\n\")"
   ]
  },
  {
   "cell_type": "code",
   "execution_count": 54,
   "id": "77aa8894",
   "metadata": {},
   "outputs": [
    {
     "ename": "UnsupportedOperation",
     "evalue": "not readable",
     "output_type": "error",
     "traceback": [
      "\u001b[31m---------------------------------------------------------------------------\u001b[39m",
      "\u001b[31mUnsupportedOperation\u001b[39m                      Traceback (most recent call last)",
      "\u001b[36mCell\u001b[39m\u001b[36m \u001b[39m\u001b[32mIn[54]\u001b[39m\u001b[32m, line 2\u001b[39m\n\u001b[32m      1\u001b[39m \u001b[38;5;28;01mwith\u001b[39;00m \u001b[38;5;28mopen\u001b[39m(\u001b[33m\"\u001b[39m\u001b[33m.dummy.txt\u001b[39m\u001b[33m\"\u001b[39m, \u001b[33m\"\u001b[39m\u001b[33ma\u001b[39m\u001b[33m\"\u001b[39m) \u001b[38;5;28;01mas\u001b[39;00m f:\n\u001b[32m----> \u001b[39m\u001b[32m2\u001b[39m     content = \u001b[43mf\u001b[49m\u001b[43m.\u001b[49m\u001b[43mread\u001b[49m\u001b[43m(\u001b[49m\u001b[43m)\u001b[49m\n\u001b[32m      3\u001b[39m     \u001b[38;5;28mprint\u001b[39m(content)\n",
      "\u001b[31mUnsupportedOperation\u001b[39m: not readable"
     ]
    }
   ],
   "source": [
    "with open(\".dummy.txt\", \"a\") as f:\n",
    "    content = f.read()\n",
    "    print(content)"
   ]
  },
  {
   "cell_type": "markdown",
   "id": "2034a13b",
   "metadata": {},
   "source": [
    "code example"
   ]
  },
  {
   "cell_type": "code",
   "execution_count": 10,
   "id": "a9b190eb",
   "metadata": {},
   "outputs": [],
   "source": [
    "id = 1"
   ]
  },
  {
   "cell_type": "code",
   "execution_count": 16,
   "id": "9fb2ccd6",
   "metadata": {},
   "outputs": [],
   "source": [
    "name = input(\"enter your name : \")\n",
    "age = input(\"enter age : \")\n",
    "\n",
    "with open(\"test_dummy_1.txt\", \"a+\") as f:\n",
    "    a = str(id) + \",\" + name + \",\" + age +\",\" +\"\\n\"\n",
    "    f.write(a)\n",
    "id += 1"
   ]
  },
  {
   "cell_type": "code",
   "execution_count": 17,
   "id": "8cd4ada6",
   "metadata": {},
   "outputs": [],
   "source": [
    "data_of_students = {}"
   ]
  },
  {
   "cell_type": "code",
   "execution_count": 18,
   "id": "1f334af2",
   "metadata": {},
   "outputs": [],
   "source": [
    "def populate_data(data):\n",
    "    print(data)\n",
    "    data = data.split(\",\")\n",
    "    print(data)\n",
    "    data_of_students[str(data[0])] = {}\n",
    "    data_of_students[str(data[0])][str(\"name\")] = data[1]\n",
    "    data_of_students[str(data[0])][str(\"age\")] = data[2]"
   ]
  },
  {
   "cell_type": "code",
   "execution_count": 19,
   "id": "f7482a39",
   "metadata": {},
   "outputs": [
    {
     "name": "stdout",
     "output_type": "stream",
     "text": [
      "['1,monal,30,\\n', '2,qnatha,27,\\n', '3,enjoy,34,\\n', '4,yusuf,34,\\n', '5,omar,23,\\n', '6,efsgd,43,\\n']\n",
      "1,monal,30,\n",
      "\n",
      "['1', 'monal', '30', '\\n']\n",
      "2,qnatha,27,\n",
      "\n",
      "['2', 'qnatha', '27', '\\n']\n",
      "3,enjoy,34,\n",
      "\n",
      "['3', 'enjoy', '34', '\\n']\n",
      "4,yusuf,34,\n",
      "\n",
      "['4', 'yusuf', '34', '\\n']\n",
      "5,omar,23,\n",
      "\n",
      "['5', 'omar', '23', '\\n']\n",
      "6,efsgd,43,\n",
      "\n",
      "['6', 'efsgd', '43', '\\n']\n"
     ]
    }
   ],
   "source": [
    "with open(\"./test_dummy_1.txt\", \"r+\") as f:\n",
    "    content = f.readlines()\n",
    "    print(content)\n",
    "    for c in content:\n",
    "        populate_data(c)"
   ]
  },
  {
   "cell_type": "code",
   "execution_count": 20,
   "id": "5c5d0525",
   "metadata": {},
   "outputs": [
    {
     "data": {
      "text/plain": [
       "{'1': {'name': 'monal', 'age': '30'},\n",
       " '2': {'name': 'qnatha', 'age': '27'},\n",
       " '3': {'name': 'enjoy', 'age': '34'},\n",
       " '4': {'name': 'yusuf', 'age': '34'},\n",
       " '5': {'name': 'omar', 'age': '23'},\n",
       " '6': {'name': 'efsgd', 'age': '43'}}"
      ]
     },
     "execution_count": 20,
     "metadata": {},
     "output_type": "execute_result"
    }
   ],
   "source": [
    "data_of_students"
   ]
  },
  {
   "cell_type": "code",
   "execution_count": 21,
   "id": "ecc14bc1",
   "metadata": {},
   "outputs": [],
   "source": [
    "a = {}"
   ]
  },
  {
   "cell_type": "code",
   "execution_count": 22,
   "id": "0686e21f",
   "metadata": {},
   "outputs": [],
   "source": [
    "def add_to_dict(key, value):\n",
    "    a[key] = value"
   ]
  },
  {
   "cell_type": "code",
   "execution_count": 23,
   "id": "33e4017c",
   "metadata": {},
   "outputs": [],
   "source": [
    "add_to_dict(\"1\", \"monal\")\n",
    "add_to_dict(\"2\", \"monalk\")\n",
    "add_to_dict(\"3\", \"monal\")\n",
    "add_to_dict(\"4\", \"monalk\")"
   ]
  },
  {
   "cell_type": "code",
   "execution_count": 24,
   "id": "5548b593",
   "metadata": {},
   "outputs": [
    {
     "name": "stdout",
     "output_type": "stream",
     "text": [
      "{'1': 'monal', '2': 'monalk', '3': 'monal', '4': 'monalk'}\n"
     ]
    }
   ],
   "source": [
    "print(a)"
   ]
  },
  {
   "cell_type": "code",
   "execution_count": 25,
   "id": "c96b6cf2",
   "metadata": {},
   "outputs": [
    {
     "ename": "SyntaxError",
     "evalue": "invalid syntax (476165066.py, line 5)",
     "output_type": "error",
     "traceback": [
      "  \u001b[36mCell\u001b[39m\u001b[36m \u001b[39m\u001b[32mIn[25]\u001b[39m\u001b[32m, line 5\u001b[39m\n\u001b[31m    \u001b[39m\u001b[31mwrite code for a\u001b[39m\n          ^\n\u001b[31mSyntaxError\u001b[39m\u001b[31m:\u001b[39m invalid syntax\n"
     ]
    }
   ],
   "source": [
    "print(\"Welcome to to-do list\")\n",
    "print(\"Press 1 for a, press 2 for b : \")\n",
    "option = int(input())\n",
    "if option == 1 :\n",
    "    write code for a\n",
    "elif option == 2:\n",
    "    write code b"
   ]
  },
  {
   "cell_type": "code",
   "execution_count": null,
   "id": "cf836c45",
   "metadata": {},
   "outputs": [],
   "source": []
  }
 ],
 "metadata": {
  "kernelspec": {
   "display_name": "Python 3",
   "language": "python",
   "name": "python3"
  },
  "language_info": {
   "codemirror_mode": {
    "name": "ipython",
    "version": 3
   },
   "file_extension": ".py",
   "mimetype": "text/x-python",
   "name": "python",
   "nbconvert_exporter": "python",
   "pygments_lexer": "ipython3",
   "version": "3.12.0"
  }
 },
 "nbformat": 4,
 "nbformat_minor": 5
}
