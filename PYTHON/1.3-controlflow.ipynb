{
 "cells": [
  {
   "cell_type": "code",
   "execution_count": 1,
   "id": "1d6f1615",
   "metadata": {},
   "outputs": [
    {
     "name": "stdout",
     "output_type": "stream",
     "text": [
      "go to theme park\n"
     ]
    }
   ],
   "source": [
    "money = int(input(\"Enter the current balance : \"))\n",
    "time = int(input(\"Enter time(24hrs format) : \"))\n",
    "\n",
    "if money >= 200:\n",
    "    if time < 19:\n",
    "        print(\"go to theme park\")\n",
    "    else : \n",
    "        print(\"Go home.\")\n",
    "else :\n",
    "    if time > 19:\n",
    "        print(\"go to icecream parlour.\")\n",
    "    else :\n",
    "        print(\"Go to beach\")"
   ]
  },
  {
   "cell_type": "code",
   "execution_count": 2,
   "id": "831912c0",
   "metadata": {},
   "outputs": [],
   "source": [
    "# condition1 = \"fruit\"\n",
    "# condition2 = \"apple\""
   ]
  },
  {
   "cell_type": "code",
   "execution_count": 3,
   "id": "c43eb49a",
   "metadata": {},
   "outputs": [
    {
     "name": "stdout",
     "output_type": "stream",
     "text": [
      "Task not completed\n"
     ]
    }
   ],
   "source": [
    "answer1 = input(\"write the item you want to buy : \")\n",
    "answer2 = input(\"write the fruit you want to buy : \")\n",
    "\n",
    "if answer1 == \"fruit\":\n",
    "    \n",
    "    if answer2 == \"apple\":\n",
    "        print(\"Task completed\")\n",
    "    else:\n",
    "        print(\"Task not completed\")\n",
    "else:\n",
    "    print(\"Item not available.\")"
   ]
  },
  {
   "cell_type": "code",
   "execution_count": 4,
   "id": "74d4f2ac",
   "metadata": {},
   "outputs": [
    {
     "name": "stdout",
     "output_type": "stream",
     "text": [
      "Item not available.\n"
     ]
    }
   ],
   "source": [
    "answer1 = input(\"write the item you want to buy : \")\n",
    "\n",
    "if answer1 == \"fruit\":\n",
    "    answer2 = input(\"write the fruit you want to buy : \")\n",
    "    if answer2 == \"apple\":\n",
    "        print(\"Task completed\")\n",
    "    else:\n",
    "        print(\"Task not completed\")\n",
    "else:\n",
    "    print(\"Item not available.\")"
   ]
  },
  {
   "cell_type": "code",
   "execution_count": 5,
   "id": "4e327896",
   "metadata": {},
   "outputs": [],
   "source": [
    "name1 = 'abc'\n",
    "mobile_no1 = \"3232323232\"\n",
    "\n",
    "name2 = 'abc'\n",
    "mobile_no2 = \"3232323232\""
   ]
  },
  {
   "cell_type": "markdown",
   "id": "32aa360f",
   "metadata": {},
   "source": [
    "## LIST"
   ]
  },
  {
   "cell_type": "code",
   "execution_count": 6,
   "id": "8cc2ce27",
   "metadata": {},
   "outputs": [],
   "source": [
    "names = []"
   ]
  },
  {
   "cell_type": "code",
   "execution_count": 7,
   "id": "3294ac25",
   "metadata": {},
   "outputs": [],
   "source": [
    "names.append('abc')"
   ]
  },
  {
   "cell_type": "code",
   "execution_count": 8,
   "id": "52e35acf",
   "metadata": {},
   "outputs": [
    {
     "name": "stdout",
     "output_type": "stream",
     "text": [
      "['abc']\n"
     ]
    }
   ],
   "source": [
    "print(names)"
   ]
  },
  {
   "cell_type": "code",
   "execution_count": 9,
   "id": "e286ada8",
   "metadata": {},
   "outputs": [],
   "source": [
    "a = [0,1,3,4, \"monal\", \"ashar\", \"heartine\", \"enjoy\", \"nikhil\"]"
   ]
  },
  {
   "cell_type": "code",
   "execution_count": 10,
   "id": "e6dbdcc6",
   "metadata": {},
   "outputs": [
    {
     "data": {
      "text/plain": [
       "9"
      ]
     },
     "execution_count": 10,
     "metadata": {},
     "output_type": "execute_result"
    }
   ],
   "source": [
    "len(a) # Total number of elements"
   ]
  },
  {
   "cell_type": "code",
   "execution_count": 11,
   "id": "949ea1a5",
   "metadata": {},
   "outputs": [
    {
     "data": {
      "text/plain": [
       "0"
      ]
     },
     "execution_count": 11,
     "metadata": {},
     "output_type": "execute_result"
    }
   ],
   "source": [
    "a[0]"
   ]
  },
  {
   "cell_type": "code",
   "execution_count": 12,
   "id": "b208ab66",
   "metadata": {},
   "outputs": [
    {
     "data": {
      "text/plain": [
       "'monal'"
      ]
     },
     "execution_count": 12,
     "metadata": {},
     "output_type": "execute_result"
    }
   ],
   "source": [
    "a[4]"
   ]
  },
  {
   "cell_type": "code",
   "execution_count": 13,
   "id": "cb30bade",
   "metadata": {},
   "outputs": [
    {
     "data": {
      "text/plain": [
       "9"
      ]
     },
     "execution_count": 13,
     "metadata": {},
     "output_type": "execute_result"
    }
   ],
   "source": [
    "len(a)"
   ]
  },
  {
   "cell_type": "code",
   "execution_count": 14,
   "id": "e1c1e5f4",
   "metadata": {},
   "outputs": [
    {
     "data": {
      "text/plain": [
       "'nikhil'"
      ]
     },
     "execution_count": 14,
     "metadata": {},
     "output_type": "execute_result"
    }
   ],
   "source": [
    "a[8]"
   ]
  },
  {
   "cell_type": "code",
   "execution_count": 15,
   "id": "53865a4d",
   "metadata": {},
   "outputs": [
    {
     "data": {
      "text/plain": [
       "'nikhil'"
      ]
     },
     "execution_count": 15,
     "metadata": {},
     "output_type": "execute_result"
    }
   ],
   "source": [
    "a[-1]"
   ]
  },
  {
   "cell_type": "code",
   "execution_count": 16,
   "metadata": {},
   "outputs": [
    {
     "data": {
      "text/plain": [
       "[0, 1, 3, 4, 'monal', 'ashar']"
      ]
     },
     "execution_count": 16,
     "metadata": {},
     "output_type": "execute_result"
    }
   ],
   "source": [
    "a[0:6]"
   ]
  },
  {
   "cell_type": "code",
   "execution_count": 17,
   "id": "8b7549a5",
   "metadata": {},
   "outputs": [
    {
     "data": {
      "text/plain": [
       "['ashar']"
      ]
     },
     "execution_count": 17,
     "metadata": {},
     "output_type": "execute_result"
    }
   ],
   "source": [
    "a[5:6]"
   ]
  },
  {
   "cell_type": "code",
   "execution_count": 18,
   "id": "48625b82",
   "metadata": {},
   "outputs": [
    {
     "data": {
      "text/plain": [
       "[]"
      ]
     },
     "execution_count": 18,
     "metadata": {},
     "output_type": "execute_result"
    }
   ],
   "source": [
    "a[-1:-3]"
   ]
  },
  {
   "cell_type": "code",
   "execution_count": 19,
   "id": "1cb2e2e4",
   "metadata": {},
   "outputs": [
    {
     "data": {
      "text/plain": [
       "['heartine', 'enjoy']"
      ]
     },
     "execution_count": 19,
     "metadata": {},
     "output_type": "execute_result"
    }
   ],
   "source": [
    "a[-3:-1]"
   ]
  },
  {
   "cell_type": "code",
   "execution_count": 20,
   "id": "000354da",
   "metadata": {},
   "outputs": [
    {
     "data": {
      "text/plain": [
       "[3, 4, 'monal', 'ashar', 'heartine', 'enjoy']"
      ]
     },
     "execution_count": 20,
     "metadata": {},
     "output_type": "execute_result"
    }
   ],
   "source": [
    "a[-7:-1]"
   ]
  },
  {
   "cell_type": "code",
   "execution_count": 21,
   "id": "ad2dbb22",
   "metadata": {},
   "outputs": [
    {
     "data": {
      "text/plain": [
       "[3, 4, 'monal', 'ashar', 'heartine', 'enjoy', 'nikhil']"
      ]
     },
     "execution_count": 21,
     "metadata": {},
     "output_type": "execute_result"
    }
   ],
   "source": [
    "a[-7:]"
   ]
  },
  {
   "cell_type": "code",
   "execution_count": 22,
   "id": "2688be02",
   "metadata": {},
   "outputs": [
    {
     "data": {
      "text/plain": [
       "[0, 1, 3, 4, 'monal', 'ashar', 'heartine', 'enjoy', 'nikhil']"
      ]
     },
     "execution_count": 22,
     "metadata": {},
     "output_type": "execute_result"
    }
   ],
   "source": [
    "a[0:]"
   ]
  },
  {
   "cell_type": "code",
   "execution_count": 23,
   "id": "4d9985d0",
   "metadata": {},
   "outputs": [
    {
     "data": {
      "text/plain": [
       "[0, 1, 3, 4, 'monal', 'ashar', 'heartine', 'enjoy']"
      ]
     },
     "execution_count": 23,
     "metadata": {},
     "output_type": "execute_result"
    }
   ],
   "source": [
    "a[0:-1]"
   ]
  },
  {
   "cell_type": "code",
   "execution_count": 24,
   "id": "2b66f6a8",
   "metadata": {},
   "outputs": [
    {
     "data": {
      "text/plain": [
       "9"
      ]
     },
     "execution_count": 24,
     "metadata": {},
     "output_type": "execute_result"
    }
   ],
   "source": [
    "len(a)"
   ]
  },
  {
   "cell_type": "code",
   "execution_count": 25,
   "id": "548f8f5d",
   "metadata": {},
   "outputs": [
    {
     "data": {
      "text/plain": [
       "[0, 1, 3, 4, 'monal', 'ashar', 'heartine', 'enjoy']"
      ]
     },
     "execution_count": 25,
     "metadata": {},
     "output_type": "execute_result"
    }
   ],
   "source": [
    "#a[start:total_number_of_elements]\n",
    "a[0:8]"
   ]
  },
  {
   "cell_type": "code",
   "execution_count": 26,
   "id": "03112afe",
   "metadata": {},
   "outputs": [
    {
     "data": {
      "text/plain": [
       "[0, 1, 3, 4, 'monal', 'ashar', 'heartine', 'enjoy', 'nikhil']"
      ]
     },
     "execution_count": 26,
     "metadata": {},
     "output_type": "execute_result"
    }
   ],
   "source": [
    "a[0:9]"
   ]
  },
  {
   "cell_type": "code",
   "execution_count": 27,
   "id": "48397d9a",
   "metadata": {},
   "outputs": [
    {
     "data": {
      "text/plain": [
       "[0, 1, 3, 4, 'monal', 'ashar', 'heartine', 'enjoy', 'nikhil']"
      ]
     },
     "execution_count": 27,
     "metadata": {},
     "output_type": "execute_result"
    }
   ],
   "source": [
    "a[0:]"
   ]
  },
  {
   "cell_type": "code",
   "execution_count": 28,
   "id": "3e4b250c",
   "metadata": {},
   "outputs": [
    {
     "data": {
      "text/plain": [
       "[0, 1, 3, 4, 'monal', 'ashar', 'heartine', 'enjoy', 'nikhil']"
      ]
     },
     "execution_count": 28,
     "metadata": {},
     "output_type": "execute_result"
    }
   ],
   "source": [
    "a[0:len(a)]"
   ]
  },
  {
   "cell_type": "code",
   "execution_count": 29,
   "id": "64b3de81",
   "metadata": {},
   "outputs": [
    {
     "data": {
      "text/plain": [
       "[0, 1, 3, 4, 'monal', 'ashar', 'heartine', 'enjoy', 'nikhil']"
      ]
     },
     "execution_count": 29,
     "metadata": {},
     "output_type": "execute_result"
    }
   ],
   "source": [
    "a[:]"
   ]
  },
  {
   "cell_type": "code",
   "execution_count": 30,
   "id": "653adb84",
   "metadata": {},
   "outputs": [],
   "source": [
    "names=[]\n",
    "places=[]"
   ]
  },
  {
   "cell_type": "code",
   "execution_count": 31,
   "id": "8bdda4d8",
   "metadata": {},
   "outputs": [],
   "source": [
    "name = input(\"Enter name : \")\n",
    "place = input(\"Enter place : \")\n",
    "\n",
    "names.append(name)\n",
    "places.append(place)"
   ]
  },
  {
   "cell_type": "code",
   "execution_count": 32,
   "id": "b6f47880",
   "metadata": {},
   "outputs": [
    {
     "name": "stdout",
     "output_type": "stream",
     "text": [
      "['trisha']\n",
      "['kashipur']\n"
     ]
    }
   ],
   "source": [
    "print(names)\n",
    "print(places)"
   ]
  },
  {
   "cell_type": "code",
   "execution_count": 33,
   "id": "ad51c73e",
   "metadata": {},
   "outputs": [
    {
     "name": "stdout",
     "output_type": "stream",
     "text": [
      "trisha\n",
      "kashipur\n"
     ]
    }
   ],
   "source": [
    "i = int(input(\"Enter the user id to the patient info : \"))\n",
    "print(names[i])\n",
    "print(places[i])"
   ]
  },
  {
   "cell_type": "code",
   "execution_count": 34,
   "id": "d5da7ad4",
   "metadata": {},
   "outputs": [
    {
     "ename": "TypeError",
     "evalue": "list indices must be integers or slices, not str",
     "output_type": "error",
     "traceback": [
      "\u001b[31m---------------------------------------------------------------------------\u001b[39m",
      "\u001b[31mTypeError\u001b[39m                                 Traceback (most recent call last)",
      "\u001b[36mCell\u001b[39m\u001b[36m \u001b[39m\u001b[32mIn[34]\u001b[39m\u001b[32m, line 1\u001b[39m\n\u001b[32m----> \u001b[39m\u001b[32m1\u001b[39m \u001b[43mnames\u001b[49m\u001b[43m[\u001b[49m\u001b[33;43m'\u001b[39;49m\u001b[33;43m0\u001b[39;49m\u001b[33;43m'\u001b[39;49m\u001b[43m]\u001b[49m\n",
      "\u001b[31mTypeError\u001b[39m: list indices must be integers or slices, not str"
     ]
    }
   ],
   "source": [
    "names['0']"
   ]
  },
  {
   "cell_type": "code",
   "execution_count": 1,
   "id": "008aa62e",
   "metadata": {},
   "outputs": [],
   "source": [
    "a = []"
   ]
  },
  {
   "cell_type": "code",
   "execution_count": 2,
   "id": "6ccbb8e2",
   "metadata": {},
   "outputs": [],
   "source": [
    "val = 1"
   ]
  },
  {
   "cell_type": "code",
   "execution_count": 4,
   "id": "5c471f71",
   "metadata": {},
   "outputs": [],
   "source": [
    "a.append(val)"
   ]
  },
  {
   "cell_type": "code",
   "execution_count": 5,
   "id": "117d0a1b",
   "metadata": {},
   "outputs": [
    {
     "name": "stdout",
     "output_type": "stream",
     "text": [
      "[1, 1]\n"
     ]
    }
   ],
   "source": [
    "print(a)"
   ]
  },
  {
   "cell_type": "code",
   "execution_count": 6,
   "id": "987c60b1",
   "metadata": {},
   "outputs": [],
   "source": [
    "a.append([1,2])"
   ]
  },
  {
   "cell_type": "code",
   "execution_count": 7,
   "id": "43b96be7",
   "metadata": {},
   "outputs": [
    {
     "name": "stdout",
     "output_type": "stream",
     "text": [
      "[1, 1, [1, 2]]\n"
     ]
    }
   ],
   "source": [
    "print(a)"
   ]
  },
  {
   "cell_type": "code",
   "execution_count": 8,
   "id": "9e5d9542",
   "metadata": {},
   "outputs": [
    {
     "data": {
      "text/plain": [
       "3"
      ]
     },
     "execution_count": 8,
     "metadata": {},
     "output_type": "execute_result"
    }
   ],
   "source": [
    "len(a)"
   ]
  },
  {
   "cell_type": "code",
   "execution_count": 9,
   "id": "56985f99",
   "metadata": {},
   "outputs": [
    {
     "data": {
      "text/plain": [
       "[1, 2]"
      ]
     },
     "execution_count": 9,
     "metadata": {},
     "output_type": "execute_result"
    }
   ],
   "source": [
    "a[2]\n",
    "# a[2] ---> [1,2]"
   ]
  },
  {
   "cell_type": "code",
   "execution_count": 10,
   "id": "c50a5e1d",
   "metadata": {},
   "outputs": [
    {
     "data": {
      "text/plain": [
       "2"
      ]
     },
     "execution_count": 10,
     "metadata": {},
     "output_type": "execute_result"
    }
   ],
   "source": [
    "a[2][1]"
   ]
  },
  {
   "cell_type": "code",
   "execution_count": 11,
   "id": "b92b827d",
   "metadata": {},
   "outputs": [
    {
     "data": {
      "text/plain": [
       "2"
      ]
     },
     "execution_count": 11,
     "metadata": {},
     "output_type": "execute_result"
    }
   ],
   "source": [
    "a = [1,2]\n",
    "len(a)"
   ]
  },
  {
   "cell_type": "code",
   "execution_count": 12,
   "id": "1cf5dc17",
   "metadata": {},
   "outputs": [
    {
     "data": {
      "text/plain": [
       "3"
      ]
     },
     "execution_count": 12,
     "metadata": {},
     "output_type": "execute_result"
    }
   ],
   "source": [
    "a = [1,2,[1,2]]\n",
    "len(a)"
   ]
  },
  {
   "cell_type": "code",
   "execution_count": 46,
   "id": "87ead128",
   "metadata": {},
   "outputs": [
    {
     "data": {
      "text/plain": [
       "1"
      ]
     },
     "execution_count": 46,
     "metadata": {},
     "output_type": "execute_result"
    }
   ],
   "source": [
    "a = [[1,2]]\n",
    "len(a)"
   ]
  },
  {
   "cell_type": "code",
   "execution_count": 47,
   "id": "b675edc4",
   "metadata": {},
   "outputs": [],
   "source": [
    "a = [[0,[0,1,2]]]"
   ]
  },
  {
   "cell_type": "code",
   "execution_count": 48,
   "id": "d693e4c6",
   "metadata": {},
   "outputs": [
    {
     "data": {
      "text/plain": [
       "[0, [0, 1, 2]]"
      ]
     },
     "execution_count": 48,
     "metadata": {},
     "output_type": "execute_result"
    }
   ],
   "source": [
    "a[0]"
   ]
  },
  {
   "cell_type": "code",
   "execution_count": 49,
   "id": "2d4cf356",
   "metadata": {},
   "outputs": [
    {
     "data": {
      "text/plain": [
       "[0, 1, 2]"
      ]
     },
     "execution_count": 49,
     "metadata": {},
     "output_type": "execute_result"
    }
   ],
   "source": [
    "a[0][1]"
   ]
  },
  {
   "cell_type": "code",
   "execution_count": 50,
   "id": "6e17e62a",
   "metadata": {},
   "outputs": [
    {
     "data": {
      "text/plain": [
       "2"
      ]
     },
     "execution_count": 50,
     "metadata": {},
     "output_type": "execute_result"
    }
   ],
   "source": [
    "a[0][1][2]"
   ]
  },
  {
   "cell_type": "code",
   "execution_count": 51,
   "id": "aa8b71d3",
   "metadata": {},
   "outputs": [
    {
     "ename": "NameError",
     "evalue": "name 'abc' is not defined",
     "output_type": "error",
     "traceback": [
      "\u001b[31m---------------------------------------------------------------------------\u001b[39m",
      "\u001b[31mNameError\u001b[39m                                 Traceback (most recent call last)",
      "\u001b[36mCell\u001b[39m\u001b[36m \u001b[39m\u001b[32mIn[51]\u001b[39m\u001b[32m, line 1\u001b[39m\n\u001b[32m----> \u001b[39m\u001b[32m1\u001b[39m a = [[\u001b[32m0\u001b[39m,[\u001b[32m0\u001b[39m,\u001b[32m1\u001b[39m,\u001b[32m2\u001b[39m]], \u001b[43mabc\u001b[49m]\n",
      "\u001b[31mNameError\u001b[39m: name 'abc' is not defined"
     ]
    }
   ],
   "source": [
    "a = [[0,[0,1,2]], abc]"
   ]
  },
  {
   "cell_type": "code",
   "execution_count": 52,
   "id": "9e1712f0",
   "metadata": {},
   "outputs": [],
   "source": [
    "a = [1,2]"
   ]
  },
  {
   "cell_type": "code",
   "execution_count": 53,
   "metadata": {},
   "outputs": [
    {
     "name": "stdout",
     "output_type": "stream",
     "text": [
      "<class 'int'>\n"
     ]
    }
   ],
   "source": [
    "a = int(input(\"enter details\"))\n",
    "print(type(a))"
   ]
  },
  {
   "cell_type": "code",
   "execution_count": 54,
   "id": "77f5c83d",
   "metadata": {},
   "outputs": [
    {
     "name": "stdout",
     "output_type": "stream",
     "text": [
      "<class 'list'>\n"
     ]
    }
   ],
   "source": [
    "a = list(input(\"enter details\"))\n",
    "print(type(a))"
   ]
  },
  {
   "cell_type": "code",
   "execution_count": 55,
   "id": "106973d9",
   "metadata": {},
   "outputs": [
    {
     "name": "stdout",
     "output_type": "stream",
     "text": [
      "['t', 'r', 'i', 's', 'h', 'a', ',', 'k', 'a', 's', 'h', 'p', 'i', 'u', 'r']\n"
     ]
    }
   ],
   "source": [
    "print(a)"
   ]
  },
  {
   "cell_type": "code",
   "execution_count": null,
   "id": "f2805719",
   "metadata": {},
   "outputs": [],
   "source": []
  }
 ],
 "metadata": {
  "kernelspec": {
   "display_name": "Python 3",
   "language": "python",
   "name": "python3"
  },
  "language_info": {
   "codemirror_mode": {
    "name": "ipython",
    "version": 3
   },
   "file_extension": ".py",
   "mimetype": "text/x-python",
   "name": "python",
   "nbconvert_exporter": "python",
   "pygments_lexer": "ipython3",
   "version": "3.12.0"
  }
 },
 "nbformat": 4,
 "nbformat_minor": 5
}
