{
 "cells": [
  {
   "cell_type": "markdown",
   "id": "ba4bf478",
   "metadata": {},
   "source": [
    "# Without Threading"
   ]
  },
  {
   "cell_type": "code",
   "execution_count": 1,
   "id": "3abe55fa",
   "metadata": {},
   "outputs": [],
   "source": [
    "import requests\n",
    "import time"
   ]
  },
  {
   "cell_type": "code",
   "execution_count": 2,
   "id": "816710f9",
   "metadata": {},
   "outputs": [],
   "source": [
    "url = \"https://raw.githubusercontent.com/Monalsingh/VideoBroadcaster/refs/heads/main/static/default-office-animated.png\""
   ]
  },
  {
   "cell_type": "code",
   "execution_count": null,
   "id": "c7ee1fcd",
   "metadata": {},
   "outputs": [],
   "source": [
    "def download_file(process_name, url, file_path):\n",
    "    try:\n",
    "        print(f\"Download process name started : {process_name}\")\n",
    "        response = requests.get(url)\n",
    "        with open(file_path, \"wb\") as file:\n",
    "            for chunk in response.iter_content(chunk_size=8192):\n",
    "                if chunk:\n",
    "                    file.write(chunk)\n",
    "        print(\"File downloaded successfully\")\n",
    "    except Exception as e :\n",
    "        print(f\"Error downloading file : {e}\")\n",
    "    print(f\"Process name completed : {process_name}\")"
   ]
  },
  {
   "cell_type": "code",
   "execution_count": 7,
   "id": "aa38c356",
   "metadata": {},
   "outputs": [
    {
     "name": "stdout",
     "output_type": "stream",
     "text": [
      "Download process name started : Download without thread 1\n",
      "File downloaded successfully\n",
      "Process name completed : Download without thread 1\n",
      "Download process name started : Download without thread 2\n",
      "File downloaded successfully\n",
      "Process name completed : Download without thread 2\n",
      "Download process name started : Download without thread 3\n",
      "File downloaded successfully\n",
      "Process name completed : Download without thread 3\n",
      "Time taken(seconds) : 27.168890476226807\n"
     ]
    }
   ],
   "source": [
    "t1 = time.time()\n",
    "download_file(\"Download without thread 1\", url, \"a.png\")\n",
    "download_file(\"Download without thread 2\", url, \"b.png\")\n",
    "download_file(\"Download without thread 3\", url, \"c.png\")\n",
    "t2 = time.time()\n",
    "print(f\"Time taken(seconds) : {t2-t1}\")"
   ]
  },
  {
   "cell_type": "markdown",
   "id": "7dc76d6e",
   "metadata": {},
   "source": [
    "# With Threading"
   ]
  },
  {
   "cell_type": "code",
   "execution_count": 20,
   "id": "46a8d284",
   "metadata": {},
   "outputs": [],
   "source": [
    "import threading"
   ]
  },
  {
   "cell_type": "code",
   "execution_count": 24,
   "id": "e126f2e2",
   "metadata": {},
   "outputs": [],
   "source": [
    "t1 = threading.Thread(target=download_file, args=(\"Download with thread 1\", url, \"a1.png\"))\n",
    "t2 = threading.Thread(target=download_file, args=(\"Download with thread 2\", url, \"b1.png\"))\n",
    "t3 = threading.Thread(target=download_file, args=(\"Download with thread 3\", url, \"c1.png\"))"
   ]
  },
  {
   "cell_type": "markdown",
   "id": "6e32ddde",
   "metadata": {},
   "source": [
    "# thread.start()"
   ]
  },
  {
   "cell_type": "code",
   "execution_count": 22,
   "id": "d9f92362",
   "metadata": {},
   "outputs": [
    {
     "name": "stdout",
     "output_type": "stream",
     "text": [
      "Download process name started : Download with thread 1\n",
      "Download process name started : Download with thread 2\n",
      "Download process name started : Download with thread 3\n",
      "Main program done!!\n",
      "Time taken(seconds) : 0.011528730392456055\n"
     ]
    },
    {
     "name": "stdout",
     "output_type": "stream",
     "text": [
      "File downloaded successfully\n",
      "Process name completed : Download with thread 3\n",
      "File downloaded successfully\n",
      "Process name completed : Download with thread 2\n",
      "File downloaded successfully\n",
      "Process name completed : Download with thread 1\n"
     ]
    }
   ],
   "source": [
    "t1_t = time.time()\n",
    "t1.start()\n",
    "t2.start()\n",
    "t3.start()\n",
    "print(\"Main program done!!\")\n",
    "t2_t = time.time()\n",
    "print(f\"Time taken(seconds) : {t2_t-t1_t}\")"
   ]
  },
  {
   "cell_type": "markdown",
   "id": "9f4ce9aa",
   "metadata": {},
   "source": [
    "# thread.join()"
   ]
  },
  {
   "cell_type": "code",
   "execution_count": 25,
   "id": "38297d22",
   "metadata": {},
   "outputs": [
    {
     "name": "stdout",
     "output_type": "stream",
     "text": [
      "Download process name started : Download with thread 1\n",
      "Download process name started : Download with thread 2\n",
      "Download process name started : Download with thread 3\n",
      "File downloaded successfully\n",
      "Process name completed : Download with thread 3\n",
      "File downloaded successfully\n",
      "Process name completed : Download with thread 1\n",
      "File downloaded successfully\n",
      "Process name completed : Download with thread 2\n",
      "Main program done!!\n",
      "Time taken(seconds) : 26.98562002182007\n"
     ]
    }
   ],
   "source": [
    "t1_t = time.time()\n",
    "t1.start()\n",
    "t2.start()\n",
    "t3.start()\n",
    "\n",
    "t1.join()\n",
    "t2.join()\n",
    "t3.join()\n",
    "\n",
    "print(\"Main program done!!\")\n",
    "t2_t = time.time()\n",
    "print(f\"Time taken(seconds) : {t2_t-t1_t}\")"
   ]
  }
 ],
 "metadata": {
  "kernelspec": {
   "display_name": "base",
   "language": "python",
   "name": "python3"
  },
  "language_info": {
   "codemirror_mode": {
    "name": "ipython",
    "version": 3
   },
   "file_extension": ".py",
   "mimetype": "text/x-python",
   "name": "python",
   "nbconvert_exporter": "python",
   "pygments_lexer": "ipython3",
   "version": "3.12.7"
  }
 },
 "nbformat": 4,
 "nbformat_minor": 5
}
