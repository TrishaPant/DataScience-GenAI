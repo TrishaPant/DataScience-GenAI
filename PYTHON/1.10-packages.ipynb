{
 "cells": [
  {
   "cell_type": "markdown",
   "id": "2cf25c68",
   "metadata": {},
   "source": [
    "# module"
   ]
  },
  {
   "cell_type": "code",
   "execution_count": 1,
   "id": "5295b6ec",
   "metadata": {},
   "outputs": [],
   "source": [
    "from dummy_test import print_hello"
   ]
  },
  {
   "cell_type": "code",
   "execution_count": 2,
   "id": "67bc9d3d",
   "metadata": {},
   "outputs": [
    {
     "name": "stdout",
     "output_type": "stream",
     "text": [
      "hello world\n"
     ]
    }
   ],
   "source": [
    "print_hello()"
   ]
  },
  {
   "cell_type": "markdown",
   "id": "978ade70",
   "metadata": {},
   "source": [
    "# Packages"
   ]
  },
  {
   "cell_type": "code",
   "execution_count": 3,
   "id": "b94ea3b9",
   "metadata": {},
   "outputs": [],
   "source": [
    "from hospital.checkup import print_checkup"
   ]
  },
  {
   "cell_type": "code",
   "execution_count": 4,
   "id": "5a0f843a",
   "metadata": {},
   "outputs": [
    {
     "name": "stdout",
     "output_type": "stream",
     "text": [
      "hello world,checkup\n"
     ]
    }
   ],
   "source": [
    "print_checkup()"
   ]
  },
  {
   "cell_type": "code",
   "execution_count": 5,
   "id": "21599160",
   "metadata": {},
   "outputs": [],
   "source": [
    "from hospital.admission.utils import add"
   ]
  },
  {
   "cell_type": "code",
   "execution_count": 6,
   "id": "8e098e3d",
   "metadata": {},
   "outputs": [
    {
     "data": {
      "text/plain": [
       "3"
      ]
     },
     "execution_count": 6,
     "metadata": {},
     "output_type": "execute_result"
    }
   ],
   "source": [
    "add(1,2)"
   ]
  },
  {
   "cell_type": "code",
   "execution_count": 7,
   "id": "7c6abe55",
   "metadata": {},
   "outputs": [],
   "source": [
    "from hospital.admission import utils"
   ]
  },
  {
   "cell_type": "code",
   "execution_count": 8,
   "id": "a241834d",
   "metadata": {},
   "outputs": [
    {
     "data": {
      "text/plain": [
       "3"
      ]
     },
     "execution_count": 8,
     "metadata": {},
     "output_type": "execute_result"
    }
   ],
   "source": [
    "utils.add(1,2)"
   ]
  },
  {
   "cell_type": "markdown",
   "id": "6055cc26",
   "metadata": {},
   "source": [
    "# OOPS\n",
    "- Inheritance"
   ]
  },
  {
   "cell_type": "code",
   "execution_count": 9,
   "id": "d0448419",
   "metadata": {},
   "outputs": [],
   "source": [
    "class Speciality():\n",
    "    def surgeon(self):\n",
    "        print(\"Surgeon Doctor.\")\n",
    "    def neuro(self):\n",
    "        print(\"Neuro Doctor.\")\n",
    "\n",
    "class GeneralHospital():\n",
    "    def opd(self):\n",
    "        print(\"General Medicine Doctors\")"
   ]
  },
  {
   "cell_type": "code",
   "execution_count": 10,
   "id": "0a5b00c4",
   "metadata": {},
   "outputs": [],
   "source": [
    "genhosp = GeneralHospital()"
   ]
  },
  {
   "cell_type": "code",
   "execution_count": 11,
   "id": "edcd2c20",
   "metadata": {},
   "outputs": [
    {
     "name": "stdout",
     "output_type": "stream",
     "text": [
      "General Medicine Doctors\n"
     ]
    }
   ],
   "source": [
    "genhosp.opd()"
   ]
  },
  {
   "cell_type": "code",
   "execution_count": 12,
   "id": "c054f995",
   "metadata": {},
   "outputs": [
    {
     "ename": "AttributeError",
     "evalue": "'GeneralHospital' object has no attribute 'surgeon'",
     "output_type": "error",
     "traceback": [
      "\u001b[1;31m---------------------------------------------------------------------------\u001b[0m",
      "\u001b[1;31mAttributeError\u001b[0m                            Traceback (most recent call last)",
      "Cell \u001b[1;32mIn[12], line 1\u001b[0m\n\u001b[1;32m----> 1\u001b[0m genhosp\u001b[38;5;241m.\u001b[39msurgeon()\n",
      "\u001b[1;31mAttributeError\u001b[0m: 'GeneralHospital' object has no attribute 'surgeon'"
     ]
    }
   ],
   "source": [
    "genhosp.surgeon()"
   ]
  },
  {
   "cell_type": "code",
   "execution_count": 13,
   "id": "cf7b9c90",
   "metadata": {},
   "outputs": [],
   "source": [
    "class Speciality():\n",
    "    def surgeon(self):\n",
    "        print(\"Surgeon Doctor.\")\n",
    "    def neuro(self):\n",
    "        print(\"Neuro Doctor.\")\n",
    "\n",
    "class GeneralHospital(Speciality):\n",
    "    def opd(self):\n",
    "        print(\"General Medicine Doctors\")"
   ]
  },
  {
   "cell_type": "code",
   "execution_count": 14,
   "id": "874fa3dd",
   "metadata": {},
   "outputs": [],
   "source": [
    "genhosp = GeneralHospital()"
   ]
  },
  {
   "cell_type": "code",
   "execution_count": 15,
   "id": "a7ac8e35",
   "metadata": {},
   "outputs": [
    {
     "name": "stdout",
     "output_type": "stream",
     "text": [
      "General Medicine Doctors\n"
     ]
    }
   ],
   "source": [
    "genhosp.opd()"
   ]
  },
  {
   "cell_type": "code",
   "execution_count": 16,
   "id": "3350880f",
   "metadata": {},
   "outputs": [
    {
     "name": "stdout",
     "output_type": "stream",
     "text": [
      "Surgeon Doctor.\n"
     ]
    }
   ],
   "source": [
    "genhosp.surgeon()"
   ]
  },
  {
   "cell_type": "code",
   "execution_count": 17,
   "id": "ff580353",
   "metadata": {},
   "outputs": [
    {
     "name": "stdout",
     "output_type": "stream",
     "text": [
      "Neuro Doctor.\n"
     ]
    }
   ],
   "source": [
    "genhosp.neuro()"
   ]
  },
  {
   "cell_type": "code",
   "execution_count": 27,
   "id": "5f4c91eb",
   "metadata": {},
   "outputs": [],
   "source": [
    "class Speciality():\n",
    "    def surgeon(self):\n",
    "        print(\"Surgeon Doctor.\")\n",
    "    def neuro(self):\n",
    "        print(\"Neuro Doctor.\")\n",
    "    def radiologist(self):\n",
    "        print(\"Neuro Doctor.\")\n",
    "\n",
    "class GeneralHospital():\n",
    "    def opd(self):\n",
    "        print(\"General Medicine Doctors\")\n",
    "\n",
    "\n",
    "class MegaHospital(GeneralHospital, Speciality):\n",
    "    def _print(self):\n",
    "        print(\"This is MegaHospital\")\n",
    "\n",
    "\n",
    "class MiniHospital(GeneralHospital):\n",
    "    def _print(self):\n",
    "        print(\"This is MiniHospital\")"
   ]
  },
  {
   "cell_type": "code",
   "execution_count": 28,
   "id": "8a158114",
   "metadata": {},
   "outputs": [],
   "source": [
    "mh = MegaHospital()"
   ]
  },
  {
   "cell_type": "code",
   "execution_count": 29,
   "id": "126f8d2e",
   "metadata": {},
   "outputs": [
    {
     "name": "stdout",
     "output_type": "stream",
     "text": [
      "This is MegaHospital\n"
     ]
    }
   ],
   "source": [
    "mh._print()"
   ]
  },
  {
   "cell_type": "code",
   "execution_count": 30,
   "id": "a6e13dda",
   "metadata": {},
   "outputs": [
    {
     "name": "stdout",
     "output_type": "stream",
     "text": [
      "General Medicine Doctors\n",
      "Neuro Doctor.\n",
      "Surgeon Doctor.\n"
     ]
    }
   ],
   "source": [
    "mh.opd()\n",
    "mh.neuro()\n",
    "mh.surgeon()"
   ]
  },
  {
   "cell_type": "markdown",
   "id": "8a683927",
   "metadata": {},
   "source": [
    "# Super keyword"
   ]
  },
  {
   "cell_type": "code",
   "execution_count": 31,
   "id": "e41b9a28",
   "metadata": {},
   "outputs": [],
   "source": [
    "# Task is to allot manager and their team size\n",
    "\n",
    "class Employee:\n",
    "    def __init__(self, name, senior_status):\n",
    "        self.name = name\n",
    "        self.seniority = senior_status\n",
    "        print(\"Employee Name: \",self.name,\" status : \",self.seniority)\n",
    "        \n",
    "\n",
    "class Manager(Employee):\n",
    "    def __init__(self, name, senior_status, team_size):\n",
    "        super().__init__(name, senior_status)\n",
    "        self.team_size = team_size\n",
    "\n",
    "    def show(self):\n",
    "        print(\"Manages \", self.team_size,\" people\")"
   ]
  },
  {
   "cell_type": "code",
   "execution_count": 32,
   "id": "b0ea0a8d",
   "metadata": {},
   "outputs": [
    {
     "name": "stdout",
     "output_type": "stream",
     "text": [
      "Employee Name:  Monal  status :  Senior\n"
     ]
    }
   ],
   "source": [
    "m = Manager(\"Monal\", \"Senior\", \"100\")"
   ]
  },
  {
   "cell_type": "code",
   "execution_count": 33,
   "id": "3d7fb500",
   "metadata": {},
   "outputs": [
    {
     "name": "stdout",
     "output_type": "stream",
     "text": [
      "Manages  100  people\n"
     ]
    }
   ],
   "source": [
    "m.show()"
   ]
  },
  {
   "cell_type": "markdown",
   "id": "2a32d4a0",
   "metadata": {},
   "source": [
    "# Polymorphism\n",
    "\n",
    "Same name, different behaviour"
   ]
  },
  {
   "cell_type": "code",
   "execution_count": 22,
   "id": "5e93bf1d",
   "metadata": {},
   "outputs": [
    {
     "data": {
      "text/plain": [
       "2"
      ]
     },
     "execution_count": 22,
     "metadata": {},
     "output_type": "execute_result"
    }
   ],
   "source": [
    "1+1"
   ]
  },
  {
   "cell_type": "code",
   "execution_count": 23,
   "id": "96812039",
   "metadata": {},
   "outputs": [
    {
     "data": {
      "text/plain": [
       "'11'"
      ]
     },
     "execution_count": 23,
     "metadata": {},
     "output_type": "execute_result"
    }
   ],
   "source": [
    "\"1\" + \"1\""
   ]
  },
  {
   "cell_type": "code",
   "execution_count": 34,
   "id": "72d1195a",
   "metadata": {},
   "outputs": [],
   "source": [
    "class TV:\n",
    "    def turn_on(self):\n",
    "        print(\"TV is now ON.\")\n",
    "\n",
    "class AC:\n",
    "    def turn_on(self):\n",
    "        print(\"AC is cooling the room.\")"
   ]
  },
  {
   "cell_type": "code",
   "execution_count": 35,
   "id": "1a052837",
   "metadata": {},
   "outputs": [],
   "source": [
    "tv = TV()\n",
    "ac = AC()"
   ]
  },
  {
   "cell_type": "code",
   "execution_count": 37,
   "id": "0abdc170",
   "metadata": {},
   "outputs": [],
   "source": [
    "def activate(ele_object):\n",
    "    ele_object.turn_on()"
   ]
  },
  {
   "cell_type": "code",
   "execution_count": 38,
   "id": "ef2e14d1",
   "metadata": {},
   "outputs": [
    {
     "name": "stdout",
     "output_type": "stream",
     "text": [
      "TV is now ON.\n"
     ]
    }
   ],
   "source": [
    "activate(tv)"
   ]
  },
  {
   "cell_type": "code",
   "execution_count": 39,
   "id": "d488b5d6",
   "metadata": {},
   "outputs": [
    {
     "name": "stdout",
     "output_type": "stream",
     "text": [
      "AC is cooling the room.\n"
     ]
    }
   ],
   "source": [
    "activate(ac)"
   ]
  },
  {
   "cell_type": "code",
   "execution_count": 40,
   "id": "9f75081e",
   "metadata": {},
   "outputs": [],
   "source": [
    "class TV1990:\n",
    "    def turn_on(self):\n",
    "        print(\"1990 TV is now ON.\")\n",
    "\n",
    "class TV2000:\n",
    "    def turn_on(self):\n",
    "        print(\"1990 TV is now ON.\")\n",
    "\n",
    "class TV2015(TV1990):\n",
    "    def turn_on(self):\n",
    "        print(\"Latest TV is now ON.\")"
   ]
  },
  {
   "cell_type": "code",
   "execution_count": 41,
   "id": "9358c082",
   "metadata": {},
   "outputs": [
    {
     "name": "stdout",
     "output_type": "stream",
     "text": [
      "1990 TV is now ON.\n",
      "1990 TV is now ON.\n",
      "Latest TV is now ON.\n"
     ]
    }
   ],
   "source": [
    "for tv in (TV1990(), TV2000(), TV2015()):\n",
    "    tv.turn_on()"
   ]
  },
  {
   "cell_type": "code",
   "execution_count": 42,
   "id": "90cdab3f",
   "metadata": {},
   "outputs": [],
   "source": [
    "class TV1990:\n",
    "    def turn_on(self):\n",
    "        print(\"turn on function\")\n",
    "\n",
    "    def screen(self):\n",
    "        print(\"black and white\")\n",
    "\n",
    "class TV2000(TV1990):\n",
    "    def screen(self):\n",
    "        print(\"Color\")"
   ]
  },
  {
   "cell_type": "code",
   "execution_count": 43,
   "id": "5d7c4529",
   "metadata": {},
   "outputs": [
    {
     "name": "stdout",
     "output_type": "stream",
     "text": [
      "turn on function\n"
     ]
    }
   ],
   "source": [
    "tv = TV2000()\n",
    "tv.turn_on()"
   ]
  },
  {
   "cell_type": "code",
   "execution_count": 44,
   "id": "84de52d0",
   "metadata": {},
   "outputs": [
    {
     "name": "stdout",
     "output_type": "stream",
     "text": [
      "Color\n"
     ]
    }
   ],
   "source": [
    "tv.screen()"
   ]
  },
  {
   "cell_type": "markdown",
   "id": "8edfb243",
   "metadata": {},
   "source": [
    "# Encapsulation"
   ]
  },
  {
   "cell_type": "code",
   "execution_count": 54,
   "id": "ab649b7a",
   "metadata": {},
   "outputs": [],
   "source": [
    "class Bank:\n",
    "    def __init__(self, id, password):\n",
    "        self.id = id\n",
    "        self.__password = password\n",
    "        self.amount = 0\n",
    "\n",
    "    def deposit(self, amount):\n",
    "        if amount>0:\n",
    "            self.amount+=amount\n",
    "\n",
    "    def __get_password(self):\n",
    "        return self.__password\n",
    "\n",
    "    def check_user_valid(self):\n",
    "        print(\"We are validating user \", self.id, \" and their password \", self.__password)\n",
    "\n",
    "    def get_balance(self):\n",
    "        print(\"Balance is : \", self.amount)"
   ]
  },
  {
   "cell_type": "code",
   "execution_count": 55,
   "id": "33b232f3",
   "metadata": {},
   "outputs": [],
   "source": [
    "monal_account = Bank(1, 1234567)"
   ]
  },
  {
   "cell_type": "code",
   "execution_count": 56,
   "id": "340e4725",
   "metadata": {},
   "outputs": [],
   "source": [
    "monal_account.deposit(10000)"
   ]
  },
  {
   "cell_type": "code",
   "execution_count": 57,
   "id": "ffbe3d67",
   "metadata": {},
   "outputs": [
    {
     "name": "stdout",
     "output_type": "stream",
     "text": [
      "Balance is :  10000\n"
     ]
    }
   ],
   "source": [
    "monal_account.get_balance()"
   ]
  },
  {
   "cell_type": "code",
   "execution_count": 58,
   "id": "4b468262",
   "metadata": {},
   "outputs": [
    {
     "ename": "AttributeError",
     "evalue": "'Bank' object has no attribute 'password'",
     "output_type": "error",
     "traceback": [
      "\u001b[1;31m---------------------------------------------------------------------------\u001b[0m",
      "\u001b[1;31mAttributeError\u001b[0m                            Traceback (most recent call last)",
      "Cell \u001b[1;32mIn[58], line 1\u001b[0m\n\u001b[1;32m----> 1\u001b[0m monal_account\u001b[38;5;241m.\u001b[39mpassword\n",
      "\u001b[1;31mAttributeError\u001b[0m: 'Bank' object has no attribute 'password'"
     ]
    }
   ],
   "source": [
    "monal_account.password"
   ]
  },
  {
   "cell_type": "code",
   "execution_count": 59,
   "id": "36807d6c",
   "metadata": {},
   "outputs": [
    {
     "ename": "AttributeError",
     "evalue": "'Bank' object has no attribute 'get_password'",
     "output_type": "error",
     "traceback": [
      "\u001b[1;31m---------------------------------------------------------------------------\u001b[0m",
      "\u001b[1;31mAttributeError\u001b[0m                            Traceback (most recent call last)",
      "Cell \u001b[1;32mIn[59], line 1\u001b[0m\n\u001b[1;32m----> 1\u001b[0m monal_account\u001b[38;5;241m.\u001b[39mget_password()\n",
      "\u001b[1;31mAttributeError\u001b[0m: 'Bank' object has no attribute 'get_password'"
     ]
    }
   ],
   "source": [
    "monal_account.get_password()"
   ]
  },
  {
   "cell_type": "code",
   "execution_count": 60,
   "id": "702db336",
   "metadata": {},
   "outputs": [
    {
     "ename": "AttributeError",
     "evalue": "'Bank' object has no attribute '__password'",
     "output_type": "error",
     "traceback": [
      "\u001b[1;31m---------------------------------------------------------------------------\u001b[0m",
      "\u001b[1;31mAttributeError\u001b[0m                            Traceback (most recent call last)",
      "Cell \u001b[1;32mIn[60], line 1\u001b[0m\n\u001b[1;32m----> 1\u001b[0m monal_account\u001b[38;5;241m.\u001b[39m__password\n",
      "\u001b[1;31mAttributeError\u001b[0m: 'Bank' object has no attribute '__password'"
     ]
    }
   ],
   "source": [
    "monal_account.__password"
   ]
  },
  {
   "cell_type": "code",
   "execution_count": 52,
   "id": "667b07f5",
   "metadata": {},
   "outputs": [
    {
     "name": "stdout",
     "output_type": "stream",
     "text": [
      "We are validating user  1  and their password  1234567\n"
     ]
    }
   ],
   "source": [
    "monal_account.check_user_valid()"
   ]
  },
  {
   "cell_type": "markdown",
   "id": "3682e080",
   "metadata": {},
   "source": [
    "# Abstraction"
   ]
  },
  {
   "cell_type": "code",
   "execution_count": 61,
   "id": "e039785f",
   "metadata": {},
   "outputs": [],
   "source": [
    "from abc import ABC, abstractmethod"
   ]
  },
  {
   "cell_type": "code",
   "execution_count": 62,
   "id": "940e8eba",
   "metadata": {},
   "outputs": [],
   "source": [
    "# Abstract Base Class\n",
    "class McDonalds(ABC):\n",
    "    \n",
    "    @abstractmethod\n",
    "    def mincapactity30(self):\n",
    "        pass\n",
    "    \n",
    "    @abstractmethod\n",
    "    def minparking10(self):\n",
    "        pass\n",
    "    \n",
    "    @abstractmethod\n",
    "    def minvegNonvegSections(self):\n",
    "        pass"
   ]
  },
  {
   "cell_type": "code",
   "execution_count": 63,
   "id": "5b949069",
   "metadata": {},
   "outputs": [],
   "source": [
    "class Monal(McDonalds):\n",
    "    def mincapactity30(self):\n",
    "        print(\"We have seating capacity of 40.\")\n",
    "    def minparking10(self):\n",
    "        print(\"We have maximum parking capacity of 400.\")\n",
    "    def minvegNonvegSections(self):\n",
    "        print(\"We prepare veg and non-veg seperately.\")\n",
    "    def newburger(self):\n",
    "        print(\"Hey!!, this is a new burger.\")"
   ]
  },
  {
   "cell_type": "code",
   "execution_count": 64,
   "id": "5703c67f",
   "metadata": {},
   "outputs": [],
   "source": [
    "mcd_new = Monal()"
   ]
  },
  {
   "cell_type": "code",
   "execution_count": 65,
   "id": "ff18e13e",
   "metadata": {},
   "outputs": [
    {
     "name": "stdout",
     "output_type": "stream",
     "text": [
      "Hey!!, this is a new burger.\n"
     ]
    }
   ],
   "source": [
    "mcd_new.newburger()"
   ]
  },
  {
   "cell_type": "markdown",
   "id": "49a6d625",
   "metadata": {},
   "source": [
    "# F-String"
   ]
  },
  {
   "cell_type": "markdown",
   "id": "a5a66d8d",
   "metadata": {},
   "source": [
    "### Task : To print 2 X 1 = 2"
   ]
  },
  {
   "cell_type": "code",
   "execution_count": 24,
   "id": "8b2f864a",
   "metadata": {},
   "outputs": [],
   "source": [
    "table_of = 2"
   ]
  },
  {
   "cell_type": "code",
   "execution_count": 25,
   "id": "bd998d80",
   "metadata": {},
   "outputs": [
    {
     "name": "stdout",
     "output_type": "stream",
     "text": [
      "2 X 1 = 2\n"
     ]
    }
   ],
   "source": [
    "test_string_1 = str(table_of) + \" X \" + str(1) + \" = \" + str(2)\n",
    "print(test_string_1)"
   ]
  },
  {
   "cell_type": "code",
   "execution_count": 26,
   "id": "38c4e529",
   "metadata": {},
   "outputs": [
    {
     "name": "stdout",
     "output_type": "stream",
     "text": [
      "2 X 1 = 2\n"
     ]
    }
   ],
   "source": [
    "test_string_2 = f\"{table_of} X 1 = 2\"\n",
    "print(test_string_2)"
   ]
  }
 ],
 "metadata": {
  "kernelspec": {
   "display_name": "base",
   "language": "python",
   "name": "python3"
  },
  "language_info": {
   "codemirror_mode": {
    "name": "ipython",
    "version": 3
   },
   "file_extension": ".py",
   "mimetype": "text/x-python",
   "name": "python",
   "nbconvert_exporter": "python",
   "pygments_lexer": "ipython3",
   "version": "3.12.7"
  }
 },
 "nbformat": 4,
 "nbformat_minor": 5
}
