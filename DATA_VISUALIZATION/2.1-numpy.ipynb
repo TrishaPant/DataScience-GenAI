{
 "cells": [
  {
   "cell_type": "markdown",
   "id": "5d2d643e",
   "metadata": {},
   "source": [
    "# Numpy"
   ]
  },
  {
   "cell_type": "code",
   "execution_count": 1,
   "id": "2780ac6e",
   "metadata": {},
   "outputs": [],
   "source": [
    "# !pip install numpy"
   ]
  },
  {
   "cell_type": "code",
   "execution_count": 2,
   "id": "555006ff",
   "metadata": {},
   "outputs": [],
   "source": [
    "import numpy as np\n",
    "import time"
   ]
  },
  {
   "cell_type": "code",
   "execution_count": null,
   "id": "de8275d7",
   "metadata": {},
   "outputs": [
    {
     "name": "stdout",
     "output_type": "stream",
     "text": [
      "Time taken : 170.3202612400055\n"
     ]
    }
   ],
   "source": [
    "a = list(range(100000000))\n",
    "b = list(range(100000000))\n",
    "\n",
    "start_t = time.time()\n",
    "c = [x+y for x,y in zip(a,b)]\n",
    "end_t = time.time()\n",
    "time_taken_p = end_t-start_t\n",
    "print(f\"Time taken : {time_taken_p}\")"
   ]
  },
  {
   "cell_type": "code",
   "execution_count": 4,
   "id": "3da5654a",
   "metadata": {},
   "outputs": [
    {
     "name": "stdout",
     "output_type": "stream",
     "text": [
      "Time taken : 42.16113352775574\n"
     ]
    }
   ],
   "source": [
    "a = list(range(100000000))\n",
    "b = list(range(100000000))\n",
    "a = np.array(a)\n",
    "b = np.array(b)\n",
    "\n",
    "start_t = time.time()\n",
    "c = a + b\n",
    "end_t = time.time()\n",
    "time_taken_n = end_t-start_t\n",
    "print(f\"Time taken : {time_taken_n}\")"
   ]
  },
  {
   "cell_type": "code",
   "execution_count": 5,
   "metadata": {},
   "outputs": [
    {
     "data": {
      "text/plain": [
       "4.039745779792172"
      ]
     },
     "execution_count": 5,
     "metadata": {},
     "output_type": "execute_result"
    }
   ],
   "source": [
    "time_taken_p/time_taken_n"
   ]
  },
  {
   "cell_type": "markdown",
   "id": "840edfa3",
   "metadata": {},
   "source": [
    "# 1. np.array()"
   ]
  },
  {
   "cell_type": "code",
   "execution_count": 6,
   "id": "9545cec3",
   "metadata": {},
   "outputs": [],
   "source": [
    "array_n1 = np.array([1,2,3])"
   ]
  },
  {
   "cell_type": "code",
   "execution_count": 7,
   "id": "c2ac527d",
   "metadata": {},
   "outputs": [
    {
     "name": "stdout",
     "output_type": "stream",
     "text": [
      "[1 2 3]\n",
      "<class 'numpy.ndarray'>\n",
      "<class 'numpy.int32'>\n"
     ]
    }
   ],
   "source": [
    "print(array_n1)\n",
    "print(type(array_n1))\n",
    "print(type(array_n1[0]))"
   ]
  },
  {
   "cell_type": "code",
   "execution_count": 8,
   "id": "b94a18af",
   "metadata": {},
   "outputs": [
    {
     "name": "stdout",
     "output_type": "stream",
     "text": [
      "<class 'numpy.ndarray'>\n",
      "<class 'numpy.int8'>\n"
     ]
    }
   ],
   "source": [
    "array_n2 = np.array([1,2,3], dtype=np.int8)\n",
    "print(type(array_n2))\n",
    "print(type(array_n2[0]))"
   ]
  },
  {
   "cell_type": "code",
   "execution_count": 9,
   "id": "3fdd5253",
   "metadata": {},
   "outputs": [
    {
     "name": "stdout",
     "output_type": "stream",
     "text": [
      "[1 2 3]\n",
      "<class 'numpy.ndarray'>\n",
      "<class 'numpy.int8'>\n"
     ]
    }
   ],
   "source": [
    "array_n2 = np.array([1,2,\"3\"], dtype=np.int8)\n",
    "print(array_n2)\n",
    "print(type(array_n2))\n",
    "print(type(array_n2[0]))"
   ]
  },
  {
   "cell_type": "code",
   "execution_count": 10,
   "id": "1b4a8e48",
   "metadata": {},
   "outputs": [
    {
     "name": "stdout",
     "output_type": "stream",
     "text": [
      "[1. 2. 3.]\n",
      "<class 'numpy.ndarray'>\n",
      "<class 'numpy.float16'>\n"
     ]
    }
   ],
   "source": [
    "array_n2 = np.array([1,2,\"3\"], dtype=np.float16)\n",
    "print(array_n2)\n",
    "print(type(array_n2))\n",
    "print(type(array_n2[2]))"
   ]
  },
  {
   "cell_type": "markdown",
   "id": "803aeb7d",
   "metadata": {},
   "source": [
    "# 2. np.arange(start, stop, step)"
   ]
  },
  {
   "cell_type": "code",
   "execution_count": 11,
   "id": "2f08171c",
   "metadata": {},
   "outputs": [
    {
     "name": "stdout",
     "output_type": "stream",
     "text": [
      "[0 1 2 3 4]\n",
      "[1 3 5 7 9]\n",
      "<class 'numpy.ndarray'>\n"
     ]
    }
   ],
   "source": [
    "print(np.arange(5))\n",
    "\n",
    "print(np.arange(1, 10, 2))\n",
    "\n",
    "np_arange = np.arange(1, 10, 2)\n",
    "print(type(np_arange))"
   ]
  },
  {
   "cell_type": "markdown",
   "id": "69797de6",
   "metadata": {},
   "source": [
    "# np.linspace(start, stop, num=x)"
   ]
  },
  {
   "cell_type": "code",
   "execution_count": 14,
   "id": "949e0982",
   "metadata": {},
   "outputs": [
    {
     "name": "stdout",
     "output_type": "stream",
     "text": [
      "[  1.  34.  67. 100.]\n",
      "<class 'numpy.ndarray'>\n"
     ]
    }
   ],
   "source": [
    "np_linspace = np.linspace(1,100,4)\n",
    "print(np_linspace)\n",
    "print(type(np_linspace))"
   ]
  },
  {
   "cell_type": "code",
   "execution_count": 13,
   "id": "f1adf45f",
   "metadata": {},
   "outputs": [
    {
     "name": "stdout",
     "output_type": "stream",
     "text": [
      "1.0\n",
      "2.0\n",
      "3.0\n",
      "4.0\n",
      "5.0\n",
      "6.0\n",
      "7.0\n",
      "8.0\n",
      "9.0\n",
      "10.0\n"
     ]
    }
   ],
   "source": [
    "for i in np.linspace(1,10,10):\n",
    "    print(i)"
   ]
  },
  {
   "cell_type": "markdown",
   "id": "85d42045",
   "metadata": {},
   "source": [
    "# np.zeros(shape)"
   ]
  },
  {
   "cell_type": "code",
   "execution_count": 15,
   "id": "557b2faa",
   "metadata": {},
   "outputs": [],
   "source": [
    "npz_1 = np.zeros(5)"
   ]
  },
  {
   "cell_type": "code",
   "execution_count": 18,
   "id": "6cb35e41",
   "metadata": {},
   "outputs": [
    {
     "data": {
      "text/plain": [
       "1"
      ]
     },
     "execution_count": 18,
     "metadata": {},
     "output_type": "execute_result"
    }
   ],
   "source": [
    "npz_1.ndim"
   ]
  },
  {
   "cell_type": "code",
   "execution_count": 19,
   "id": "797648c2",
   "metadata": {},
   "outputs": [
    {
     "name": "stdout",
     "output_type": "stream",
     "text": [
      "[[0. 0. 0. 0. 0.]\n",
      " [0. 0. 0. 0. 0.]\n",
      " [0. 0. 0. 0. 0.]\n",
      " [0. 0. 0. 0. 0.]\n",
      " [0. 0. 0. 0. 0.]]\n"
     ]
    }
   ],
   "source": [
    "npz_2 = np.zeros((5,5))\n",
    "print(npz_2)"
   ]
  },
  {
   "cell_type": "code",
   "execution_count": 20,
   "id": "c16be5e5",
   "metadata": {},
   "outputs": [
    {
     "data": {
      "text/plain": [
       "2"
      ]
     },
     "execution_count": 20,
     "metadata": {},
     "output_type": "execute_result"
    }
   ],
   "source": [
    "npz_2.ndim"
   ]
  },
  {
   "cell_type": "code",
   "execution_count": 21,
   "id": "6c0ac11c",
   "metadata": {},
   "outputs": [
    {
     "name": "stdout",
     "output_type": "stream",
     "text": [
      "[[[0. 0. 0. 0. 0.]\n",
      "  [0. 0. 0. 0. 0.]\n",
      "  [0. 0. 0. 0. 0.]\n",
      "  [0. 0. 0. 0. 0.]\n",
      "  [0. 0. 0. 0. 0.]]\n",
      "\n",
      " [[0. 0. 0. 0. 0.]\n",
      "  [0. 0. 0. 0. 0.]\n",
      "  [0. 0. 0. 0. 0.]\n",
      "  [0. 0. 0. 0. 0.]\n",
      "  [0. 0. 0. 0. 0.]]\n",
      "\n",
      " [[0. 0. 0. 0. 0.]\n",
      "  [0. 0. 0. 0. 0.]\n",
      "  [0. 0. 0. 0. 0.]\n",
      "  [0. 0. 0. 0. 0.]\n",
      "  [0. 0. 0. 0. 0.]]\n",
      "\n",
      " [[0. 0. 0. 0. 0.]\n",
      "  [0. 0. 0. 0. 0.]\n",
      "  [0. 0. 0. 0. 0.]\n",
      "  [0. 0. 0. 0. 0.]\n",
      "  [0. 0. 0. 0. 0.]]\n",
      "\n",
      " [[0. 0. 0. 0. 0.]\n",
      "  [0. 0. 0. 0. 0.]\n",
      "  [0. 0. 0. 0. 0.]\n",
      "  [0. 0. 0. 0. 0.]\n",
      "  [0. 0. 0. 0. 0.]]]\n"
     ]
    }
   ],
   "source": [
    "npz_3 = np.zeros((5,5,5))\n",
    "print(npz_3)"
   ]
  },
  {
   "cell_type": "code",
   "execution_count": 22,
   "id": "68f8aaba",
   "metadata": {},
   "outputs": [
    {
     "data": {
      "text/plain": [
       "3"
      ]
     },
     "execution_count": 22,
     "metadata": {},
     "output_type": "execute_result"
    }
   ],
   "source": [
    "npz_3.ndim"
   ]
  }
 ],
 "metadata": {
  "kernelspec": {
   "display_name": "base",
   "language": "python",
   "name": "python3"
  },
  "language_info": {
   "codemirror_mode": {
    "name": "ipython",
    "version": 3
   },
   "file_extension": ".py",
   "mimetype": "text/x-python",
   "name": "python",
   "nbconvert_exporter": "python",
   "pygments_lexer": "ipython3",
   "version": "3.12.7"
  }
 },
 "nbformat": 4,
 "nbformat_minor": 5
}
