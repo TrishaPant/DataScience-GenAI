{
 "cells": [
  {
   "cell_type": "markdown",
   "id": "44ca46f5",
   "metadata": {},
   "source": [
    "# numpy math operations"
   ]
  },
  {
   "cell_type": "code",
   "execution_count": 3,
   "id": "f4603ec2",
   "metadata": {},
   "outputs": [
    {
     "data": {
      "text/plain": [
       "[1, 2, 3, 4, 5, 6]"
      ]
     },
     "execution_count": 3,
     "metadata": {},
     "output_type": "execute_result"
    }
   ],
   "source": [
    "a = [1,2,3]\n",
    "b = [4,5,6]\n",
    "\n",
    "a + b"
   ]
  },
  {
   "cell_type": "code",
   "execution_count": 16,
   "id": "0a2b31df",
   "metadata": {},
   "outputs": [],
   "source": [
    "import numpy as np"
   ]
  },
  {
   "cell_type": "code",
   "execution_count": 5,
   "id": "55db56be",
   "metadata": {},
   "outputs": [],
   "source": [
    "a = np.array([1, 2, 3])\n",
    "b = np.array([4, 5, 6])"
   ]
  },
  {
   "cell_type": "code",
   "execution_count": 6,
   "id": "d694ce69",
   "metadata": {},
   "outputs": [
    {
     "name": "stdout",
     "output_type": "stream",
     "text": [
      "<class 'numpy.ndarray'>\n"
     ]
    }
   ],
   "source": [
    "print(type(a + b))"
   ]
  },
  {
   "cell_type": "code",
   "execution_count": 7,
   "id": "3fdd5fcf",
   "metadata": {},
   "outputs": [
    {
     "name": "stdout",
     "output_type": "stream",
     "text": [
      "[5 7 9]\n"
     ]
    }
   ],
   "source": [
    "print(a + b)"
   ]
  },
  {
   "cell_type": "code",
   "execution_count": 8,
   "id": "7b89cf51",
   "metadata": {},
   "outputs": [
    {
     "name": "stdout",
     "output_type": "stream",
     "text": [
      "[-3 -3 -3]\n",
      "[ 4 10 18]\n",
      "[0.25 0.4  0.5 ]\n"
     ]
    }
   ],
   "source": [
    "print(a-b)\n",
    "print(a*b)\n",
    "print(a/b)"
   ]
  },
  {
   "cell_type": "code",
   "execution_count": 9,
   "id": "eac6a827",
   "metadata": {},
   "outputs": [
    {
     "name": "stdout",
     "output_type": "stream",
     "text": [
      "[False False False]\n",
      "[ True  True  True]\n",
      "[False False False]\n"
     ]
    }
   ],
   "source": [
    "# comparison\n",
    "\n",
    "print(a > b)\n",
    "print(a < b)\n",
    "print(a == b)"
   ]
  },
  {
   "cell_type": "code",
   "execution_count": 10,
   "id": "5cd578a5",
   "metadata": {},
   "outputs": [
    {
     "name": "stdout",
     "output_type": "stream",
     "text": [
      "<class 'numpy.bool_'>\n"
     ]
    }
   ],
   "source": [
    "ans = a > b\n",
    "print(type(ans[0]))"
   ]
  },
  {
   "cell_type": "code",
   "execution_count": 11,
   "id": "d9448bb3",
   "metadata": {},
   "outputs": [
    {
     "name": "stdout",
     "output_type": "stream",
     "text": [
      "[False False  True]\n",
      "[ True False  True]\n",
      "[False  True False]\n"
     ]
    }
   ],
   "source": [
    "# logical operators\n",
    "\n",
    "# and , or , not\n",
    "\n",
    "x = np.array([True, False, True])\n",
    "y = np.array([False, False, True])\n",
    "\n",
    "print(np.logical_and(x, y))\n",
    "print(np.logical_or(x, y))\n",
    "print(np.logical_not(x))"
   ]
  },
  {
   "cell_type": "code",
   "execution_count": 12,
   "id": "bc458a39",
   "metadata": {},
   "outputs": [
    {
     "name": "stdout",
     "output_type": "stream",
     "text": [
      "[0 0 1]\n",
      "[1 3 3]\n"
     ]
    }
   ],
   "source": [
    "# biwsise operators\n",
    "\n",
    "a = np.array([1, 2, 3])\n",
    "b = np.array([0, 1, 1])\n",
    "\n",
    "print(np.bitwise_and(a,b))\n",
    "print(np.bitwise_or(a,b))"
   ]
  },
  {
   "cell_type": "code",
   "execution_count": 13,
   "id": "e9ef2321",
   "metadata": {},
   "outputs": [
    {
     "name": "stdout",
     "output_type": "stream",
     "text": [
      "[1 6 2]\n",
      "[      1000 1280000000     810000]\n"
     ]
    }
   ],
   "source": [
    "# modulus and power\n",
    "\n",
    "a = np.array([10, 20, 30])\n",
    "b = np.array([3, 7, 4])\n",
    "\n",
    "print(np.mod(a, b))\n",
    "print(np.power(a, b))"
   ]
  },
  {
   "cell_type": "markdown",
   "id": "75d86e71",
   "metadata": {},
   "source": [
    "# scalar operations"
   ]
  },
  {
   "cell_type": "code",
   "execution_count": 14,
   "id": "062e2e78",
   "metadata": {},
   "outputs": [
    {
     "name": "stdout",
     "output_type": "stream",
     "text": [
      "[32. 50. 68. 86.]\n"
     ]
    }
   ],
   "source": [
    "celcius = np.array([0, 10, 20, 30])\n",
    "# to_farenheit = np.array([33.8, 33.8, 33.8, 33.8]) # broadcasting\n",
    "print(celcius * 9 / 5 + 32)"
   ]
  },
  {
   "cell_type": "code",
   "execution_count": 15,
   "id": "d175d66e",
   "metadata": {},
   "outputs": [
    {
     "ename": "TypeError",
     "evalue": "unsupported operand type(s) for /: 'list' and 'int'",
     "output_type": "error",
     "traceback": [
      "\u001b[1;31m---------------------------------------------------------------------------\u001b[0m",
      "\u001b[1;31mTypeError\u001b[0m                                 Traceback (most recent call last)",
      "Cell \u001b[1;32mIn[15], line 3\u001b[0m\n\u001b[0;32m      1\u001b[0m \u001b[38;5;66;03m# in python\u001b[39;00m\n\u001b[0;32m      2\u001b[0m celsius \u001b[38;5;241m=\u001b[39m [\u001b[38;5;241m0\u001b[39m, \u001b[38;5;241m10\u001b[39m, \u001b[38;5;241m20\u001b[39m, \u001b[38;5;241m30\u001b[39m]\n\u001b[1;32m----> 3\u001b[0m fahrenheit \u001b[38;5;241m=\u001b[39m celsius \u001b[38;5;241m*\u001b[39m \u001b[38;5;241m9\u001b[39m \u001b[38;5;241m/\u001b[39m \u001b[38;5;241m5\u001b[39m \u001b[38;5;241m+\u001b[39m \u001b[38;5;241m32\u001b[39m\n\u001b[0;32m      4\u001b[0m \u001b[38;5;28mprint\u001b[39m(fahrenheit)\n",
      "\u001b[1;31mTypeError\u001b[0m: unsupported operand type(s) for /: 'list' and 'int'"
     ]
    }
   ],
   "source": [
    "# in python\n",
    "celsius = [0, 10, 20, 30]\n",
    "fahrenheit = celsius * 9 / 5 + 32\n",
    "print(fahrenheit)"
   ]
  },
  {
   "cell_type": "markdown",
   "id": "722727b4",
   "metadata": {},
   "source": [
    "# Common maths functions"
   ]
  },
  {
   "cell_type": "code",
   "execution_count": 17,
   "id": "b7af0520",
   "metadata": {},
   "outputs": [
    {
     "name": "stdout",
     "output_type": "stream",
     "text": [
      "[1.         1.41421356 1.73205081 2.        ]\n",
      "[ 2.71828183  7.3890561  20.08553692 54.59815003]\n",
      "[0.         0.69314718 1.09861229 1.38629436]\n",
      "[ 0.84147098  0.90929743  0.14112001 -0.7568025 ]\n"
     ]
    }
   ],
   "source": [
    "a = np.array([1, 2, 3, 4])\n",
    "\n",
    "print(np.sqrt(a))\n",
    "print(np.exp(a)) # e^1, e^2, where e = 2.718, pi = 3.14\n",
    "print(np.log(a))\n",
    "print(np.sin(a))"
   ]
  },
  {
   "cell_type": "code",
   "execution_count": 18,
   "id": "65fb37b0",
   "metadata": {},
   "outputs": [
    {
     "name": "stdout",
     "output_type": "stream",
     "text": [
      "[0.26894142 0.5        0.73105858]\n"
     ]
    }
   ],
   "source": [
    "# machine learning\n",
    "# activation function\n",
    "\n",
    "# sigmoid\n",
    "\n",
    "\n",
    "x = np.array([-1, 0, 1])\n",
    "sigmoid = 1 / (1 + np.exp(-x))\n",
    "print(sigmoid)"
   ]
  },
  {
   "cell_type": "code",
   "execution_count": 19,
   "id": "f8aa01a9",
   "metadata": {},
   "outputs": [],
   "source": [
    "# Aggregation functions"
   ]
  },
  {
   "cell_type": "code",
   "execution_count": 20,
   "id": "46e509cb",
   "metadata": {},
   "outputs": [],
   "source": [
    "a = np.array([[1, 2, 3],\n",
    "              [4, 5, 6]])"
   ]
  },
  {
   "cell_type": "code",
   "execution_count": 21,
   "id": "7c7b89fc",
   "metadata": {},
   "outputs": [
    {
     "name": "stdout",
     "output_type": "stream",
     "text": [
      "21\n"
     ]
    }
   ],
   "source": [
    "print(np.sum(a))"
   ]
  },
  {
   "cell_type": "code",
   "execution_count": 22,
   "id": "59c6aaec",
   "metadata": {},
   "outputs": [
    {
     "name": "stdout",
     "output_type": "stream",
     "text": [
      "[5 7 9]\n",
      "[ 6 15]\n"
     ]
    }
   ],
   "source": [
    "print(np.sum(a, axis=0))\n",
    "# across all rows, fix the column\n",
    "print(np.sum(a, axis=1))\n",
    "# across all columns, fix the row"
   ]
  },
  {
   "cell_type": "code",
   "execution_count": 23,
   "id": "7d4c511e",
   "metadata": {},
   "outputs": [
    {
     "name": "stdout",
     "output_type": "stream",
     "text": [
      "21\n",
      "3.5\n",
      "1.707825127659933\n",
      "1\n",
      "6\n"
     ]
    }
   ],
   "source": [
    "print(np.sum(a))\n",
    "print(np.mean(a)) # average\n",
    "print(np.std(a))\n",
    "print(np.min(a))\n",
    "print(np.max(a))"
   ]
  },
  {
   "cell_type": "markdown",
   "id": "989b5339",
   "metadata": {},
   "source": [
    "# matrix operation"
   ]
  },
  {
   "cell_type": "code",
   "execution_count": 24,
   "id": "4d7d8164",
   "metadata": {},
   "outputs": [],
   "source": [
    "# element-wise multiplication"
   ]
  },
  {
   "cell_type": "code",
   "execution_count": 25,
   "id": "90c3c7e1",
   "metadata": {},
   "outputs": [],
   "source": [
    "units = np.array([100, 200, 150])\n",
    "profit = np.array([10, 20, 30])"
   ]
  },
  {
   "cell_type": "code",
   "execution_count": 26,
   "id": "5677cd73",
   "metadata": {},
   "outputs": [
    {
     "data": {
      "text/plain": [
       "array([1000, 4000, 4500])"
      ]
     },
     "execution_count": 26,
     "metadata": {},
     "output_type": "execute_result"
    }
   ],
   "source": [
    "units * profit"
   ]
  },
  {
   "cell_type": "markdown",
   "id": "d546a09c",
   "metadata": {},
   "source": [
    "# Dot product"
   ]
  },
  {
   "cell_type": "code",
   "execution_count": 27,
   "id": "5ffa92b8",
   "metadata": {},
   "outputs": [],
   "source": [
    "# sqft\n",
    "# bedroom\n",
    "# location 1 G, 0 B"
   ]
  },
  {
   "cell_type": "code",
   "execution_count": 28,
   "id": "968c4027",
   "metadata": {},
   "outputs": [],
   "source": [
    "house = np.array([[1200, 3, 1],\n",
    "                  [1200, 3, 0],\n",
    "                  [1000, 3, 0],\n",
    "                  [1000, 1, 1]])"
   ]
  },
  {
   "cell_type": "code",
   "execution_count": 29,
   "id": "dcee36b6",
   "metadata": {},
   "outputs": [],
   "source": [
    "w = np.array([200, 10000, 50000])"
   ]
  },
  {
   "cell_type": "code",
   "execution_count": 30,
   "id": "03eda28c",
   "metadata": {},
   "outputs": [
    {
     "name": "stdout",
     "output_type": "stream",
     "text": [
      "(4, 3)\n",
      "(3,)\n"
     ]
    }
   ],
   "source": [
    "print(house.shape)\n",
    "print(w.shape)"
   ]
  },
  {
   "cell_type": "code",
   "execution_count": 31,
   "id": "437834bb",
   "metadata": {},
   "outputs": [
    {
     "name": "stdout",
     "output_type": "stream",
     "text": [
      "[320000 270000 230000 260000]\n"
     ]
    }
   ],
   "source": [
    "print(np.dot(house, w))"
   ]
  },
  {
   "cell_type": "code",
   "execution_count": 32,
   "id": "a57936fb",
   "metadata": {},
   "outputs": [
    {
     "name": "stdout",
     "output_type": "stream",
     "text": [
      "[320000 270000 230000 260000]\n"
     ]
    }
   ],
   "source": [
    "print(np.sum(house * w, axis=1)) # multiplication + sum"
   ]
  },
  {
   "cell_type": "code",
   "execution_count": 33,
   "id": "0992b4ab",
   "metadata": {},
   "outputs": [],
   "source": [
    "A = np.array([[1, 2, 3, 4], [1, 2, 3, 4]])\n",
    "B = np.array([[1, 2, 3, 4], [1, 2, 3, 4]])"
   ]
  },
  {
   "cell_type": "code",
   "execution_count": 34,
   "id": "28be6317",
   "metadata": {},
   "outputs": [
    {
     "name": "stdout",
     "output_type": "stream",
     "text": [
      "(2, 4)\n",
      "(2, 4)\n"
     ]
    }
   ],
   "source": [
    "print(A.shape)\n",
    "print(B.shape)"
   ]
  },
  {
   "cell_type": "code",
   "execution_count": 35,
   "id": "9a4573f9",
   "metadata": {},
   "outputs": [
    {
     "ename": "ValueError",
     "evalue": "shapes (2,4) and (2,4) not aligned: 4 (dim 1) != 2 (dim 0)",
     "output_type": "error",
     "traceback": [
      "\u001b[1;31m---------------------------------------------------------------------------\u001b[0m",
      "\u001b[1;31mValueError\u001b[0m                                Traceback (most recent call last)",
      "Cell \u001b[1;32mIn[35], line 1\u001b[0m\n\u001b[1;32m----> 1\u001b[0m \u001b[38;5;28mprint\u001b[39m(np\u001b[38;5;241m.\u001b[39mdot(A, B))\n",
      "\u001b[1;31mValueError\u001b[0m: shapes (2,4) and (2,4) not aligned: 4 (dim 1) != 2 (dim 0)"
     ]
    }
   ],
   "source": [
    "print(np.dot(A, B))"
   ]
  },
  {
   "cell_type": "code",
   "execution_count": 36,
   "id": "b7069645",
   "metadata": {},
   "outputs": [
    {
     "name": "stdout",
     "output_type": "stream",
     "text": [
      "[[30 30]\n",
      " [30 30]]\n"
     ]
    }
   ],
   "source": [
    "print(np.dot(A, B.T))"
   ]
  },
  {
   "cell_type": "code",
   "execution_count": 37,
   "id": "bdbdc3d8",
   "metadata": {},
   "outputs": [
    {
     "name": "stdout",
     "output_type": "stream",
     "text": [
      "[[30 30]\n",
      " [30 30]]\n"
     ]
    }
   ],
   "source": [
    "print(A @ B.T)"
   ]
  },
  {
   "cell_type": "markdown",
   "id": "24ea85d1",
   "metadata": {},
   "source": [
    "# broadcasting"
   ]
  },
  {
   "cell_type": "code",
   "execution_count": 38,
   "id": "a4974c9b",
   "metadata": {},
   "outputs": [],
   "source": [
    "a = np.array([1, 2, 3]) # (3,)\n",
    "b = np.array([[10], [20]]) # (2,1)"
   ]
  },
  {
   "cell_type": "code",
   "execution_count": 39,
   "id": "e7d618d6",
   "metadata": {},
   "outputs": [
    {
     "name": "stdout",
     "output_type": "stream",
     "text": [
      "(3,)\n",
      "(2, 1)\n"
     ]
    }
   ],
   "source": [
    "print(a.shape)\n",
    "print(b.shape)"
   ]
  },
  {
   "cell_type": "code",
   "execution_count": 40,
   "id": "7278d103",
   "metadata": {},
   "outputs": [
    {
     "data": {
      "text/plain": [
       "array([[11, 12, 13],\n",
       "       [21, 22, 23]])"
      ]
     },
     "execution_count": 40,
     "metadata": {},
     "output_type": "execute_result"
    }
   ],
   "source": [
    "a + b\n",
    "\n",
    "# a --> (2,3) [[1, 2, 3], [1, 2, 3]]\n",
    "# b --> [[10, 10, 10], [20, 20, 20]]"
   ]
  },
  {
   "cell_type": "markdown",
   "id": "a1c795a8",
   "metadata": {},
   "source": [
    "# creating arrays from exisiting data"
   ]
  },
  {
   "cell_type": "code",
   "execution_count": 41,
   "id": "319782a6",
   "metadata": {},
   "outputs": [],
   "source": [
    "a = [1,2,3,4]\n",
    "b = ([[1,2], [2,3]])\n",
    "c = (10,20,30)"
   ]
  },
  {
   "cell_type": "code",
   "execution_count": 42,
   "id": "88e8f781",
   "metadata": {},
   "outputs": [
    {
     "name": "stdout",
     "output_type": "stream",
     "text": [
      "[1 2 3 4] int32 <class 'list'>\n"
     ]
    }
   ],
   "source": [
    "a_npy = np.array(a)\n",
    "print(a_npy, a_npy.dtype, type(a))"
   ]
  },
  {
   "cell_type": "code",
   "execution_count": 43,
   "id": "7233c33b",
   "metadata": {},
   "outputs": [
    {
     "name": "stdout",
     "output_type": "stream",
     "text": [
      "[[1 2]\n",
      " [2 3]] int32 <class 'list'>\n"
     ]
    }
   ],
   "source": [
    "b_npy = np.array(b)\n",
    "print(b_npy, b_npy.dtype, type(b))"
   ]
  },
  {
   "cell_type": "code",
   "execution_count": 44,
   "id": "78a49d2c",
   "metadata": {},
   "outputs": [
    {
     "name": "stdout",
     "output_type": "stream",
     "text": [
      "[10 20 30] int32 <class 'tuple'>\n"
     ]
    }
   ],
   "source": [
    "c_npy = np.array(c)\n",
    "print(c_npy, c_npy.dtype, type(c))"
   ]
  },
  {
   "cell_type": "code",
   "execution_count": 45,
   "id": "73241005",
   "metadata": {},
   "outputs": [],
   "source": [
    "# vstack\n",
    "\n",
    "a = np.array([[1,2]])\n",
    "b = np.array([[3,4]])"
   ]
  },
  {
   "cell_type": "code",
   "execution_count": 46,
   "id": "75c2fef1",
   "metadata": {},
   "outputs": [
    {
     "name": "stdout",
     "output_type": "stream",
     "text": [
      "[[1 2]\n",
      " [3 4]]\n"
     ]
    }
   ],
   "source": [
    "print(np.vstack((a,b)))"
   ]
  },
  {
   "cell_type": "code",
   "execution_count": 47,
   "id": "6fc992fd",
   "metadata": {},
   "outputs": [
    {
     "name": "stdout",
     "output_type": "stream",
     "text": [
      "[[1 2 3 4]]\n"
     ]
    }
   ],
   "source": [
    "print(np.hstack((a,b)))"
   ]
  },
  {
   "cell_type": "code",
   "execution_count": 48,
   "id": "7cc1c93c",
   "metadata": {},
   "outputs": [
    {
     "name": "stdout",
     "output_type": "stream",
     "text": [
      "['hello_user' 'world_123']\n"
     ]
    }
   ],
   "source": [
    "# np.char.<function_name>()\n",
    "\n",
    "# 1. np.add()\n",
    "\n",
    "# \"hello\" + \"hello\"\n",
    "\n",
    "a = np.array(['hello', 'world'])\n",
    "b = np.array(['_user', '_123'])\n",
    "\n",
    "print(np.char.add(a, b))"
   ]
  },
  {
   "cell_type": "code",
   "execution_count": 49,
   "id": "e636bfe1",
   "metadata": {},
   "outputs": [
    {
     "name": "stdout",
     "output_type": "stream",
     "text": [
      "['hellohello' 'worldworld']\n"
     ]
    }
   ],
   "source": [
    "# np.char.multiply()\n",
    "\n",
    "print(np.char.multiply(a, 2))"
   ]
  },
  {
   "cell_type": "code",
   "execution_count": 50,
   "id": "64b93593",
   "metadata": {},
   "outputs": [
    {
     "name": "stdout",
     "output_type": "stream",
     "text": [
      "['HELLO' 'WORLD']\n",
      "['hello' 'world']\n",
      "['Hello' 'World']\n"
     ]
    }
   ],
   "source": [
    "# np.char.upper() / lower() / capitalize()\n",
    "\n",
    "a = np.array(['hello', 'WORLD'])\n",
    "\n",
    "print(np.char.upper(a)) \n",
    "print(np.char.lower(a)) \n",
    "print(np.char.capitalize(a)) "
   ]
  },
  {
   "cell_type": "code",
   "execution_count": 51,
   "id": "b2df3d1f",
   "metadata": {},
   "outputs": [
    {
     "name": "stdout",
     "output_type": "stream",
     "text": [
      "['***hello***' '***WORLD***']\n"
     ]
    }
   ],
   "source": [
    "# np.char.center()\n",
    "\n",
    "print(np.char.center(a, 11, fillchar='*'))"
   ]
  },
  {
   "cell_type": "code",
   "execution_count": 55,
   "id": "4cced425",
   "metadata": {},
   "outputs": [],
   "source": [
    "a = np.array(['data_science', 'machine_learning'])"
   ]
  },
  {
   "cell_type": "code",
   "execution_count": 56,
   "id": "ee531b6e",
   "metadata": {},
   "outputs": [
    {
     "name": "stdout",
     "output_type": "stream",
     "text": [
      "['data science' 'machine learning']\n"
     ]
    }
   ],
   "source": [
    "# np.char.replace()\n",
    "\n",
    "print(np.char.replace(a, '_', ' '))"
   ]
  },
  {
   "cell_type": "code",
   "execution_count": 57,
   "id": "274a928d",
   "metadata": {},
   "outputs": [
    {
     "name": "stdout",
     "output_type": "stream",
     "text": [
      "[list(['data', 'science']) list(['machine', 'learning'])]\n"
     ]
    }
   ],
   "source": [
    "# np.char.split()\n",
    "\n",
    "print(np.char.split(a, sep='_'))"
   ]
  },
  {
   "cell_type": "code",
   "execution_count": 58,
   "id": "68a0fe24",
   "metadata": {},
   "outputs": [
    {
     "name": "stdout",
     "output_type": "stream",
     "text": [
      "[-1  8]\n",
      "[2 2]\n",
      "[1 0]\n"
     ]
    }
   ],
   "source": [
    "# np.char.find() / np.char.count()\n",
    "\n",
    "print(np.char.find(a, 'learn')) \n",
    "print(np.char.count(a, 'a'))\n",
    "print(np.char.count(a, 'data'))"
   ]
  },
  {
   "cell_type": "markdown",
   "id": "bb30a617",
   "metadata": {},
   "source": [
    "# statistical functions"
   ]
  },
  {
   "cell_type": "code",
   "execution_count": 59,
   "id": "80dd2ebe",
   "metadata": {},
   "outputs": [],
   "source": [
    "data = np.array([1, 2, 3, 4, 5, 6])"
   ]
  },
  {
   "cell_type": "code",
   "execution_count": 60,
   "id": "ec341125",
   "metadata": {},
   "outputs": [
    {
     "name": "stdout",
     "output_type": "stream",
     "text": [
      "Mean: 3.5\n",
      "Median: 3.5\n",
      "Standard Deviation: 1.707825127659933\n",
      "Variance: 2.9166666666666665\n",
      "Min: 1\n",
      "Max: 6\n"
     ]
    }
   ],
   "source": [
    "print(\"Mean:\", np.mean(data))\n",
    "print(\"Median:\", np.median(data))\n",
    "print(\"Standard Deviation:\", np.std(data))\n",
    "print(\"Variance:\", np.var(data))\n",
    "print(\"Min:\", np.min(data))\n",
    "print(\"Max:\", np.max(data))"
   ]
  },
  {
   "cell_type": "code",
   "execution_count": 61,
   "id": "279624ea",
   "metadata": {},
   "outputs": [
    {
     "name": "stdout",
     "output_type": "stream",
     "text": [
      "Argmin: 0\n",
      "Argmax: 5\n"
     ]
    }
   ],
   "source": [
    "print(\"Argmin:\", np.argmin(data))\n",
    "print(\"Argmax:\", np.argmax(data))"
   ]
  },
  {
   "cell_type": "code",
   "execution_count": 62,
   "id": "4eed7869",
   "metadata": {},
   "outputs": [
    {
     "name": "stdout",
     "output_type": "stream",
     "text": [
      "[2.5 3.5 4.5]\n",
      "[2. 5.]\n"
     ]
    }
   ],
   "source": [
    "matrix = np.array([[1, 2, 3], \n",
    "                   [4, 5, 6]])\n",
    "\n",
    "print(np.mean(matrix, axis=0))\n",
    "print(np.mean(matrix, axis=1))"
   ]
  },
  {
   "cell_type": "code",
   "execution_count": 63,
   "id": "860a33f2",
   "metadata": {},
   "outputs": [
    {
     "name": "stdout",
     "output_type": "stream",
     "text": [
      "5.0\n",
      "9\n"
     ]
    }
   ],
   "source": [
    "data = np.array([1, 3, 5, 7, 9])\n",
    "print(np.percentile(data, 50)) # range 1 - 100\n",
    "print(np.quantile(data, 1)) # range 0 - 1"
   ]
  },
  {
   "cell_type": "markdown",
   "id": "88d2abd1",
   "metadata": {},
   "source": [
    "# sort, search, counting functions"
   ]
  },
  {
   "cell_type": "code",
   "execution_count": 64,
   "id": "6d9575de",
   "metadata": {},
   "outputs": [
    {
     "name": "stdout",
     "output_type": "stream",
     "text": [
      "Sorted: [1 1 1 1 2 3 5 6 6 8]\n",
      "Sorted indices: [2 3 4 5 7 0 8 1 9 6]\n",
      "Insert 4 position: 6\n",
      "Unique elements: [1 2 3 5 6 8]\n",
      "Count of each element: [0 4 1 1 0 1 2 0 1]\n"
     ]
    }
   ],
   "source": [
    "arr = np.array([3, 6, 1, 1, 1, 1, 8, 2, 5, 6])\n",
    "\n",
    "print(\"Sorted:\", np.sort(arr))\n",
    "print(\"Sorted indices:\", np.argsort(arr))\n",
    "print(\"Insert 4 position:\", np.searchsorted(np.sort(arr), 4))\n",
    "print(\"Unique elements:\", np.unique(arr))\n",
    "print(\"Count of each element:\", np.bincount(arr))\n",
    "\n",
    "# min - 1\n",
    "# max - 8\n",
    "# creates an array from 0 to max element (8)\n",
    "# 0, 1, 2, 3, 4, 5, 6, 7, 8 --> len(9)"
   ]
  },
  {
   "cell_type": "code",
   "execution_count": 65,
   "id": "fe965322",
   "metadata": {},
   "outputs": [
    {
     "name": "stdout",
     "output_type": "stream",
     "text": [
      "1\n",
      "2\n",
      "3\n",
      "4\n"
     ]
    }
   ],
   "source": [
    "arr = np.array([1, 2, 3, 4])\n",
    "\n",
    "for x in arr:\n",
    "    print(x)"
   ]
  },
  {
   "cell_type": "code",
   "execution_count": 66,
   "id": "caa4cdd3",
   "metadata": {},
   "outputs": [
    {
     "name": "stdout",
     "output_type": "stream",
     "text": [
      "[1 2]\n",
      "[3 4]\n"
     ]
    }
   ],
   "source": [
    "arr_2d = np.array([[1, 2], [3, 4]])\n",
    "\n",
    "for x in arr_2d:\n",
    "    print(x)"
   ]
  },
  {
   "cell_type": "code",
   "execution_count": 67,
   "id": "56114bce",
   "metadata": {},
   "outputs": [
    {
     "name": "stdout",
     "output_type": "stream",
     "text": [
      "0\n",
      "1\n",
      "2\n",
      "3\n",
      "4\n",
      "5\n",
      "6\n",
      "7\n"
     ]
    }
   ],
   "source": [
    "arr = np.arange(8).reshape(2,2,2)\n",
    "\n",
    "for x in np.nditer(arr):\n",
    "    print(x)"
   ]
  },
  {
   "cell_type": "code",
   "execution_count": 77,
   "id": "afb2f6a6",
   "metadata": {},
   "outputs": [],
   "source": [
    "a = np.array([1, 2, 3])"
   ]
  },
  {
   "cell_type": "code",
   "execution_count": 78,
   "id": "44baf0b0",
   "metadata": {},
   "outputs": [],
   "source": [
    "b = a"
   ]
  },
  {
   "cell_type": "code",
   "execution_count": 79,
   "id": "70003df0",
   "metadata": {},
   "outputs": [
    {
     "name": "stdout",
     "output_type": "stream",
     "text": [
      "2377242434640\n",
      "2377242434640\n"
     ]
    }
   ],
   "source": [
    "print(id(a))\n",
    "print(id(b))"
   ]
  },
  {
   "cell_type": "code",
   "execution_count": 80,
   "id": "82273754",
   "metadata": {},
   "outputs": [],
   "source": [
    "b[0] = 100"
   ]
  },
  {
   "cell_type": "code",
   "execution_count": 81,
   "id": "dba3c577",
   "metadata": {},
   "outputs": [
    {
     "name": "stdout",
     "output_type": "stream",
     "text": [
      "[100   2   3]\n"
     ]
    }
   ],
   "source": [
    "print(a)"
   ]
  },
  {
   "cell_type": "code",
   "execution_count": 82,
   "id": "abe64706",
   "metadata": {},
   "outputs": [],
   "source": [
    "a = np.array([1, 2, 3])\n",
    "\n",
    "b = a.view()\n",
    "\n",
    "c = a.copy()"
   ]
  },
  {
   "cell_type": "code",
   "execution_count": 83,
   "id": "ba2dcb8d",
   "metadata": {},
   "outputs": [
    {
     "name": "stdout",
     "output_type": "stream",
     "text": [
      "[10  2  3]\n"
     ]
    }
   ],
   "source": [
    "b[0] = 10\n",
    "print(a)"
   ]
  },
  {
   "cell_type": "code",
   "execution_count": 84,
   "id": "a30a861c",
   "metadata": {},
   "outputs": [
    {
     "name": "stdout",
     "output_type": "stream",
     "text": [
      "[10  2  3]\n"
     ]
    }
   ],
   "source": [
    "c[0] = 20\n",
    "print(a)"
   ]
  },
  {
   "cell_type": "code",
   "execution_count": 85,
   "id": "fe8bb2f7",
   "metadata": {},
   "outputs": [
    {
     "name": "stdout",
     "output_type": "stream",
     "text": [
      "True\n"
     ]
    }
   ],
   "source": [
    "a = np.arange(5)\n",
    "b = a[1:4] # view\n",
    "print(np.shares_memory(a, b))"
   ]
  },
  {
   "cell_type": "code",
   "execution_count": 86,
   "id": "1dba730c",
   "metadata": {},
   "outputs": [
    {
     "name": "stdout",
     "output_type": "stream",
     "text": [
      "False\n"
     ]
    }
   ],
   "source": [
    "a = np.arange(5)\n",
    "b = a[1:4].copy()\n",
    "print(np.shares_memory(a, b))"
   ]
  },
  {
   "cell_type": "code",
   "execution_count": 87,
   "id": "d837819e",
   "metadata": {},
   "outputs": [
    {
     "name": "stdout",
     "output_type": "stream",
     "text": [
      "[1 2 3 4]\n",
      "[1 2 3 4]\n"
     ]
    }
   ],
   "source": [
    "a = np.array([[1, 2], [3, 4]])\n",
    "print(a.ravel())\n",
    "print(a.flatten())"
   ]
  }
 ],
 "metadata": {
  "kernelspec": {
   "display_name": "base",
   "language": "python",
   "name": "python3"
  },
  "language_info": {
   "codemirror_mode": {
    "name": "ipython",
    "version": 3
   },
   "file_extension": ".py",
   "mimetype": "text/x-python",
   "name": "python",
   "nbconvert_exporter": "python",
   "pygments_lexer": "ipython3",
   "version": "3.12.7"
  }
 },
 "nbformat": 4,
 "nbformat_minor": 5
}
