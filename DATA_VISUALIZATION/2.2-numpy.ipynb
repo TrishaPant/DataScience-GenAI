{
 "cells": [
  {
   "cell_type": "markdown",
   "id": "97426bf6",
   "metadata": {},
   "source": [
    "# np.zeros()"
   ]
  },
  {
   "cell_type": "code",
   "execution_count": 4,
   "id": "693fe3a8",
   "metadata": {},
   "outputs": [],
   "source": [
    "### np.zeros()\n",
    "import numpy as np"
   ]
  },
  {
   "cell_type": "code",
   "execution_count": 5,
   "id": "76a5de5b",
   "metadata": {},
   "outputs": [
    {
     "data": {
      "text/plain": [
       "array([0., 0., 0., 0., 0.])"
      ]
     },
     "execution_count": 5,
     "metadata": {},
     "output_type": "execute_result"
    }
   ],
   "source": [
    "np.zeros(5)"
   ]
  },
  {
   "cell_type": "code",
   "execution_count": 6,
   "id": "6ed86702",
   "metadata": {},
   "outputs": [
    {
     "data": {
      "text/plain": [
       "array([[0., 0., 0., 0., 0.],\n",
       "       [0., 0., 0., 0., 0.],\n",
       "       [0., 0., 0., 0., 0.],\n",
       "       [0., 0., 0., 0., 0.],\n",
       "       [0., 0., 0., 0., 0.]])"
      ]
     },
     "execution_count": 6,
     "metadata": {},
     "output_type": "execute_result"
    }
   ],
   "source": [
    "np.zeros((5,5))"
   ]
  },
  {
   "cell_type": "code",
   "execution_count": 7,
   "id": "c1679f2a",
   "metadata": {},
   "outputs": [
    {
     "data": {
      "text/plain": [
       "(5, 5)"
      ]
     },
     "execution_count": 7,
     "metadata": {},
     "output_type": "execute_result"
    }
   ],
   "source": [
    "np.zeros((5,5)).shape"
   ]
  },
  {
   "cell_type": "code",
   "execution_count": 8,
   "id": "2dc5b27b",
   "metadata": {},
   "outputs": [
    {
     "data": {
      "text/plain": [
       "2"
      ]
     },
     "execution_count": 8,
     "metadata": {},
     "output_type": "execute_result"
    }
   ],
   "source": [
    "np.zeros((5,5)).ndim"
   ]
  },
  {
   "cell_type": "markdown",
   "id": "844b1054",
   "metadata": {},
   "source": [
    "# np.ones()"
   ]
  },
  {
   "cell_type": "code",
   "execution_count": 9,
   "id": "8fe725a9",
   "metadata": {},
   "outputs": [
    {
     "data": {
      "text/plain": [
       "array([[1., 1., 1., 1., 1.],\n",
       "       [1., 1., 1., 1., 1.],\n",
       "       [1., 1., 1., 1., 1.],\n",
       "       [1., 1., 1., 1., 1.],\n",
       "       [1., 1., 1., 1., 1.]])"
      ]
     },
     "execution_count": 9,
     "metadata": {},
     "output_type": "execute_result"
    }
   ],
   "source": [
    "np.ones((5,5))"
   ]
  },
  {
   "cell_type": "code",
   "execution_count": 10,
   "id": "2f5c69d2",
   "metadata": {},
   "outputs": [
    {
     "data": {
      "text/plain": [
       "array([[1, 1, 1, 1, 1],\n",
       "       [1, 1, 1, 1, 1],\n",
       "       [1, 1, 1, 1, 1],\n",
       "       [1, 1, 1, 1, 1],\n",
       "       [1, 1, 1, 1, 1]])"
      ]
     },
     "execution_count": 10,
     "metadata": {},
     "output_type": "execute_result"
    }
   ],
   "source": [
    "np.ones((5,5), dtype=int)"
   ]
  },
  {
   "cell_type": "markdown",
   "id": "60e2294e",
   "metadata": {},
   "source": [
    "# np.full()"
   ]
  },
  {
   "cell_type": "code",
   "execution_count": 11,
   "id": "6619483e",
   "metadata": {},
   "outputs": [],
   "source": [
    "# list of size 10, all filled with value 5"
   ]
  },
  {
   "cell_type": "code",
   "execution_count": 12,
   "id": "9289e51f",
   "metadata": {},
   "outputs": [
    {
     "data": {
      "text/plain": [
       "array([[0, 0, 0, 0, 0],\n",
       "       [0, 0, 0, 0, 0],\n",
       "       [0, 0, 0, 0, 0],\n",
       "       [0, 0, 0, 0, 0],\n",
       "       [0, 0, 0, 0, 0]])"
      ]
     },
     "execution_count": 12,
     "metadata": {},
     "output_type": "execute_result"
    }
   ],
   "source": [
    "np.full((5,5), 0)"
   ]
  },
  {
   "cell_type": "code",
   "execution_count": 13,
   "id": "6fc5f26b",
   "metadata": {},
   "outputs": [
    {
     "data": {
      "text/plain": [
       "array([[100, 100, 100, 100, 100],\n",
       "       [100, 100, 100, 100, 100],\n",
       "       [100, 100, 100, 100, 100],\n",
       "       [100, 100, 100, 100, 100],\n",
       "       [100, 100, 100, 100, 100]])"
      ]
     },
     "execution_count": 13,
     "metadata": {},
     "output_type": "execute_result"
    }
   ],
   "source": [
    "np.full((5,5), 100)"
   ]
  },
  {
   "cell_type": "code",
   "execution_count": 14,
   "id": "7297ed13",
   "metadata": {},
   "outputs": [
    {
     "data": {
      "text/plain": [
       "array([5, 5, 5, 5, 5, 5, 5, 5, 5, 5])"
      ]
     },
     "execution_count": 14,
     "metadata": {},
     "output_type": "execute_result"
    }
   ],
   "source": [
    "np.full(10, 5)\n",
    "# np.full(shape, fill_value)"
   ]
  },
  {
   "cell_type": "markdown",
   "id": "2df2fa39",
   "metadata": {},
   "source": [
    "# np.eye(n)"
   ]
  },
  {
   "cell_type": "code",
   "execution_count": 15,
   "id": "152289ef",
   "metadata": {},
   "outputs": [
    {
     "data": {
      "text/plain": [
       "array([[0., 0., 0., 0., 1., 0.],\n",
       "       [0., 0., 0., 0., 0., 1.],\n",
       "       [0., 0., 0., 0., 0., 0.],\n",
       "       [0., 0., 0., 0., 0., 0.],\n",
       "       [0., 0., 0., 0., 0., 0.],\n",
       "       [0., 0., 0., 0., 0., 0.]])"
      ]
     },
     "execution_count": 15,
     "metadata": {},
     "output_type": "execute_result"
    }
   ],
   "source": [
    "np.eye(6, 6, 4)"
   ]
  },
  {
   "cell_type": "markdown",
   "id": "403b29c4",
   "metadata": {},
   "source": [
    "# np.empty(shape)"
   ]
  },
  {
   "cell_type": "code",
   "execution_count": 36,
   "id": "a80d2fab",
   "metadata": {},
   "outputs": [],
   "source": [
    "a = np.full((5,5), 0)"
   ]
  },
  {
   "cell_type": "code",
   "execution_count": 37,
   "id": "23fce7cc",
   "metadata": {},
   "outputs": [
    {
     "name": "stdout",
     "output_type": "stream",
     "text": [
      "[[0 0 0 0 0]\n",
      " [0 0 0 0 0]\n",
      " [0 0 0 0 0]\n",
      " [0 0 0 0 0]\n",
      " [0 0 0 0 0]]\n"
     ]
    }
   ],
   "source": [
    "print(a)"
   ]
  },
  {
   "cell_type": "code",
   "execution_count": 43,
   "id": "93f875c4",
   "metadata": {},
   "outputs": [
    {
     "data": {
      "text/plain": [
       "array([[1., 1., 1., 1., 1.],\n",
       "       [1., 1., 1., 1., 1.],\n",
       "       [1., 1., 1., 1., 1.],\n",
       "       [1., 1., 1., 1., 1.],\n",
       "       [1., 1., 1., 1., 1.]])"
      ]
     },
     "execution_count": 43,
     "metadata": {},
     "output_type": "execute_result"
    }
   ],
   "source": [
    "np.empty((5,5))"
   ]
  },
  {
   "cell_type": "code",
   "execution_count": 44,
   "id": "d8e28ebb",
   "metadata": {},
   "outputs": [
    {
     "data": {
      "text/plain": [
       "array([[1, 1, 1, 1, 1],\n",
       "       [1, 1, 1, 1, 1],\n",
       "       [1, 1, 1, 1, 1],\n",
       "       [1, 1, 1, 1, 1],\n",
       "       [1, 1, 1, 1, 1]], dtype=int8)"
      ]
     },
     "execution_count": 44,
     "metadata": {},
     "output_type": "execute_result"
    }
   ],
   "source": [
    "np.empty((5,5), dtype=np.int8)"
   ]
  },
  {
   "cell_type": "code",
   "execution_count": 35,
   "id": "955881ab",
   "metadata": {},
   "outputs": [
    {
     "data": {
      "text/plain": [
       "array([[1138201016,        503,         64,          0,          0],\n",
       "       [         0,          0,          0,          0,    6357060],\n",
       "       [ 909260642,  959590502,  962999864, 1717710898, 1714763107],\n",
       "       [1684420405,  859190626, 1664509026,  959985712,  926049072],\n",
       "       [ 925906021,  862019938, 1697659234,  959537975, 1630811952]])"
      ]
     },
     "execution_count": 35,
     "metadata": {},
     "output_type": "execute_result"
    }
   ],
   "source": [
    "np.empty((5,5), dtype=int)"
   ]
  },
  {
   "cell_type": "code",
   "execution_count": 45,
   "id": "141863c1",
   "metadata": {},
   "outputs": [],
   "source": [
    "import time"
   ]
  },
  {
   "cell_type": "markdown",
   "id": "96104734",
   "metadata": {},
   "source": [
    "perf_counter() is used to get high-resolution time counter."
   ]
  },
  {
   "cell_type": "code",
   "execution_count": 48,
   "id": "42db5032",
   "metadata": {},
   "outputs": [
    {
     "name": "stdout",
     "output_type": "stream",
     "text": [
      "0.0001721000298857689\n"
     ]
    }
   ],
   "source": [
    "start_e = time.perf_counter()\n",
    "np.empty((5, 5))\n",
    "end_e = time.perf_counter()\n",
    "total_e = end_e - start_e\n",
    "print(total_e)"
   ]
  },
  {
   "cell_type": "code",
   "execution_count": 49,
   "id": "4e5aabf7",
   "metadata": {},
   "outputs": [
    {
     "name": "stdout",
     "output_type": "stream",
     "text": [
      "0.00016369996592402458\n"
     ]
    }
   ],
   "source": [
    "start_we = time.perf_counter()\n",
    "np.ones((5, 5))\n",
    "end_we = time.perf_counter()\n",
    "total_we = end_we - start_we\n",
    "print(total_we)"
   ]
  },
  {
   "cell_type": "markdown",
   "id": "5dc8a804",
   "metadata": {},
   "source": [
    "# np.random.rand(shape)"
   ]
  },
  {
   "cell_type": "code",
   "execution_count": 71,
   "id": "6f8bed88",
   "metadata": {},
   "outputs": [
    {
     "data": {
      "text/plain": [
       "array([[0.83404213, 0.56871845, 0.55893645, 0.811445  , 0.58786436],\n",
       "       [0.64588133, 0.68151855, 0.70573133, 0.61199401, 0.19146453],\n",
       "       [0.15546924, 0.13729596, 0.51849381, 0.72077404, 0.85782623],\n",
       "       [0.99825123, 0.60140555, 0.69545577, 0.64190428, 0.38903615],\n",
       "       [0.07924651, 0.11408663, 0.89236139, 0.56949207, 0.88397826]])"
      ]
     },
     "execution_count": 71,
     "metadata": {},
     "output_type": "execute_result"
    }
   ],
   "source": [
    "np.random.rand(5,5)"
   ]
  },
  {
   "cell_type": "code",
   "execution_count": 72,
   "id": "2ec3c36a",
   "metadata": {},
   "outputs": [],
   "source": [
    "a = np.random.rand(10)*10"
   ]
  },
  {
   "cell_type": "code",
   "execution_count": 73,
   "id": "c60ba772",
   "metadata": {},
   "outputs": [],
   "source": [
    "a = a.tolist()"
   ]
  },
  {
   "cell_type": "code",
   "execution_count": 74,
   "id": "7177a290",
   "metadata": {},
   "outputs": [
    {
     "data": {
      "text/plain": [
       "[5.95242576729201,\n",
       " 4.091162569065033,\n",
       " 1.662355619928686,\n",
       " 8.306760411444227,\n",
       " 4.559095416849227,\n",
       " 4.800881028275285,\n",
       " 4.028562622028118,\n",
       " 6.85117937598335,\n",
       " 0.6076390205129722,\n",
       " 1.8093770534929254]"
      ]
     },
     "execution_count": 74,
     "metadata": {},
     "output_type": "execute_result"
    }
   ],
   "source": [
    "a"
   ]
  },
  {
   "cell_type": "code",
   "execution_count": 75,
   "id": "c403f326",
   "metadata": {},
   "outputs": [],
   "source": [
    "a = [int(i) for i in a]"
   ]
  },
  {
   "cell_type": "code",
   "execution_count": 76,
   "id": "28e5d63f",
   "metadata": {},
   "outputs": [
    {
     "data": {
      "text/plain": [
       "[5, 4, 1, 8, 4, 4, 4, 6, 0, 1]"
      ]
     },
     "execution_count": 76,
     "metadata": {},
     "output_type": "execute_result"
    }
   ],
   "source": [
    "a"
   ]
  },
  {
   "cell_type": "code",
   "execution_count": 77,
   "id": "4ed8482f",
   "metadata": {},
   "outputs": [
    {
     "data": {
      "text/plain": [
       "[5, 4, 1, 8, 4, 4, 4, 6, 0, 1]"
      ]
     },
     "execution_count": 77,
     "metadata": {},
     "output_type": "execute_result"
    }
   ],
   "source": [
    "a"
   ]
  },
  {
   "cell_type": "code",
   "execution_count": 78,
   "id": "3b397652",
   "metadata": {},
   "outputs": [
    {
     "data": {
      "text/plain": [
       "array([ 6, 10, 10,  5,  5, 10,  3,  4,  2,  9])"
      ]
     },
     "execution_count": 78,
     "metadata": {},
     "output_type": "execute_result"
    }
   ],
   "source": [
    "np.random.randint(1, 11, 10)"
   ]
  },
  {
   "cell_type": "markdown",
   "id": "d782c254",
   "metadata": {},
   "source": [
    "# Questions\n",
    "- A 1D array of numbers from 0 to 9\n",
    "- A 3x3 matrix of all 5s\n",
    "- A 4x4 identity matrix\n",
    "- 10 evenly spaced numbers between 1 and 100\n",
    "- A 2x2 array with random values between 0 and 1"
   ]
  },
  {
   "cell_type": "markdown",
   "id": "200d957b",
   "metadata": {},
   "source": [
    "# Answers\n",
    "\n",
    "\n",
    "A 1D array of numbers from 0 to 9\n",
    "```bash\n",
    "arr1 = np.arange(10)\n",
    "print(arr1)\n",
    "```\n",
    "\n",
    "A 3x3 matrix of all 5s\n",
    "```bash\n",
    "arr2 = np.full((3, 3), 5)\n",
    "print(arr2)\n",
    "```\n",
    "\n",
    "A 4x4 identity matrix\n",
    "```bash\n",
    "arr3 = np.eye(4)\n",
    "print(arr3)\n",
    "```\n",
    "\n",
    "10 evenly spaced numbers between 1 and 100\n",
    "```bash\n",
    "arr4 = np.linspace(1, 100, 10)\n",
    "print(arr4)\n",
    "```\n",
    "\n",
    "A 2x2 array with random values between 0 and 1\n",
    "```bash\n",
    "arr5 = np.random.rand(2, 2)\n",
    "print(arr5)\n",
    "```"
   ]
  },
  {
   "cell_type": "code",
   "execution_count": 58,
   "id": "edfd07f3",
   "metadata": {},
   "outputs": [
    {
     "name": "stdout",
     "output_type": "stream",
     "text": [
      "[0 1 2 3 4 5 6 7 8 9]\n"
     ]
    }
   ],
   "source": [
    "arr1 = np.arange(10)\n",
    "print(arr1)"
   ]
  },
  {
   "cell_type": "code",
   "execution_count": 59,
   "id": "7b21c23c",
   "metadata": {},
   "outputs": [
    {
     "name": "stdout",
     "output_type": "stream",
     "text": [
      "[[5 5 5]\n",
      " [5 5 5]\n",
      " [5 5 5]]\n"
     ]
    }
   ],
   "source": [
    "arr2 = np.full((3, 3), 5)\n",
    "print(arr2)"
   ]
  },
  {
   "cell_type": "code",
   "execution_count": 60,
   "id": "c05a85ed",
   "metadata": {},
   "outputs": [
    {
     "name": "stdout",
     "output_type": "stream",
     "text": [
      "[[1. 0. 0. 0.]\n",
      " [0. 1. 0. 0.]\n",
      " [0. 0. 1. 0.]\n",
      " [0. 0. 0. 1.]]\n"
     ]
    }
   ],
   "source": [
    "arr3 = np.eye(4)\n",
    "print(arr3)"
   ]
  },
  {
   "cell_type": "code",
   "execution_count": 61,
   "id": "e06acb72",
   "metadata": {},
   "outputs": [
    {
     "name": "stdout",
     "output_type": "stream",
     "text": [
      "[  1.  12.  23.  34.  45.  56.  67.  78.  89. 100.]\n"
     ]
    }
   ],
   "source": [
    "arr4 = np.linspace(1, 100, 10)\n",
    "print(arr4)"
   ]
  },
  {
   "cell_type": "code",
   "execution_count": 62,
   "id": "f541f0ff",
   "metadata": {},
   "outputs": [
    {
     "name": "stdout",
     "output_type": "stream",
     "text": [
      "[[0.40611115 0.95628016]\n",
      " [0.61967439 0.04794354]]\n"
     ]
    }
   ],
   "source": [
    "arr5 = np.random.rand(2, 2)\n",
    "print(arr5)"
   ]
  },
  {
   "cell_type": "markdown",
   "id": "e445beef",
   "metadata": {},
   "source": [
    "# numpy attributes"
   ]
  },
  {
   "cell_type": "code",
   "execution_count": 63,
   "id": "25ae2ba8",
   "metadata": {},
   "outputs": [],
   "source": [
    "arr = np.array([[1, 2, 3], [4, 5, 6]])"
   ]
  },
  {
   "cell_type": "code",
   "execution_count": 64,
   "id": "b9d8bfe6",
   "metadata": {},
   "outputs": [
    {
     "name": "stdout",
     "output_type": "stream",
     "text": [
      "[[1 2 3]\n",
      " [4 5 6]]\n"
     ]
    }
   ],
   "source": [
    "print(arr)"
   ]
  },
  {
   "cell_type": "code",
   "execution_count": 65,
   "id": "a1a1af92",
   "metadata": {},
   "outputs": [
    {
     "data": {
      "text/plain": [
       "(2, 3)"
      ]
     },
     "execution_count": 65,
     "metadata": {},
     "output_type": "execute_result"
    }
   ],
   "source": [
    "arr.shape"
   ]
  },
  {
   "cell_type": "code",
   "execution_count": 66,
   "id": "2deaaf4e",
   "metadata": {},
   "outputs": [
    {
     "data": {
      "text/plain": [
       "2"
      ]
     },
     "execution_count": 66,
     "metadata": {},
     "output_type": "execute_result"
    }
   ],
   "source": [
    "arr.ndim"
   ]
  },
  {
   "cell_type": "code",
   "execution_count": 67,
   "id": "37f63ccf",
   "metadata": {},
   "outputs": [
    {
     "data": {
      "text/plain": [
       "dtype('int32')"
      ]
     },
     "execution_count": 67,
     "metadata": {},
     "output_type": "execute_result"
    }
   ],
   "source": [
    "arr.dtype"
   ]
  },
  {
   "cell_type": "markdown",
   "id": "9d354f2d",
   "metadata": {},
   "source": [
    "# ndarray.itemsize"
   ]
  },
  {
   "cell_type": "code",
   "execution_count": 68,
   "id": "0fb71fcb",
   "metadata": {},
   "outputs": [
    {
     "data": {
      "text/plain": [
       "4"
      ]
     },
     "execution_count": 68,
     "metadata": {},
     "output_type": "execute_result"
    }
   ],
   "source": [
    "arr.itemsize # size in bytes of one element"
   ]
  },
  {
   "cell_type": "code",
   "execution_count": 69,
   "id": "5b5096fb",
   "metadata": {},
   "outputs": [],
   "source": [
    "# 1 gb --> 1024 mb\n",
    "# 1 mb --> 1024 kb\n",
    "# 1 kb --> 1024 bytes\n",
    "# 1 byte --> 8 bit\n",
    "\n",
    "# Java\n",
    "# - int --> 4 bytes\n",
    "# - float --> 4 bytes\n",
    "# - char --> 1 byte"
   ]
  },
  {
   "cell_type": "code",
   "execution_count": 79,
   "id": "828b5734",
   "metadata": {},
   "outputs": [],
   "source": [
    "# import sys\n",
    "\n",
    "# print(\"Size of int:\", sys.getsizeof(int()))  # Integer\n",
    "# print(\"Size of float:\", sys.getsizeof(float()))  # Floating-point number\n",
    "# print(\"Size of str:\", sys.getsizeof(str()))  # String\n",
    "# print(\"Size of list:\", sys.getsizeof(list()))  # List\n",
    "# print(\"Size of tuple:\", sys.getsizeof(tuple()))  # Tuple\n",
    "# print(\"Size of dict:\", sys.getsizeof(dict()))  # Dictionary\n",
    "# print(\"Size of set:\", sys.getsizeof(set()))  # Set\n"
   ]
  },
  {
   "cell_type": "code",
   "execution_count": 80,
   "id": "f38b5764",
   "metadata": {},
   "outputs": [
    {
     "data": {
      "text/plain": [
       "24"
      ]
     },
     "execution_count": 80,
     "metadata": {},
     "output_type": "execute_result"
    }
   ],
   "source": [
    "arr.nbytes # total number of bytes consumed by the array"
   ]
  },
  {
   "cell_type": "code",
   "execution_count": 81,
   "id": "698b38b7",
   "metadata": {},
   "outputs": [],
   "source": [
    "arr = np.array([[1, 2, 3], [4, 5, 6]])"
   ]
  },
  {
   "cell_type": "code",
   "execution_count": 82,
   "id": "4ff9a573",
   "metadata": {},
   "outputs": [
    {
     "data": {
      "text/plain": [
       "array([[1, 2, 3],\n",
       "       [4, 5, 6]])"
      ]
     },
     "execution_count": 82,
     "metadata": {},
     "output_type": "execute_result"
    }
   ],
   "source": [
    "arr"
   ]
  },
  {
   "cell_type": "code",
   "execution_count": 83,
   "id": "74c9b2bd",
   "metadata": {},
   "outputs": [
    {
     "data": {
      "text/plain": [
       "array([[1, 4],\n",
       "       [2, 5],\n",
       "       [3, 6]])"
      ]
     },
     "execution_count": 83,
     "metadata": {},
     "output_type": "execute_result"
    }
   ],
   "source": [
    "arr.T"
   ]
  },
  {
   "cell_type": "code",
   "execution_count": 84,
   "id": "737d5f34",
   "metadata": {},
   "outputs": [],
   "source": [
    "a = np.array([[1,2,3], [4,5,6]])"
   ]
  },
  {
   "cell_type": "code",
   "execution_count": 85,
   "id": "9faec186",
   "metadata": {},
   "outputs": [
    {
     "name": "stdout",
     "output_type": "stream",
     "text": [
      "(2, 3)\n",
      "(3, 2)\n"
     ]
    }
   ],
   "source": [
    "print(a.shape)\n",
    "print(a.T.shape)"
   ]
  },
  {
   "cell_type": "code",
   "execution_count": 86,
   "id": "e2d7ba4e",
   "metadata": {},
   "outputs": [
    {
     "name": "stdout",
     "output_type": "stream",
     "text": [
      "[[1 2 3]\n",
      " [4 5 6]]\n",
      "[[1 4]\n",
      " [2 5]\n",
      " [3 6]]\n"
     ]
    }
   ],
   "source": [
    "print(a)\n",
    "print(a.T)"
   ]
  },
  {
   "cell_type": "code",
   "execution_count": 87,
   "id": "cfced0ac",
   "metadata": {},
   "outputs": [
    {
     "name": "stdout",
     "output_type": "stream",
     "text": [
      "[[3 3 3 3 3]\n",
      " [3 3 3 3 3]\n",
      " [3 3 3 3 3]]\n",
      "[[3 3 3]\n",
      " [3 3 3]\n",
      " [3 3 3]\n",
      " [3 3 3]\n",
      " [3 3 3]]\n"
     ]
    }
   ],
   "source": [
    "z = np.full((3,5),3)\n",
    "print(z)\n",
    "z = z.T\n",
    "print(z)"
   ]
  },
  {
   "cell_type": "markdown",
   "id": "4d5a334f",
   "metadata": {},
   "source": [
    "# indexing and slicing"
   ]
  },
  {
   "cell_type": "code",
   "execution_count": 88,
   "id": "30658135",
   "metadata": {},
   "outputs": [],
   "source": [
    "arr = np.array([10,20,30,40,50,60])"
   ]
  },
  {
   "cell_type": "code",
   "execution_count": 89,
   "id": "dc0e15ae",
   "metadata": {},
   "outputs": [
    {
     "name": "stdout",
     "output_type": "stream",
     "text": [
      "10\n",
      "60\n"
     ]
    }
   ],
   "source": [
    "print(arr[0])\n",
    "print(arr[-1])"
   ]
  },
  {
   "cell_type": "code",
   "execution_count": 90,
   "id": "f1c75d2b",
   "metadata": {},
   "outputs": [
    {
     "name": "stdout",
     "output_type": "stream",
     "text": [
      "[20 30 40]\n",
      "[10 20 30]\n",
      "[10 20 30]\n"
     ]
    }
   ],
   "source": [
    "print(arr[1:4])\n",
    "print(arr[:3])\n",
    "print(arr[0:3])"
   ]
  },
  {
   "cell_type": "code",
   "execution_count": 91,
   "id": "1595e07e",
   "metadata": {},
   "outputs": [
    {
     "name": "stdout",
     "output_type": "stream",
     "text": [
      "[10 30 50]\n"
     ]
    }
   ],
   "source": [
    "print(arr[::2]) # (start with 0 and step size 2)"
   ]
  },
  {
   "cell_type": "code",
   "execution_count": 94,
   "id": "df8dda10",
   "metadata": {},
   "outputs": [],
   "source": [
    "mat = np.array([[1, 2, 3],\n",
    "                [4, 5, 6],\n",
    "                [7, 8, 9]])"
   ]
  },
  {
   "cell_type": "code",
   "execution_count": 95,
   "id": "68cc22c0",
   "metadata": {},
   "outputs": [
    {
     "name": "stdout",
     "output_type": "stream",
     "text": [
      "2\n",
      "[4 5 6]\n",
      "[3 6 9]\n",
      "[3 6 9]\n"
     ]
    }
   ],
   "source": [
    "print(mat[0,1])\n",
    "print(mat[1])\n",
    "print(mat[:,2])\n",
    "print(mat[:,-1])"
   ]
  },
  {
   "cell_type": "code",
   "execution_count": 96,
   "id": "1481eb6f",
   "metadata": {},
   "outputs": [
    {
     "name": "stdout",
     "output_type": "stream",
     "text": [
      "[[2 3]\n",
      " [5 6]]\n"
     ]
    }
   ],
   "source": [
    "print(mat[0:2,1:])"
   ]
  },
  {
   "cell_type": "code",
   "execution_count": 97,
   "id": "8b01bfda",
   "metadata": {},
   "outputs": [],
   "source": [
    "arr_temp = np.array([1,2,3,4,5,6,7,8,9])"
   ]
  },
  {
   "cell_type": "code",
   "execution_count": 98,
   "id": "b80da82f",
   "metadata": {},
   "outputs": [
    {
     "data": {
      "text/plain": [
       "array([9, 8, 7, 6, 5, 4, 3, 2, 1])"
      ]
     },
     "execution_count": 98,
     "metadata": {},
     "output_type": "execute_result"
    }
   ],
   "source": [
    "arr_temp[::-1]"
   ]
  },
  {
   "cell_type": "code",
   "execution_count": 99,
   "id": "71648c1e",
   "metadata": {},
   "outputs": [
    {
     "name": "stdout",
     "output_type": "stream",
     "text": [
      "[[9 8 7]\n",
      " [6 5 4]\n",
      " [3 2 1]]\n"
     ]
    }
   ],
   "source": [
    "# [[9, 8, 7],\n",
    "# [6, 5, 4],\n",
    "# [3, 2, 1]]\n",
    "\n",
    "print(mat[::-1, ::-1])"
   ]
  },
  {
   "cell_type": "code",
   "execution_count": 100,
   "id": "09b3adfb",
   "metadata": {},
   "outputs": [],
   "source": [
    "arr = np.array([5, 10, 15, 20, 25])"
   ]
  },
  {
   "cell_type": "code",
   "execution_count": 101,
   "id": "455ad237",
   "metadata": {},
   "outputs": [
    {
     "data": {
      "text/plain": [
       "array([False, False,  True,  True,  True])"
      ]
     },
     "execution_count": 101,
     "metadata": {},
     "output_type": "execute_result"
    }
   ],
   "source": [
    "arr>10"
   ]
  },
  {
   "cell_type": "code",
   "execution_count": 102,
   "id": "9d96aa69",
   "metadata": {},
   "outputs": [
    {
     "name": "stdout",
     "output_type": "stream",
     "text": [
      "[15 20 25]\n"
     ]
    }
   ],
   "source": [
    "print(arr[arr>10]) # boolean indexing"
   ]
  },
  {
   "cell_type": "code",
   "execution_count": 103,
   "id": "fed83448",
   "metadata": {},
   "outputs": [
    {
     "data": {
      "text/plain": [
       "array([ 5, 20, 25])"
      ]
     },
     "execution_count": 103,
     "metadata": {},
     "output_type": "execute_result"
    }
   ],
   "source": [
    "index = [0,3,4]\n",
    "arr[index]"
   ]
  },
  {
   "cell_type": "code",
   "execution_count": 104,
   "id": "d828d8ce",
   "metadata": {},
   "outputs": [
    {
     "name": "stdout",
     "output_type": "stream",
     "text": [
      "[50 10 15 20 25]\n"
     ]
    }
   ],
   "source": [
    "arr[0] = 50\n",
    "print(arr)"
   ]
  },
  {
   "cell_type": "markdown",
   "id": "af574457",
   "metadata": {},
   "source": [
    "# indexing with np.where()"
   ]
  },
  {
   "cell_type": "code",
   "execution_count": 105,
   "id": "b71cb732",
   "metadata": {},
   "outputs": [],
   "source": [
    "arr = np.array([10, 15, 20, 25, 30])"
   ]
  },
  {
   "cell_type": "code",
   "execution_count": 106,
   "id": "81dcbb83",
   "metadata": {},
   "outputs": [
    {
     "name": "stdout",
     "output_type": "stream",
     "text": [
      "(array([3, 4], dtype=int64),)\n"
     ]
    }
   ],
   "source": [
    "idx = np.where(arr>20)\n",
    "print(idx)"
   ]
  },
  {
   "cell_type": "code",
   "execution_count": 107,
   "id": "e85d776f",
   "metadata": {},
   "outputs": [
    {
     "name": "stdout",
     "output_type": "stream",
     "text": [
      "[25 30]\n"
     ]
    }
   ],
   "source": [
    "print(arr[idx])"
   ]
  },
  {
   "cell_type": "markdown",
   "id": "2028fdf6",
   "metadata": {},
   "source": [
    "# array reshaping and resizing"
   ]
  },
  {
   "cell_type": "code",
   "execution_count": 108,
   "id": "79fa7b1b",
   "metadata": {},
   "outputs": [],
   "source": [
    "arr = np.array([1, 2, 3, 4, 5, 6])"
   ]
  },
  {
   "cell_type": "code",
   "execution_count": 109,
   "id": "b024bb79",
   "metadata": {},
   "outputs": [
    {
     "data": {
      "text/plain": [
       "(6,)"
      ]
     },
     "execution_count": 109,
     "metadata": {},
     "output_type": "execute_result"
    }
   ],
   "source": [
    "arr.shape"
   ]
  },
  {
   "cell_type": "code",
   "execution_count": 110,
   "id": "de7d9da7",
   "metadata": {},
   "outputs": [],
   "source": [
    "reshaped = arr.reshape(2,3)"
   ]
  },
  {
   "cell_type": "code",
   "execution_count": 111,
   "id": "d7f9ac95",
   "metadata": {},
   "outputs": [
    {
     "name": "stdout",
     "output_type": "stream",
     "text": [
      "[[1 2 3]\n",
      " [4 5 6]]\n"
     ]
    }
   ],
   "source": [
    "print(reshaped)"
   ]
  },
  {
   "cell_type": "code",
   "execution_count": 112,
   "id": "d10c6df4",
   "metadata": {},
   "outputs": [],
   "source": [
    "arr = np.array([1, 2, 3, 4, 5, 6,7,8,9,10,11,12])"
   ]
  },
  {
   "cell_type": "code",
   "execution_count": 113,
   "id": "9c077470",
   "metadata": {},
   "outputs": [],
   "source": [
    "reshaped = arr.reshape(3,-1)"
   ]
  },
  {
   "cell_type": "code",
   "execution_count": 114,
   "id": "8a03bcf9",
   "metadata": {},
   "outputs": [
    {
     "name": "stdout",
     "output_type": "stream",
     "text": [
      "[[ 1  2  3  4]\n",
      " [ 5  6  7  8]\n",
      " [ 9 10 11 12]]\n"
     ]
    }
   ],
   "source": [
    "print(reshaped)"
   ]
  },
  {
   "cell_type": "code",
   "execution_count": 115,
   "id": "ee907d7f",
   "metadata": {},
   "outputs": [
    {
     "data": {
      "text/plain": [
       "(3, 4)"
      ]
     },
     "execution_count": 115,
     "metadata": {},
     "output_type": "execute_result"
    }
   ],
   "source": [
    "reshaped.shape"
   ]
  },
  {
   "cell_type": "code",
   "execution_count": 116,
   "id": "3c0b7792",
   "metadata": {},
   "outputs": [],
   "source": [
    "a = np.array([[1, 2], [3, 4]])"
   ]
  },
  {
   "cell_type": "code",
   "execution_count": 117,
   "id": "c10290a5",
   "metadata": {},
   "outputs": [],
   "source": [
    "b = a.flatten()"
   ]
  },
  {
   "cell_type": "code",
   "execution_count": 118,
   "id": "902a57ca",
   "metadata": {},
   "outputs": [
    {
     "data": {
      "text/plain": [
       "array([1, 2, 3, 4])"
      ]
     },
     "execution_count": 118,
     "metadata": {},
     "output_type": "execute_result"
    }
   ],
   "source": [
    "b"
   ]
  },
  {
   "cell_type": "code",
   "execution_count": 122,
   "id": "7eb20970",
   "metadata": {},
   "outputs": [],
   "source": [
    "a = np.array([1, 2, 3, 4])"
   ]
  },
  {
   "cell_type": "code",
   "execution_count": 123,
   "id": "11b80112",
   "metadata": {},
   "outputs": [],
   "source": [
    "a.resize((2,3))"
   ]
  },
  {
   "cell_type": "code",
   "execution_count": 124,
   "id": "c628b4bc",
   "metadata": {},
   "outputs": [
    {
     "name": "stdout",
     "output_type": "stream",
     "text": [
      "[[1 2 3]\n",
      " [4 0 0]]\n"
     ]
    }
   ],
   "source": [
    "print(a)"
   ]
  },
  {
   "cell_type": "code",
   "execution_count": 125,
   "id": "95793755",
   "metadata": {},
   "outputs": [],
   "source": [
    "a = np.array([1, 2, 3, 4])"
   ]
  },
  {
   "cell_type": "code",
   "execution_count": 126,
   "id": "70a9d420",
   "metadata": {},
   "outputs": [],
   "source": [
    "a.resize((2,1))"
   ]
  },
  {
   "cell_type": "code",
   "execution_count": 127,
   "id": "f7149783",
   "metadata": {},
   "outputs": [
    {
     "name": "stdout",
     "output_type": "stream",
     "text": [
      "[[1]\n",
      " [2]]\n"
     ]
    }
   ],
   "source": [
    "print(a)"
   ]
  },
  {
   "cell_type": "code",
   "execution_count": 128,
   "id": "36678b29",
   "metadata": {},
   "outputs": [],
   "source": [
    "# reshape will throw error if values are insufficient\n",
    "# resize will truncate or padd with zeros"
   ]
  },
  {
   "cell_type": "markdown",
   "id": "7e530a02",
   "metadata": {},
   "source": [
    "12, (4,5)--> 20 --> reshape will throw error\n",
    "12, (4,5) --> 20 --> resize, it will pad extra element with 0\n",
    "\n",
    "12-> 8--> 0"
   ]
  },
  {
   "cell_type": "code",
   "execution_count": 129,
   "id": "59546cc5",
   "metadata": {},
   "outputs": [
    {
     "name": "stdout",
     "output_type": "stream",
     "text": [
      "(2, 3, 1)\n"
     ]
    }
   ],
   "source": [
    "a = np.array([[[1],[2],[3]], [[1],[2],[3]]])\n",
    "print(a.shape)"
   ]
  },
  {
   "cell_type": "code",
   "execution_count": 130,
   "id": "9d025a9e",
   "metadata": {},
   "outputs": [
    {
     "name": "stdout",
     "output_type": "stream",
     "text": [
      "(3, 1)\n"
     ]
    }
   ],
   "source": [
    "a = np.array([[1],[2],[3]])\n",
    "print(a.shape)"
   ]
  },
  {
   "cell_type": "code",
   "execution_count": 131,
   "id": "0e082009",
   "metadata": {},
   "outputs": [
    {
     "name": "stdout",
     "output_type": "stream",
     "text": [
      "(1, 3, 1)\n"
     ]
    }
   ],
   "source": [
    "a = np.array([[[1],[2],[3]]])\n",
    "print(a.shape)"
   ]
  },
  {
   "cell_type": "code",
   "execution_count": 132,
   "id": "9ddd1891",
   "metadata": {},
   "outputs": [
    {
     "name": "stdout",
     "output_type": "stream",
     "text": [
      "(2, 3, 1)\n",
      "(2, 3)\n",
      "[[1 2 3]\n",
      " [1 2 3]]\n"
     ]
    }
   ],
   "source": [
    "a = np.array([[[1],[2],[3]], [[1],[2],[3]]])\n",
    "print(a.shape)\n",
    "b = np.squeeze(a)\n",
    "print(b.shape)\n",
    "print(b)"
   ]
  },
  {
   "cell_type": "code",
   "execution_count": 133,
   "id": "60c3c880",
   "metadata": {},
   "outputs": [
    {
     "name": "stdout",
     "output_type": "stream",
     "text": [
      "(2, 3)\n",
      "[[1 2 3]\n",
      " [1 2 3]]\n"
     ]
    }
   ],
   "source": [
    "b = np.squeeze(a)\n",
    "print(b.shape)\n",
    "print(b)"
   ]
  },
  {
   "cell_type": "code",
   "execution_count": 137,
   "id": "b4f0449d",
   "metadata": {},
   "outputs": [
    {
     "name": "stdout",
     "output_type": "stream",
     "text": [
      "(1, 3, 1)\n",
      "(3, 1)\n",
      "[[1]\n",
      " [2]\n",
      " [3]]\n"
     ]
    }
   ],
   "source": [
    "a = np.array([[[1],[2],[3]]])\n",
    "print(a.shape)\n",
    "b = np.squeeze(a, axis=0)\n",
    "print(b.shape)\n",
    "print(b)"
   ]
  },
  {
   "cell_type": "code",
   "execution_count": 135,
   "id": "0cf384a6",
   "metadata": {},
   "outputs": [
    {
     "name": "stdout",
     "output_type": "stream",
     "text": [
      "[[[1]\n",
      "  [2]\n",
      "  [3]]]\n"
     ]
    }
   ],
   "source": [
    "b = np.array([b])\n",
    "print(b)"
   ]
  },
  {
   "cell_type": "code",
   "execution_count": 138,
   "id": "5329cf2f",
   "metadata": {},
   "outputs": [],
   "source": [
    "a = np.array([\n",
    "                [1,2,3],\n",
    "                [1,2,3],\n",
    "                [1,2,3]\n",
    "            ])"
   ]
  },
  {
   "cell_type": "code",
   "execution_count": 139,
   "id": "9f38cfe9",
   "metadata": {},
   "outputs": [
    {
     "name": "stdout",
     "output_type": "stream",
     "text": [
      "[3 6 9]\n"
     ]
    }
   ],
   "source": [
    "print(np.sum(a, axis=0)) # rows wise"
   ]
  },
  {
   "cell_type": "code",
   "execution_count": 140,
   "id": "e06e8e55",
   "metadata": {},
   "outputs": [
    {
     "name": "stdout",
     "output_type": "stream",
     "text": [
      "[6 6 6]\n"
     ]
    }
   ],
   "source": [
    "print(np.sum(a, axis=1)) # column wise"
   ]
  }
 ],
 "metadata": {
  "kernelspec": {
   "display_name": "base",
   "language": "python",
   "name": "python3"
  },
  "language_info": {
   "codemirror_mode": {
    "name": "ipython",
    "version": 3
   },
   "file_extension": ".py",
   "mimetype": "text/x-python",
   "name": "python",
   "nbconvert_exporter": "python",
   "pygments_lexer": "ipython3",
   "version": "3.12.7"
  }
 },
 "nbformat": 4,
 "nbformat_minor": 5
}
